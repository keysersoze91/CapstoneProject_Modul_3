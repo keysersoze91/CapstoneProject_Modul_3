{
 "cells": [
  {
   "cell_type": "markdown",
   "metadata": {},
   "source": [
    "# TRAVEL INSURANCE PREDICT IMBALANCE CLAIMS STATUS"
   ]
  },
  {
   "cell_type": "markdown",
   "metadata": {},
   "source": [
    "## BUSSINESS PROBLEM UNDERSTANDING"
   ]
  },
  {
   "cell_type": "markdown",
   "metadata": {},
   "source": [
    "**CONTEXT**\n",
    "\n",
    "Sebuah perusahaan dibidang asuransi perjalanan ingin merekrut tim data scientist untuk melakukan analisis terhadap orang-orang yang melakukan registrasi untuk klaim asuransi perjalanan mereka. Perusahaan asuransi perjalanan ini ingin mengetahui kandidat yang benar-benar berhak mendapatkan klaim asuransi, karena jika perusahaan tidak dapat mengetahui kandidat yang benar-benar berhak mendapatkan klaim asuransi atau salah memberikan klaim asuransi kepada orang yang tidak tepat, maka ada kemungkinan perusahaan asuransi perjalanan ini akan mendapatkan kerugian dan juga dapat mengurangi biaya asuransi yang dikeluarkan oleh pihak perusahaan. Informasi terkait data yang dibutuhkan sudah dipegang oleh pihak perusahaan dan diberikan kepada tim data scientist untuk segera dapat di analisis."
   ]
  },
  {
   "cell_type": "markdown",
   "metadata": {},
   "source": [
    "**PROBLEM STATEMENT**\n",
    "\n",
    "Proses pemberian klaim asuransi kepada orang-orang yang berhak mendapatkan maupun yang tidak berhak mendapatkan membutuhkan waktu yang cukup panjang, dan membutuhkan kejelian dalam memberikan keputusan kepada orang-orang yang berhak mendapatkan maupun tidak, jika perusahaan memberikan klaim asuransi kepada orang-orang yang tidak tepat mendapatkan klaim asuransi, maka kemungkinan besar perusahaan asuransi perjalanan ini mendapatkan kerugian biaya pengeluaran yang cukup besar. Dan juga jika diberikan kepada orang-orang yang tepat, maka perusahaan bisa mendapatkan kepuasaan yang baik terhadap pelanggan dan mendapatkan loyalitas dari pelanggan tersebut. Dimana perusahaan bisa mendapatkan keuntungan yang lebih dari pelanggan yang loyal tersebut."
   ]
  },
  {
   "cell_type": "markdown",
   "metadata": {},
   "source": [
    "**GOALS**\n",
    "\n",
    "Maka berdasarkan dari permasalahan tersebut, perusahaan asuransi perjalanan ingin memiliki kemampuan untuk melakukan prediksi kemungkinan orang-orang yang berhak mendapatkan klaim asuransi perjalanan maupun tidak, sehingga perusahaan dapat menghindari kerugian biaya yang besar dari orang yang tidak tepat mendapatkan klaim asuransi perjalanan."
   ]
  },
  {
   "cell_type": "markdown",
   "metadata": {},
   "source": [
    "**ANALYTIC APPROACH**\n",
    "\n",
    "Jadi yang akan tim data scientist lakukan adalah menganalisis data untuk menemukan pola yang tidak seimbang terhadap orang-orang yang tepat atau berhak mendapatkan klaim asuransi maupun yang tidak tepat mendapatkan klaim asuransi.\n",
    "\n",
    "Kemudian tim data scientist akan membangun model klasifikasi yang akan membantu perusahaan asuransi perjalanan ini untuk dapat memprediksi orang-orang yang berhak mendapatkan klaim asuransi maupun yang tidak mendapatkan klaim asuransi."
   ]
  },
  {
   "cell_type": "markdown",
   "metadata": {},
   "source": [
    "**METRIC EVALUATION**\n",
    "\n",
    "**TARGET**\n",
    "\n",
    "0 : TIDAK mendapatkan klaim asuransi (claim status = NO)\n",
    "\n",
    "1 : Mendapatkan klaim asuransi (claim status = YES)\n",
    "\n",
    "<img src='predval.png'>\n",
    "\n",
    "**CONFUSSION MATRIX STATEMENT**\n",
    "\n",
    "* True Positive (TP) : Orang yang secara AKTUAL mendapatkan klaim (1) dan hasil PREDIKSI menunjukan orang itu Mendapatkan klaim (1)\n",
    "* True Negative (TN) : Orang yang secara AKTUAL TIDAK Mendapatkan klaim (0) dan hasil PREDIKSI menunjukan orang itu TIDAK Mendapatkan klaim (0) \n",
    "* False Negative (FN): Orang yang secara AKTUAL Mendapatkan klaim (1) TETAPI, hasil PREDIKSI menunjukan orang itu TIDAK Mendapatkan klaim (0) \n",
    "* False Positive (FP): Orang yang secara AKTUAL TIDAK Mendapatkan klaim (0) TETAPI, hasil PREDIKSI menunjukan orang itu Mendapatkan klaim (1)\n",
    "\n",
    "**CONSEQUENCE**\n",
    "\n",
    "* FP (type 1 error): Orang yang seharusnya tidak mendapatkan klaim asuransi tetapi prediksi menilai mendapatkan klaim, berpotensi perusahaan akan mendapatkan kerugian pengeluaran untuk klaim asuransi yg seharusnya tidak didapatkan oleh pelanggan.\n",
    "\n",
    "* FN (type 2 error): Orang yang seharusnya mendapatkan klaim tetapi prediksi menilai TIDAK mendapatkan klaim, berpotensi perusahaan akan kehilangan loyalitas pelanggan, ataupun kehilangan pelanggan potensial.\n",
    "\n",
    "**METRICS**\n",
    "\n",
    "Berdasarkan konsekuensi yang sudah di analisa, maka kita harus mengurangi potensi False Positive (FP) yang terjadi, karena perusahaan bisa mendapatkan kerugian yg cukup besar. Maka kita dapat menggunakan metrics F1-Score."
   ]
  },
  {
   "cell_type": "markdown",
   "metadata": {},
   "source": [
    "# DATA UNDERSTANDING"
   ]
  },
  {
   "cell_type": "markdown",
   "metadata": {},
   "source": [
    "Note :\n",
    "* Dataset tidak seimbang atau imbalanced\n",
    "* Sebagian fitur adalah kategorikal\n",
    "* Setiap baris data merepresentasikan informasi orang yang bisa mendapatkan klaim asuransi atau tidak"
   ]
  },
  {
   "cell_type": "markdown",
   "metadata": {},
   "source": [
    "**ATTRIBUTE INFORMATION**\n",
    "\n",
    "| Attribute | Data Type, Length | Description |\n",
    "| --- | --- | --- |\n",
    "| Agency | Text | Unique ID agen asuransi |\n",
    "| Agency Type | Text | Nama agen asuransi |\n",
    "| Distribution Channel | Text | Tipe distribusi agency |\n",
    "| Product Name | Text | Nama produk asuransi |\n",
    "| relevent_experience | Text | Relevant experience of candidate |\n",
    "| Gender | Text | Jenis kelamin pelanggan |\n",
    "| Duration | Int | Durasi produk asuransi |\n",
    "| Destination | Text | Tujuan perjalanan |\n",
    "| Net Sales | Float | Jumlah penjualan asuransi perjalanan |\n",
    "| Commision (in value) | Float | Komisi yang diterima untuk agen asuransi |\n",
    "| Age | Int | Usia pelanggan asuransi |\n",
    "| Claim | Text | Status klaim asuransi |"
   ]
  },
  {
   "cell_type": "markdown",
   "metadata": {},
   "source": [
    "**IMPORT LIBRARY**"
   ]
  },
  {
   "cell_type": "code",
   "execution_count": 6,
   "metadata": {},
   "outputs": [],
   "source": [
    "# Dataframe\n",
    "import numpy as np\n",
    "import pandas as pd\n",
    "\n",
    "# visualisation\n",
    "import seaborn as sns\n",
    "import matplotlib.pyplot as plt\n",
    "import missingno\n",
    "from IPython.display import display\n",
    "import plotly.express as px\n",
    "\n",
    "# Feature Engineering\n",
    "from sklearn.pipeline import Pipeline\n",
    "from sklearn.impute import SimpleImputer\n",
    "from sklearn.preprocessing import OneHotEncoder, MinMaxScaler\n",
    "from sklearn.compose import ColumnTransformer\n",
    "import category_encoders as ce\n",
    "\n",
    "# basic model\n",
    "from sklearn.linear_model import RidgeClassifier\n",
    "from sklearn.neighbors import KNeighborsClassifier\n",
    "from sklearn.tree import DecisionTreeClassifier, plot_tree\n",
    "from sklearn.model_selection import GridSearchCV,StratifiedKFold,train_test_split, cross_val_score, cross_validate,RandomizedSearchCV\n",
    "\n",
    "# ensemble model\n",
    "from sklearn.ensemble import RandomForestClassifier, BaggingClassifier\n",
    "from sklearn.ensemble import AdaBoostClassifier\n",
    "from sklearn.ensemble import GradientBoostingClassifier\n",
    "from xgboost import XGBClassifier\n",
    "\n",
    "# metrics\n",
    "from sklearn.metrics import f1_score, accuracy_score, recall_score, precision_score\n",
    "from sklearn.metrics import classification_report, confusion_matrix\n",
    "\n",
    "# Imbalance Dataset\n",
    "from imblearn.pipeline import Pipeline\n",
    "from imblearn.under_sampling import RandomUnderSampler\n",
    "from imblearn.over_sampling import SMOTENC\n",
    "\n",
    "# Ignore Warning\n",
    "import sys\n",
    "import warnings\n",
    "if not sys.warnoptions:\n",
    "    warnings.simplefilter(\"ignore\")\n"
   ]
  },
  {
   "cell_type": "markdown",
   "metadata": {},
   "source": [
    "**IMPORT DATA**"
   ]
  },
  {
   "cell_type": "code",
   "execution_count": 7,
   "metadata": {},
   "outputs": [
    {
     "data": {
      "text/html": [
       "<div>\n",
       "<style scoped>\n",
       "    .dataframe tbody tr th:only-of-type {\n",
       "        vertical-align: middle;\n",
       "    }\n",
       "\n",
       "    .dataframe tbody tr th {\n",
       "        vertical-align: top;\n",
       "    }\n",
       "\n",
       "    .dataframe thead th {\n",
       "        text-align: right;\n",
       "    }\n",
       "</style>\n",
       "<table border=\"1\" class=\"dataframe\">\n",
       "  <thead>\n",
       "    <tr style=\"text-align: right;\">\n",
       "      <th></th>\n",
       "      <th>Agency</th>\n",
       "      <th>Agency Type</th>\n",
       "      <th>Distribution Channel</th>\n",
       "      <th>Product Name</th>\n",
       "      <th>Gender</th>\n",
       "      <th>Duration</th>\n",
       "      <th>Destination</th>\n",
       "      <th>Net Sales</th>\n",
       "      <th>Commision (in value)</th>\n",
       "      <th>Age</th>\n",
       "      <th>Claim</th>\n",
       "    </tr>\n",
       "  </thead>\n",
       "  <tbody>\n",
       "    <tr>\n",
       "      <th>0</th>\n",
       "      <td>C2B</td>\n",
       "      <td>Airlines</td>\n",
       "      <td>Online</td>\n",
       "      <td>Annual Silver Plan</td>\n",
       "      <td>F</td>\n",
       "      <td>365</td>\n",
       "      <td>SINGAPORE</td>\n",
       "      <td>216.0</td>\n",
       "      <td>54.0</td>\n",
       "      <td>57</td>\n",
       "      <td>No</td>\n",
       "    </tr>\n",
       "    <tr>\n",
       "      <th>1</th>\n",
       "      <td>EPX</td>\n",
       "      <td>Travel Agency</td>\n",
       "      <td>Online</td>\n",
       "      <td>Cancellation Plan</td>\n",
       "      <td>NaN</td>\n",
       "      <td>4</td>\n",
       "      <td>MALAYSIA</td>\n",
       "      <td>10.0</td>\n",
       "      <td>0.0</td>\n",
       "      <td>33</td>\n",
       "      <td>No</td>\n",
       "    </tr>\n",
       "    <tr>\n",
       "      <th>2</th>\n",
       "      <td>JZI</td>\n",
       "      <td>Airlines</td>\n",
       "      <td>Online</td>\n",
       "      <td>Basic Plan</td>\n",
       "      <td>M</td>\n",
       "      <td>19</td>\n",
       "      <td>INDIA</td>\n",
       "      <td>22.0</td>\n",
       "      <td>7.7</td>\n",
       "      <td>26</td>\n",
       "      <td>No</td>\n",
       "    </tr>\n",
       "    <tr>\n",
       "      <th>3</th>\n",
       "      <td>EPX</td>\n",
       "      <td>Travel Agency</td>\n",
       "      <td>Online</td>\n",
       "      <td>2 way Comprehensive Plan</td>\n",
       "      <td>NaN</td>\n",
       "      <td>20</td>\n",
       "      <td>UNITED STATES</td>\n",
       "      <td>112.0</td>\n",
       "      <td>0.0</td>\n",
       "      <td>59</td>\n",
       "      <td>No</td>\n",
       "    </tr>\n",
       "    <tr>\n",
       "      <th>4</th>\n",
       "      <td>C2B</td>\n",
       "      <td>Airlines</td>\n",
       "      <td>Online</td>\n",
       "      <td>Bronze Plan</td>\n",
       "      <td>M</td>\n",
       "      <td>8</td>\n",
       "      <td>SINGAPORE</td>\n",
       "      <td>16.0</td>\n",
       "      <td>4.0</td>\n",
       "      <td>28</td>\n",
       "      <td>No</td>\n",
       "    </tr>\n",
       "  </tbody>\n",
       "</table>\n",
       "</div>"
      ],
      "text/plain": [
       "  Agency    Agency Type Distribution Channel              Product Name Gender  \\\n",
       "0    C2B       Airlines               Online        Annual Silver Plan      F   \n",
       "1    EPX  Travel Agency               Online         Cancellation Plan    NaN   \n",
       "2    JZI       Airlines               Online                Basic Plan      M   \n",
       "3    EPX  Travel Agency               Online  2 way Comprehensive Plan    NaN   \n",
       "4    C2B       Airlines               Online               Bronze Plan      M   \n",
       "\n",
       "   Duration    Destination  Net Sales  Commision (in value)  Age Claim  \n",
       "0       365      SINGAPORE      216.0                  54.0   57    No  \n",
       "1         4       MALAYSIA       10.0                   0.0   33    No  \n",
       "2        19          INDIA       22.0                   7.7   26    No  \n",
       "3        20  UNITED STATES      112.0                   0.0   59    No  \n",
       "4         8      SINGAPORE       16.0                   4.0   28    No  "
      ]
     },
     "execution_count": 7,
     "metadata": {},
     "output_type": "execute_result"
    }
   ],
   "source": [
    "df = pd.read_csv('data_travel_insurance.csv')\n",
    "df.head()"
   ]
  },
  {
   "cell_type": "code",
   "execution_count": 8,
   "metadata": {},
   "outputs": [
    {
     "name": "stdout",
     "output_type": "stream",
     "text": [
      "<class 'pandas.core.frame.DataFrame'>\n",
      "RangeIndex: 44328 entries, 0 to 44327\n",
      "Data columns (total 11 columns):\n",
      " #   Column                Non-Null Count  Dtype  \n",
      "---  ------                --------------  -----  \n",
      " 0   Agency                44328 non-null  object \n",
      " 1   Agency Type           44328 non-null  object \n",
      " 2   Distribution Channel  44328 non-null  object \n",
      " 3   Product Name          44328 non-null  object \n",
      " 4   Gender                12681 non-null  object \n",
      " 5   Duration              44328 non-null  int64  \n",
      " 6   Destination           44328 non-null  object \n",
      " 7   Net Sales             44328 non-null  float64\n",
      " 8   Commision (in value)  44328 non-null  float64\n",
      " 9   Age                   44328 non-null  int64  \n",
      " 10  Claim                 44328 non-null  object \n",
      "dtypes: float64(2), int64(2), object(7)\n",
      "memory usage: 3.7+ MB\n"
     ]
    }
   ],
   "source": [
    "df.info()"
   ]
  },
  {
   "cell_type": "code",
   "execution_count": 9,
   "metadata": {},
   "outputs": [
    {
     "data": {
      "text/html": [
       "<div>\n",
       "<style scoped>\n",
       "    .dataframe tbody tr th:only-of-type {\n",
       "        vertical-align: middle;\n",
       "    }\n",
       "\n",
       "    .dataframe tbody tr th {\n",
       "        vertical-align: top;\n",
       "    }\n",
       "\n",
       "    .dataframe thead th {\n",
       "        text-align: right;\n",
       "    }\n",
       "</style>\n",
       "<table border=\"1\" class=\"dataframe\">\n",
       "  <thead>\n",
       "    <tr style=\"text-align: right;\">\n",
       "      <th></th>\n",
       "      <th>Duration</th>\n",
       "      <th>Net Sales</th>\n",
       "      <th>Commision (in value)</th>\n",
       "      <th>Age</th>\n",
       "    </tr>\n",
       "  </thead>\n",
       "  <tbody>\n",
       "    <tr>\n",
       "      <th>count</th>\n",
       "      <td>44328.000000</td>\n",
       "      <td>44328.000000</td>\n",
       "      <td>44328.000000</td>\n",
       "      <td>44328.000000</td>\n",
       "    </tr>\n",
       "    <tr>\n",
       "      <th>mean</th>\n",
       "      <td>49.424292</td>\n",
       "      <td>40.550948</td>\n",
       "      <td>9.707692</td>\n",
       "      <td>39.925600</td>\n",
       "    </tr>\n",
       "    <tr>\n",
       "      <th>std</th>\n",
       "      <td>109.153961</td>\n",
       "      <td>48.661970</td>\n",
       "      <td>19.625637</td>\n",
       "      <td>13.954926</td>\n",
       "    </tr>\n",
       "    <tr>\n",
       "      <th>min</th>\n",
       "      <td>-1.000000</td>\n",
       "      <td>-357.500000</td>\n",
       "      <td>0.000000</td>\n",
       "      <td>0.000000</td>\n",
       "    </tr>\n",
       "    <tr>\n",
       "      <th>25%</th>\n",
       "      <td>9.000000</td>\n",
       "      <td>18.000000</td>\n",
       "      <td>0.000000</td>\n",
       "      <td>35.000000</td>\n",
       "    </tr>\n",
       "    <tr>\n",
       "      <th>50%</th>\n",
       "      <td>22.000000</td>\n",
       "      <td>26.500000</td>\n",
       "      <td>0.000000</td>\n",
       "      <td>36.000000</td>\n",
       "    </tr>\n",
       "    <tr>\n",
       "      <th>75%</th>\n",
       "      <td>53.000000</td>\n",
       "      <td>48.000000</td>\n",
       "      <td>11.550000</td>\n",
       "      <td>43.000000</td>\n",
       "    </tr>\n",
       "    <tr>\n",
       "      <th>max</th>\n",
       "      <td>4881.000000</td>\n",
       "      <td>810.000000</td>\n",
       "      <td>283.500000</td>\n",
       "      <td>118.000000</td>\n",
       "    </tr>\n",
       "  </tbody>\n",
       "</table>\n",
       "</div>"
      ],
      "text/plain": [
       "           Duration     Net Sales  Commision (in value)           Age\n",
       "count  44328.000000  44328.000000          44328.000000  44328.000000\n",
       "mean      49.424292     40.550948              9.707692     39.925600\n",
       "std      109.153961     48.661970             19.625637     13.954926\n",
       "min       -1.000000   -357.500000              0.000000      0.000000\n",
       "25%        9.000000     18.000000              0.000000     35.000000\n",
       "50%       22.000000     26.500000              0.000000     36.000000\n",
       "75%       53.000000     48.000000             11.550000     43.000000\n",
       "max     4881.000000    810.000000            283.500000    118.000000"
      ]
     },
     "metadata": {},
     "output_type": "display_data"
    },
    {
     "data": {
      "text/html": [
       "<div>\n",
       "<style scoped>\n",
       "    .dataframe tbody tr th:only-of-type {\n",
       "        vertical-align: middle;\n",
       "    }\n",
       "\n",
       "    .dataframe tbody tr th {\n",
       "        vertical-align: top;\n",
       "    }\n",
       "\n",
       "    .dataframe thead th {\n",
       "        text-align: right;\n",
       "    }\n",
       "</style>\n",
       "<table border=\"1\" class=\"dataframe\">\n",
       "  <thead>\n",
       "    <tr style=\"text-align: right;\">\n",
       "      <th></th>\n",
       "      <th>Agency</th>\n",
       "      <th>Agency Type</th>\n",
       "      <th>Distribution Channel</th>\n",
       "      <th>Product Name</th>\n",
       "      <th>Gender</th>\n",
       "      <th>Destination</th>\n",
       "      <th>Claim</th>\n",
       "    </tr>\n",
       "  </thead>\n",
       "  <tbody>\n",
       "    <tr>\n",
       "      <th>count</th>\n",
       "      <td>44328</td>\n",
       "      <td>44328</td>\n",
       "      <td>44328</td>\n",
       "      <td>44328</td>\n",
       "      <td>12681</td>\n",
       "      <td>44328</td>\n",
       "      <td>44328</td>\n",
       "    </tr>\n",
       "    <tr>\n",
       "      <th>unique</th>\n",
       "      <td>16</td>\n",
       "      <td>2</td>\n",
       "      <td>2</td>\n",
       "      <td>26</td>\n",
       "      <td>2</td>\n",
       "      <td>138</td>\n",
       "      <td>2</td>\n",
       "    </tr>\n",
       "    <tr>\n",
       "      <th>top</th>\n",
       "      <td>EPX</td>\n",
       "      <td>Travel Agency</td>\n",
       "      <td>Online</td>\n",
       "      <td>Cancellation Plan</td>\n",
       "      <td>M</td>\n",
       "      <td>SINGAPORE</td>\n",
       "      <td>No</td>\n",
       "    </tr>\n",
       "    <tr>\n",
       "      <th>freq</th>\n",
       "      <td>24656</td>\n",
       "      <td>32113</td>\n",
       "      <td>43572</td>\n",
       "      <td>12979</td>\n",
       "      <td>6504</td>\n",
       "      <td>9267</td>\n",
       "      <td>43651</td>\n",
       "    </tr>\n",
       "  </tbody>\n",
       "</table>\n",
       "</div>"
      ],
      "text/plain": [
       "       Agency    Agency Type Distribution Channel       Product Name Gender  \\\n",
       "count   44328          44328                44328              44328  12681   \n",
       "unique     16              2                    2                 26      2   \n",
       "top       EPX  Travel Agency               Online  Cancellation Plan      M   \n",
       "freq    24656          32113                43572              12979   6504   \n",
       "\n",
       "       Destination  Claim  \n",
       "count        44328  44328  \n",
       "unique         138      2  \n",
       "top      SINGAPORE     No  \n",
       "freq          9267  43651  "
      ]
     },
     "metadata": {},
     "output_type": "display_data"
    }
   ],
   "source": [
    "display(\n",
    "    df.describe(),\n",
    "    df.describe(include='object')\n",
    ")"
   ]
  },
  {
   "cell_type": "markdown",
   "metadata": {},
   "source": [
    "Seperti yang telah kita cek dataset tersebut :\n",
    "* Ada 44328 baris dari 11 kolom.\n",
    "* Untuk tipe datanya ada 4 Numerikal dan 7 Kategorikal\n",
    "* Saat kita cek ada baris yang tidak sama dengan total barisnya, pada kolom gender ternyata 12681 data dari 44328, disini kita akan cek lebih lanjut pada saat data cleaning.\n",
    "* Penamaan pada kolom ada spasi, yg mungkin bisa menyebabkan kesalahan pada saat kita melakukan proses predict dengan machine learning, maka dari itu kita akan coba cek lebih lanjut pada saat data cleaning."
   ]
  },
  {
   "cell_type": "markdown",
   "metadata": {},
   "source": [
    "# DATA CLEANING"
   ]
  },
  {
   "cell_type": "markdown",
   "metadata": {},
   "source": [
    "Ada data yang hilang/kosong difitur/kolom \"Gender\", maka kita harus melakukan pengecekan terlebih dahulu di fitur tersebut agar bisa mengambil keputusan apakah kolom tersebut harus digunakan atau bisa saja dihilangkan untuk melakukan analisa lebih lanjut dan juga pembuatan model machine learningnya."
   ]
  },
  {
   "cell_type": "code",
   "execution_count": 10,
   "metadata": {},
   "outputs": [
    {
     "name": "stdout",
     "output_type": "stream",
     "text": [
      "<bound method NDFrame._add_numeric_operations.<locals>.any of Agency                      0\n",
      "Agency Type                 0\n",
      "Distribution Channel        0\n",
      "Product Name                0\n",
      "Gender                  31647\n",
      "Duration                    0\n",
      "Destination                 0\n",
      "Net Sales                   0\n",
      "Commision (in value)        0\n",
      "Age                         0\n",
      "Claim                       0\n",
      "dtype: int64>\n",
      "Agency                   0.000000\n",
      "Agency Type              0.000000\n",
      "Distribution Channel     0.000000\n",
      "Product Name             0.000000\n",
      "Gender                  71.392799\n",
      "Duration                 0.000000\n",
      "Destination              0.000000\n",
      "Net Sales                0.000000\n",
      "Commision (in value)     0.000000\n",
      "Age                      0.000000\n",
      "Claim                    0.000000\n",
      "dtype: float64\n"
     ]
    }
   ],
   "source": [
    "# Cek NULL/NaN didalam dataset\n",
    "\n",
    "print(df.isnull().sum().any)\n",
    "print(df.isna().sum()/df.shape[0]*100)"
   ]
  },
  {
   "cell_type": "markdown",
   "metadata": {},
   "source": [
    "**Drop kolom gender**\n",
    "\n",
    "Seperti yang terlihat dari yang ditampilkan dalam pengecekan data yang NULL/NaN, ada sekitar 71% data pada kolom gender NULL/NaN, dan karena data yang tidak ada itu terlalu banyak, dan untuk mengisi data tersebut kita tidak bisa pasti mendapatkan datanya dan jika kita menggunakan predict untuk mengisi data tersebut cukup beresiko dan bisa membuat lebih besar kesalahan pada saat masuk model machine learning.\n",
    "\n",
    "Maka tim data scientist kita mengambil keputusan untuk menghilangkan kolom Gender, karena data terlalu banyak yang NULL/NaN dan juga dari sisi domain knowledge tidak terlalu signifikan untuk memasukkan gender."
   ]
  },
  {
   "cell_type": "code",
   "execution_count": 11,
   "metadata": {},
   "outputs": [
    {
     "data": {
      "text/html": [
       "<div>\n",
       "<style scoped>\n",
       "    .dataframe tbody tr th:only-of-type {\n",
       "        vertical-align: middle;\n",
       "    }\n",
       "\n",
       "    .dataframe tbody tr th {\n",
       "        vertical-align: top;\n",
       "    }\n",
       "\n",
       "    .dataframe thead th {\n",
       "        text-align: right;\n",
       "    }\n",
       "</style>\n",
       "<table border=\"1\" class=\"dataframe\">\n",
       "  <thead>\n",
       "    <tr style=\"text-align: right;\">\n",
       "      <th></th>\n",
       "      <th>Agency</th>\n",
       "      <th>Agency Type</th>\n",
       "      <th>Distribution Channel</th>\n",
       "      <th>Product Name</th>\n",
       "      <th>Duration</th>\n",
       "      <th>Destination</th>\n",
       "      <th>Net Sales</th>\n",
       "      <th>Commision (in value)</th>\n",
       "      <th>Age</th>\n",
       "      <th>Claim</th>\n",
       "    </tr>\n",
       "  </thead>\n",
       "  <tbody>\n",
       "    <tr>\n",
       "      <th>0</th>\n",
       "      <td>C2B</td>\n",
       "      <td>Airlines</td>\n",
       "      <td>Online</td>\n",
       "      <td>Annual Silver Plan</td>\n",
       "      <td>365</td>\n",
       "      <td>SINGAPORE</td>\n",
       "      <td>216.0</td>\n",
       "      <td>54.0</td>\n",
       "      <td>57</td>\n",
       "      <td>No</td>\n",
       "    </tr>\n",
       "    <tr>\n",
       "      <th>1</th>\n",
       "      <td>EPX</td>\n",
       "      <td>Travel Agency</td>\n",
       "      <td>Online</td>\n",
       "      <td>Cancellation Plan</td>\n",
       "      <td>4</td>\n",
       "      <td>MALAYSIA</td>\n",
       "      <td>10.0</td>\n",
       "      <td>0.0</td>\n",
       "      <td>33</td>\n",
       "      <td>No</td>\n",
       "    </tr>\n",
       "    <tr>\n",
       "      <th>2</th>\n",
       "      <td>JZI</td>\n",
       "      <td>Airlines</td>\n",
       "      <td>Online</td>\n",
       "      <td>Basic Plan</td>\n",
       "      <td>19</td>\n",
       "      <td>INDIA</td>\n",
       "      <td>22.0</td>\n",
       "      <td>7.7</td>\n",
       "      <td>26</td>\n",
       "      <td>No</td>\n",
       "    </tr>\n",
       "    <tr>\n",
       "      <th>3</th>\n",
       "      <td>EPX</td>\n",
       "      <td>Travel Agency</td>\n",
       "      <td>Online</td>\n",
       "      <td>2 way Comprehensive Plan</td>\n",
       "      <td>20</td>\n",
       "      <td>UNITED STATES</td>\n",
       "      <td>112.0</td>\n",
       "      <td>0.0</td>\n",
       "      <td>59</td>\n",
       "      <td>No</td>\n",
       "    </tr>\n",
       "    <tr>\n",
       "      <th>4</th>\n",
       "      <td>C2B</td>\n",
       "      <td>Airlines</td>\n",
       "      <td>Online</td>\n",
       "      <td>Bronze Plan</td>\n",
       "      <td>8</td>\n",
       "      <td>SINGAPORE</td>\n",
       "      <td>16.0</td>\n",
       "      <td>4.0</td>\n",
       "      <td>28</td>\n",
       "      <td>No</td>\n",
       "    </tr>\n",
       "  </tbody>\n",
       "</table>\n",
       "</div>"
      ],
      "text/plain": [
       "  Agency    Agency Type Distribution Channel              Product Name  \\\n",
       "0    C2B       Airlines               Online        Annual Silver Plan   \n",
       "1    EPX  Travel Agency               Online         Cancellation Plan   \n",
       "2    JZI       Airlines               Online                Basic Plan   \n",
       "3    EPX  Travel Agency               Online  2 way Comprehensive Plan   \n",
       "4    C2B       Airlines               Online               Bronze Plan   \n",
       "\n",
       "   Duration    Destination  Net Sales  Commision (in value)  Age Claim  \n",
       "0       365      SINGAPORE      216.0                  54.0   57    No  \n",
       "1         4       MALAYSIA       10.0                   0.0   33    No  \n",
       "2        19          INDIA       22.0                   7.7   26    No  \n",
       "3        20  UNITED STATES      112.0                   0.0   59    No  \n",
       "4         8      SINGAPORE       16.0                   4.0   28    No  "
      ]
     },
     "execution_count": 11,
     "metadata": {},
     "output_type": "execute_result"
    }
   ],
   "source": [
    "# Drop kolom gender\n",
    "\n",
    "df.drop(columns=['Gender'], axis=1, inplace=True)\n",
    "df.head()"
   ]
  },
  {
   "cell_type": "code",
   "execution_count": 12,
   "metadata": {},
   "outputs": [
    {
     "data": {
      "text/plain": [
       "Index(['Agency', 'Agency Type', 'Distribution Channel', 'Product Name',\n",
       "       'Duration', 'Destination', 'Net Sales', 'Commision (in value)', 'Age',\n",
       "       'Claim'],\n",
       "      dtype='object')"
      ]
     },
     "execution_count": 12,
     "metadata": {},
     "output_type": "execute_result"
    }
   ],
   "source": [
    "df.columns"
   ]
  },
  {
   "cell_type": "markdown",
   "metadata": {},
   "source": [
    "**Mengganti nama pada kolom**\n",
    "\n",
    "Pada penamaan kolom terlihat ada beberapa nama kolom yang terpisahkan oleh spasi, disini kita tim data scientist ingin mengganti nama yang terpisahkan oleh spasi untuk menghindari isu penamaan pada saat analisis atau modeling machine learning."
   ]
  },
  {
   "cell_type": "code",
   "execution_count": 13,
   "metadata": {},
   "outputs": [
    {
     "data": {
      "text/html": [
       "<div>\n",
       "<style scoped>\n",
       "    .dataframe tbody tr th:only-of-type {\n",
       "        vertical-align: middle;\n",
       "    }\n",
       "\n",
       "    .dataframe tbody tr th {\n",
       "        vertical-align: top;\n",
       "    }\n",
       "\n",
       "    .dataframe thead th {\n",
       "        text-align: right;\n",
       "    }\n",
       "</style>\n",
       "<table border=\"1\" class=\"dataframe\">\n",
       "  <thead>\n",
       "    <tr style=\"text-align: right;\">\n",
       "      <th></th>\n",
       "      <th>Agency</th>\n",
       "      <th>Agency_Type</th>\n",
       "      <th>Dist_Channel</th>\n",
       "      <th>Product_Name</th>\n",
       "      <th>Duration</th>\n",
       "      <th>Destination</th>\n",
       "      <th>Net_Sales</th>\n",
       "      <th>Commision</th>\n",
       "      <th>Age</th>\n",
       "      <th>Claim</th>\n",
       "    </tr>\n",
       "  </thead>\n",
       "  <tbody>\n",
       "    <tr>\n",
       "      <th>0</th>\n",
       "      <td>C2B</td>\n",
       "      <td>Airlines</td>\n",
       "      <td>Online</td>\n",
       "      <td>Annual Silver Plan</td>\n",
       "      <td>365</td>\n",
       "      <td>SINGAPORE</td>\n",
       "      <td>216.0</td>\n",
       "      <td>54.0</td>\n",
       "      <td>57</td>\n",
       "      <td>No</td>\n",
       "    </tr>\n",
       "    <tr>\n",
       "      <th>1</th>\n",
       "      <td>EPX</td>\n",
       "      <td>Travel Agency</td>\n",
       "      <td>Online</td>\n",
       "      <td>Cancellation Plan</td>\n",
       "      <td>4</td>\n",
       "      <td>MALAYSIA</td>\n",
       "      <td>10.0</td>\n",
       "      <td>0.0</td>\n",
       "      <td>33</td>\n",
       "      <td>No</td>\n",
       "    </tr>\n",
       "    <tr>\n",
       "      <th>2</th>\n",
       "      <td>JZI</td>\n",
       "      <td>Airlines</td>\n",
       "      <td>Online</td>\n",
       "      <td>Basic Plan</td>\n",
       "      <td>19</td>\n",
       "      <td>INDIA</td>\n",
       "      <td>22.0</td>\n",
       "      <td>7.7</td>\n",
       "      <td>26</td>\n",
       "      <td>No</td>\n",
       "    </tr>\n",
       "    <tr>\n",
       "      <th>3</th>\n",
       "      <td>EPX</td>\n",
       "      <td>Travel Agency</td>\n",
       "      <td>Online</td>\n",
       "      <td>2 way Comprehensive Plan</td>\n",
       "      <td>20</td>\n",
       "      <td>UNITED STATES</td>\n",
       "      <td>112.0</td>\n",
       "      <td>0.0</td>\n",
       "      <td>59</td>\n",
       "      <td>No</td>\n",
       "    </tr>\n",
       "    <tr>\n",
       "      <th>4</th>\n",
       "      <td>C2B</td>\n",
       "      <td>Airlines</td>\n",
       "      <td>Online</td>\n",
       "      <td>Bronze Plan</td>\n",
       "      <td>8</td>\n",
       "      <td>SINGAPORE</td>\n",
       "      <td>16.0</td>\n",
       "      <td>4.0</td>\n",
       "      <td>28</td>\n",
       "      <td>No</td>\n",
       "    </tr>\n",
       "  </tbody>\n",
       "</table>\n",
       "</div>"
      ],
      "text/plain": [
       "  Agency    Agency_Type Dist_Channel              Product_Name  Duration  \\\n",
       "0    C2B       Airlines       Online        Annual Silver Plan       365   \n",
       "1    EPX  Travel Agency       Online         Cancellation Plan         4   \n",
       "2    JZI       Airlines       Online                Basic Plan        19   \n",
       "3    EPX  Travel Agency       Online  2 way Comprehensive Plan        20   \n",
       "4    C2B       Airlines       Online               Bronze Plan         8   \n",
       "\n",
       "     Destination  Net_Sales  Commision  Age Claim  \n",
       "0      SINGAPORE      216.0       54.0   57    No  \n",
       "1       MALAYSIA       10.0        0.0   33    No  \n",
       "2          INDIA       22.0        7.7   26    No  \n",
       "3  UNITED STATES      112.0        0.0   59    No  \n",
       "4      SINGAPORE       16.0        4.0   28    No  "
      ]
     },
     "execution_count": 13,
     "metadata": {},
     "output_type": "execute_result"
    }
   ],
   "source": [
    "df.rename(\n",
    "    columns={\n",
    "        'Agency Type' : 'Agency_Type',\n",
    "        'Distribution Channel' : 'Dist_Channel',\n",
    "        'Product Name' : 'Product_Name',\n",
    "        'Net Sales' : 'Net_Sales',\n",
    "        'Commision (in value)' : 'Commision'\n",
    "    }, inplace=True\n",
    ")\n",
    "df.head()"
   ]
  },
  {
   "cell_type": "markdown",
   "metadata": {},
   "source": [
    "**Mengetahui unique values pada dataset**\n",
    "\n",
    "Untuk mengetahui dalam seleksi fitur apa saja yang akan dipakai pada saat modeling, lebih baik kita mengecek unique values pada dataset."
   ]
  },
  {
   "cell_type": "code",
   "execution_count": 14,
   "metadata": {},
   "outputs": [
    {
     "data": {
      "text/plain": [
       "Agency            16\n",
       "Agency_Type        2\n",
       "Dist_Channel       2\n",
       "Product_Name      26\n",
       "Duration         437\n",
       "Destination      138\n",
       "Net_Sales       1006\n",
       "Commision        915\n",
       "Age               89\n",
       "Claim              2\n",
       "dtype: int64"
      ]
     },
     "execution_count": 14,
     "metadata": {},
     "output_type": "execute_result"
    }
   ],
   "source": [
    "df.nunique()"
   ]
  },
  {
   "cell_type": "code",
   "execution_count": 15,
   "metadata": {},
   "outputs": [
    {
     "name": "stdout",
     "output_type": "stream",
     "text": [
      "Unique elements of Agency are: \n",
      "['C2B' 'EPX' 'JZI' 'CWT' 'LWC' 'ART' 'CSR' 'SSI' 'RAB' 'KML' 'TST' 'TTW'\n",
      " 'JWT' 'ADM' 'CCR' 'CBH']\n",
      "\n",
      "Unique elements of Agency_Type are: \n",
      "['Airlines' 'Travel Agency']\n",
      "\n",
      "Unique elements of Dist_Channel are: \n",
      "['Online' 'Offline']\n",
      "\n",
      "Unique elements of Product_Name are: \n",
      "['Annual Silver Plan' 'Cancellation Plan' 'Basic Plan'\n",
      " '2 way Comprehensive Plan' 'Bronze Plan' '1 way Comprehensive Plan'\n",
      " 'Rental Vehicle Excess Insurance' 'Single Trip Travel Protect Gold'\n",
      " 'Silver Plan' 'Value Plan' '24 Protect' 'Annual Travel Protect Gold'\n",
      " 'Comprehensive Plan' 'Ticket Protector' 'Travel Cruise Protect'\n",
      " 'Single Trip Travel Protect Silver' 'Individual Comprehensive Plan'\n",
      " 'Gold Plan' 'Annual Gold Plan' 'Child Comprehensive Plan' 'Premier Plan'\n",
      " 'Annual Travel Protect Silver' 'Single Trip Travel Protect Platinum'\n",
      " 'Annual Travel Protect Platinum' 'Spouse or Parents Comprehensive Plan'\n",
      " 'Travel Cruise Protect Family']\n",
      "\n",
      "Unique elements of Destination are: \n",
      "['SINGAPORE' 'MALAYSIA' 'INDIA' 'UNITED STATES' 'KOREA, REPUBLIC OF'\n",
      " 'THAILAND' 'GERMANY' 'JAPAN' 'INDONESIA' 'VIET NAM' 'AUSTRALIA' 'FINLAND'\n",
      " 'UNITED KINGDOM' 'SRI LANKA' 'SPAIN' 'HONG KONG' 'MACAO' 'CHINA'\n",
      " 'UNITED ARAB EMIRATES' 'IRAN, ISLAMIC REPUBLIC OF'\n",
      " 'TAIWAN, PROVINCE OF CHINA' 'POLAND' 'CANADA' 'OMAN' 'PHILIPPINES'\n",
      " 'GREECE' 'BELGIUM' 'TURKEY' 'BRUNEI DARUSSALAM' 'DENMARK' 'SWITZERLAND'\n",
      " 'NETHERLANDS' 'SWEDEN' 'MYANMAR' 'KENYA' 'CZECH REPUBLIC' 'FRANCE'\n",
      " 'RUSSIAN FEDERATION' 'PAKISTAN' 'ARGENTINA'\n",
      " 'TANZANIA, UNITED REPUBLIC OF' 'SERBIA' 'ITALY' 'CROATIA' 'NEW ZEALAND'\n",
      " 'PERU' 'MONGOLIA' 'CAMBODIA' 'QATAR' 'NORWAY' 'LUXEMBOURG' 'MALTA'\n",
      " \"LAO PEOPLE'S DEMOCRATIC REPUBLIC\" 'ISRAEL' 'SAUDI ARABIA' 'AUSTRIA'\n",
      " 'PORTUGAL' 'NEPAL' 'UKRAINE' 'ESTONIA' 'ICELAND' 'BRAZIL' 'MEXICO'\n",
      " 'CAYMAN ISLANDS' 'PANAMA' 'BANGLADESH' 'TURKMENISTAN' 'BAHRAIN'\n",
      " 'KAZAKHSTAN' 'TUNISIA' 'IRELAND' 'ETHIOPIA' 'NORTHERN MARIANA ISLANDS'\n",
      " 'MALDIVES' 'SOUTH AFRICA' 'VENEZUELA' 'COSTA RICA' 'JORDAN' 'MALI'\n",
      " 'CYPRUS' 'MAURITIUS' 'LEBANON' 'KUWAIT' 'AZERBAIJAN' 'HUNGARY' 'BHUTAN'\n",
      " 'BELARUS' 'MOROCCO' 'ECUADOR' 'UZBEKISTAN' 'CHILE' 'FIJI'\n",
      " 'PAPUA NEW GUINEA' 'ANGOLA' 'FRENCH POLYNESIA' 'NIGERIA'\n",
      " 'MACEDONIA, THE FORMER YUGOSLAV REPUBLIC OF' 'NAMIBIA' 'GEORGIA'\n",
      " 'COLOMBIA' 'SLOVENIA' 'EGYPT' 'ZIMBABWE' 'BULGARIA' 'BERMUDA' 'URUGUAY'\n",
      " 'GUINEA' 'GHANA' 'BOLIVIA' 'TRINIDAD AND TOBAGO' 'VANUATU' 'GUAM'\n",
      " 'UGANDA' 'JAMAICA' 'LATVIA' 'ROMANIA' 'REPUBLIC OF MONTENEGRO'\n",
      " 'KYRGYZSTAN' 'GUADELOUPE' 'ZAMBIA' 'RWANDA' 'BOTSWANA' 'GUYANA'\n",
      " 'LITHUANIA' 'GUINEA-BISSAU' 'SENEGAL' 'CAMEROON' 'TIBET' 'SAMOA'\n",
      " 'PUERTO RICO' 'TAJIKISTAN' 'ARMENIA'\n",
      " \"KOREA, DEMOCRATIC PEOPLE'S REPUBLIC OF\" 'FAROE ISLANDS'\n",
      " 'DOMINICAN REPUBLIC' 'MOLDOVA, REPUBLIC OF' 'BENIN' 'REUNION']\n",
      "\n",
      "Unique elements of Claim are: \n",
      "['No' 'Yes']\n",
      "\n"
     ]
    }
   ],
   "source": [
    "column_keys=df.select_dtypes(include=['object']).columns.tolist()\n",
    "for key in column_keys:\n",
    "    print('Unique elements of',key,'are: ')\n",
    "    print(df[key].unique(),end='\\n')\n",
    "    print(end='\\n')"
   ]
  },
  {
   "cell_type": "markdown",
   "metadata": {},
   "source": [
    "**Cek Distribusi pada kolom Numerikal**"
   ]
  },
  {
   "cell_type": "code",
   "execution_count": 16,
   "metadata": {},
   "outputs": [
    {
     "data": {
      "text/html": [
       "<div>\n",
       "<style scoped>\n",
       "    .dataframe tbody tr th:only-of-type {\n",
       "        vertical-align: middle;\n",
       "    }\n",
       "\n",
       "    .dataframe tbody tr th {\n",
       "        vertical-align: top;\n",
       "    }\n",
       "\n",
       "    .dataframe thead th {\n",
       "        text-align: right;\n",
       "    }\n",
       "</style>\n",
       "<table border=\"1\" class=\"dataframe\">\n",
       "  <thead>\n",
       "    <tr style=\"text-align: right;\">\n",
       "      <th></th>\n",
       "      <th>Duration</th>\n",
       "      <th>Net_Sales</th>\n",
       "      <th>Commision</th>\n",
       "      <th>Age</th>\n",
       "    </tr>\n",
       "  </thead>\n",
       "  <tbody>\n",
       "    <tr>\n",
       "      <th>count</th>\n",
       "      <td>44328.000000</td>\n",
       "      <td>44328.000000</td>\n",
       "      <td>44328.000000</td>\n",
       "      <td>44328.000000</td>\n",
       "    </tr>\n",
       "    <tr>\n",
       "      <th>mean</th>\n",
       "      <td>49.424292</td>\n",
       "      <td>40.550948</td>\n",
       "      <td>9.707692</td>\n",
       "      <td>39.925600</td>\n",
       "    </tr>\n",
       "    <tr>\n",
       "      <th>std</th>\n",
       "      <td>109.153961</td>\n",
       "      <td>48.661970</td>\n",
       "      <td>19.625637</td>\n",
       "      <td>13.954926</td>\n",
       "    </tr>\n",
       "    <tr>\n",
       "      <th>min</th>\n",
       "      <td>-1.000000</td>\n",
       "      <td>-357.500000</td>\n",
       "      <td>0.000000</td>\n",
       "      <td>0.000000</td>\n",
       "    </tr>\n",
       "    <tr>\n",
       "      <th>25%</th>\n",
       "      <td>9.000000</td>\n",
       "      <td>18.000000</td>\n",
       "      <td>0.000000</td>\n",
       "      <td>35.000000</td>\n",
       "    </tr>\n",
       "    <tr>\n",
       "      <th>50%</th>\n",
       "      <td>22.000000</td>\n",
       "      <td>26.500000</td>\n",
       "      <td>0.000000</td>\n",
       "      <td>36.000000</td>\n",
       "    </tr>\n",
       "    <tr>\n",
       "      <th>75%</th>\n",
       "      <td>53.000000</td>\n",
       "      <td>48.000000</td>\n",
       "      <td>11.550000</td>\n",
       "      <td>43.000000</td>\n",
       "    </tr>\n",
       "    <tr>\n",
       "      <th>max</th>\n",
       "      <td>4881.000000</td>\n",
       "      <td>810.000000</td>\n",
       "      <td>283.500000</td>\n",
       "      <td>118.000000</td>\n",
       "    </tr>\n",
       "  </tbody>\n",
       "</table>\n",
       "</div>"
      ],
      "text/plain": [
       "           Duration     Net_Sales     Commision           Age\n",
       "count  44328.000000  44328.000000  44328.000000  44328.000000\n",
       "mean      49.424292     40.550948      9.707692     39.925600\n",
       "std      109.153961     48.661970     19.625637     13.954926\n",
       "min       -1.000000   -357.500000      0.000000      0.000000\n",
       "25%        9.000000     18.000000      0.000000     35.000000\n",
       "50%       22.000000     26.500000      0.000000     36.000000\n",
       "75%       53.000000     48.000000     11.550000     43.000000\n",
       "max     4881.000000    810.000000    283.500000    118.000000"
      ]
     },
     "metadata": {},
     "output_type": "display_data"
    },
    {
     "data": {
      "text/html": [
       "<div>\n",
       "<style scoped>\n",
       "    .dataframe tbody tr th:only-of-type {\n",
       "        vertical-align: middle;\n",
       "    }\n",
       "\n",
       "    .dataframe tbody tr th {\n",
       "        vertical-align: top;\n",
       "    }\n",
       "\n",
       "    .dataframe thead th {\n",
       "        text-align: right;\n",
       "    }\n",
       "</style>\n",
       "<table border=\"1\" class=\"dataframe\">\n",
       "  <thead>\n",
       "    <tr style=\"text-align: right;\">\n",
       "      <th></th>\n",
       "      <th>Duration</th>\n",
       "      <th>Net_Sales</th>\n",
       "      <th>Commision</th>\n",
       "      <th>Age</th>\n",
       "    </tr>\n",
       "  </thead>\n",
       "  <tbody>\n",
       "    <tr>\n",
       "      <th>count</th>\n",
       "      <td>44328.000000</td>\n",
       "      <td>44328.000000</td>\n",
       "      <td>44328.000000</td>\n",
       "      <td>44328.000000</td>\n",
       "    </tr>\n",
       "    <tr>\n",
       "      <th>mean</th>\n",
       "      <td>49.424292</td>\n",
       "      <td>40.550948</td>\n",
       "      <td>9.707692</td>\n",
       "      <td>39.925600</td>\n",
       "    </tr>\n",
       "    <tr>\n",
       "      <th>std</th>\n",
       "      <td>109.153961</td>\n",
       "      <td>48.661970</td>\n",
       "      <td>19.625637</td>\n",
       "      <td>13.954926</td>\n",
       "    </tr>\n",
       "    <tr>\n",
       "      <th>min</th>\n",
       "      <td>-1.000000</td>\n",
       "      <td>-357.500000</td>\n",
       "      <td>0.000000</td>\n",
       "      <td>0.000000</td>\n",
       "    </tr>\n",
       "    <tr>\n",
       "      <th>25%</th>\n",
       "      <td>9.000000</td>\n",
       "      <td>18.000000</td>\n",
       "      <td>0.000000</td>\n",
       "      <td>35.000000</td>\n",
       "    </tr>\n",
       "    <tr>\n",
       "      <th>50%</th>\n",
       "      <td>22.000000</td>\n",
       "      <td>26.500000</td>\n",
       "      <td>0.000000</td>\n",
       "      <td>36.000000</td>\n",
       "    </tr>\n",
       "    <tr>\n",
       "      <th>75%</th>\n",
       "      <td>53.000000</td>\n",
       "      <td>48.000000</td>\n",
       "      <td>11.550000</td>\n",
       "      <td>43.000000</td>\n",
       "    </tr>\n",
       "    <tr>\n",
       "      <th>max</th>\n",
       "      <td>4881.000000</td>\n",
       "      <td>810.000000</td>\n",
       "      <td>283.500000</td>\n",
       "      <td>118.000000</td>\n",
       "    </tr>\n",
       "  </tbody>\n",
       "</table>\n",
       "</div>"
      ],
      "text/plain": [
       "           Duration     Net_Sales     Commision           Age\n",
       "count  44328.000000  44328.000000  44328.000000  44328.000000\n",
       "mean      49.424292     40.550948      9.707692     39.925600\n",
       "std      109.153961     48.661970     19.625637     13.954926\n",
       "min       -1.000000   -357.500000      0.000000      0.000000\n",
       "25%        9.000000     18.000000      0.000000     35.000000\n",
       "50%       22.000000     26.500000      0.000000     36.000000\n",
       "75%       53.000000     48.000000     11.550000     43.000000\n",
       "max     4881.000000    810.000000    283.500000    118.000000"
      ]
     },
     "metadata": {},
     "output_type": "display_data"
    }
   ],
   "source": [
    "from pydoc import describe\n",
    "\n",
    "display(\n",
    "    df.describe(),\n",
    "    df.dropna().describe()\n",
    ")"
   ]
  },
  {
   "cell_type": "markdown",
   "metadata": {},
   "source": [
    "Setelah kita melakukan pengecekan pada distribusi data dari kolom/fitur numerik, data numerikal yang kita punya sama atau tidak ada perubahan apapun setelah data yang kosong dihapus, dimana kita bisa melihat dari mean dan std-nya. \n",
    "\n",
    "Jadi kesimpulannya, data numerikal tersebut bisa digunakan dalam analisis dan modelin machine learning kita nanti."
   ]
  },
  {
   "cell_type": "markdown",
   "metadata": {},
   "source": [
    "**Cek Distribusi pada kolom Kategorikal**"
   ]
  },
  {
   "cell_type": "code",
   "execution_count": 17,
   "metadata": {},
   "outputs": [
    {
     "data": {
      "text/html": [
       "<div>\n",
       "<style scoped>\n",
       "    .dataframe tbody tr th:only-of-type {\n",
       "        vertical-align: middle;\n",
       "    }\n",
       "\n",
       "    .dataframe tbody tr th {\n",
       "        vertical-align: top;\n",
       "    }\n",
       "\n",
       "    .dataframe thead th {\n",
       "        text-align: right;\n",
       "    }\n",
       "</style>\n",
       "<table border=\"1\" class=\"dataframe\">\n",
       "  <thead>\n",
       "    <tr style=\"text-align: right;\">\n",
       "      <th></th>\n",
       "      <th>Agency</th>\n",
       "      <th>Agency_Type</th>\n",
       "      <th>Dist_Channel</th>\n",
       "      <th>Product_Name</th>\n",
       "      <th>Destination</th>\n",
       "      <th>Claim</th>\n",
       "    </tr>\n",
       "  </thead>\n",
       "  <tbody>\n",
       "    <tr>\n",
       "      <th>count</th>\n",
       "      <td>44328</td>\n",
       "      <td>44328</td>\n",
       "      <td>44328</td>\n",
       "      <td>44328</td>\n",
       "      <td>44328</td>\n",
       "      <td>44328</td>\n",
       "    </tr>\n",
       "    <tr>\n",
       "      <th>unique</th>\n",
       "      <td>16</td>\n",
       "      <td>2</td>\n",
       "      <td>2</td>\n",
       "      <td>26</td>\n",
       "      <td>138</td>\n",
       "      <td>2</td>\n",
       "    </tr>\n",
       "    <tr>\n",
       "      <th>top</th>\n",
       "      <td>EPX</td>\n",
       "      <td>Travel Agency</td>\n",
       "      <td>Online</td>\n",
       "      <td>Cancellation Plan</td>\n",
       "      <td>SINGAPORE</td>\n",
       "      <td>No</td>\n",
       "    </tr>\n",
       "    <tr>\n",
       "      <th>freq</th>\n",
       "      <td>24656</td>\n",
       "      <td>32113</td>\n",
       "      <td>43572</td>\n",
       "      <td>12979</td>\n",
       "      <td>9267</td>\n",
       "      <td>43651</td>\n",
       "    </tr>\n",
       "  </tbody>\n",
       "</table>\n",
       "</div>"
      ],
      "text/plain": [
       "       Agency    Agency_Type Dist_Channel       Product_Name Destination  \\\n",
       "count   44328          44328        44328              44328       44328   \n",
       "unique     16              2            2                 26         138   \n",
       "top       EPX  Travel Agency       Online  Cancellation Plan   SINGAPORE   \n",
       "freq    24656          32113        43572              12979        9267   \n",
       "\n",
       "        Claim  \n",
       "count   44328  \n",
       "unique      2  \n",
       "top        No  \n",
       "freq    43651  "
      ]
     },
     "metadata": {},
     "output_type": "display_data"
    },
    {
     "data": {
      "text/html": [
       "<div>\n",
       "<style scoped>\n",
       "    .dataframe tbody tr th:only-of-type {\n",
       "        vertical-align: middle;\n",
       "    }\n",
       "\n",
       "    .dataframe tbody tr th {\n",
       "        vertical-align: top;\n",
       "    }\n",
       "\n",
       "    .dataframe thead th {\n",
       "        text-align: right;\n",
       "    }\n",
       "</style>\n",
       "<table border=\"1\" class=\"dataframe\">\n",
       "  <thead>\n",
       "    <tr style=\"text-align: right;\">\n",
       "      <th></th>\n",
       "      <th>Agency</th>\n",
       "      <th>Agency_Type</th>\n",
       "      <th>Dist_Channel</th>\n",
       "      <th>Product_Name</th>\n",
       "      <th>Destination</th>\n",
       "      <th>Claim</th>\n",
       "    </tr>\n",
       "  </thead>\n",
       "  <tbody>\n",
       "    <tr>\n",
       "      <th>count</th>\n",
       "      <td>44328</td>\n",
       "      <td>44328</td>\n",
       "      <td>44328</td>\n",
       "      <td>44328</td>\n",
       "      <td>44328</td>\n",
       "      <td>44328</td>\n",
       "    </tr>\n",
       "    <tr>\n",
       "      <th>unique</th>\n",
       "      <td>16</td>\n",
       "      <td>2</td>\n",
       "      <td>2</td>\n",
       "      <td>26</td>\n",
       "      <td>138</td>\n",
       "      <td>2</td>\n",
       "    </tr>\n",
       "    <tr>\n",
       "      <th>top</th>\n",
       "      <td>EPX</td>\n",
       "      <td>Travel Agency</td>\n",
       "      <td>Online</td>\n",
       "      <td>Cancellation Plan</td>\n",
       "      <td>SINGAPORE</td>\n",
       "      <td>No</td>\n",
       "    </tr>\n",
       "    <tr>\n",
       "      <th>freq</th>\n",
       "      <td>24656</td>\n",
       "      <td>32113</td>\n",
       "      <td>43572</td>\n",
       "      <td>12979</td>\n",
       "      <td>9267</td>\n",
       "      <td>43651</td>\n",
       "    </tr>\n",
       "  </tbody>\n",
       "</table>\n",
       "</div>"
      ],
      "text/plain": [
       "       Agency    Agency_Type Dist_Channel       Product_Name Destination  \\\n",
       "count   44328          44328        44328              44328       44328   \n",
       "unique     16              2            2                 26         138   \n",
       "top       EPX  Travel Agency       Online  Cancellation Plan   SINGAPORE   \n",
       "freq    24656          32113        43572              12979        9267   \n",
       "\n",
       "        Claim  \n",
       "count   44328  \n",
       "unique      2  \n",
       "top        No  \n",
       "freq    43651  "
      ]
     },
     "metadata": {},
     "output_type": "display_data"
    }
   ],
   "source": [
    "display(\n",
    "    df.describe(include=['O']),\n",
    "    df.dropna().describe(include=['O'])\n",
    ")"
   ]
  },
  {
   "cell_type": "code",
   "execution_count": 18,
   "metadata": {},
   "outputs": [
    {
     "data": {
      "text/plain": [
       "Agency          0\n",
       "Agency_Type     0\n",
       "Dist_Channel    0\n",
       "Product_Name    0\n",
       "Duration        0\n",
       "Destination     0\n",
       "Net_Sales       0\n",
       "Commision       0\n",
       "Age             0\n",
       "Claim           0\n",
       "dtype: int64"
      ]
     },
     "execution_count": 18,
     "metadata": {},
     "output_type": "execute_result"
    }
   ],
   "source": [
    "df.isna().sum()"
   ]
  },
  {
   "cell_type": "markdown",
   "metadata": {},
   "source": [
    "Setelah kita melakukan pengecekan pada distribusi data dari kolom/fitur Kategorikal, data Kategorikal yang kita punya sama atau tidak ada perubahan apapun setelah data yang kosong dihapus\n",
    "\n",
    "Jadi kesimpulannya, data Kategorikal tersebut bisa digunakan dalam analisis dan modelin machine learning kita nanti.\n",
    "\n",
    "dan juga data tidak ada yang NULL maka\n",
    "\n",
    "**Data yang kita punya sudah bersih, sekarang tim data scientist akan melanjutkan ke tahap analisa data nya untuk keperluan masalah**"
   ]
  },
  {
   "cell_type": "markdown",
   "metadata": {},
   "source": [
    "# DATA ANALYSIS"
   ]
  },
  {
   "cell_type": "markdown",
   "metadata": {},
   "source": [
    "**DISTRIBUSI USIA**"
   ]
  },
  {
   "cell_type": "code",
   "execution_count": 19,
   "metadata": {},
   "outputs": [
    {
     "data": {
      "image/png": "[encoded data removed]",
      "text/plain": [
       "<Figure size 720x360 with 1 Axes>"
      ]
     },
     "metadata": {
      "needs_background": "light"
     },
     "output_type": "display_data"
    }
   ],
   "source": [
    "fig = plt.figure(figsize = (10, 5))\n",
    "plt.hist(df['Age'])\n",
    "plt.xlabel(\"Umur\")\n",
    "plt.ylabel(\"Pelanggan Asuransi\")\n",
    "plt.title(\"Distribusi Usia\")\n",
    "plt.show()"
   ]
  },
  {
   "cell_type": "markdown",
   "metadata": {},
   "source": [
    "Seperti yang terlihat pada histogram yang menggambarkan distribusi usia diatas, dari grafik tersebut bisa disimpulkan bahwa mayoritas orang yang memilih untuk menggunakan asuransi perjalanan adalah sekitar umur 35 hingga 50 tahun. Jadi untuk usia bisa kita pertimbangkan di masukan ke dalam fitur untuk modeling machine learning yang akan kita bangun."
   ]
  },
  {
   "cell_type": "markdown",
   "metadata": {},
   "source": [
    "**TUJUAN PERJALANAN**\n",
    "\n",
    "Disini kita ingin melihat data dimana tujuan perjalanan yang paling populer yang menggunakan asuransi perjalanan"
   ]
  },
  {
   "cell_type": "code",
   "execution_count": 20,
   "metadata": {},
   "outputs": [
    {
     "data": {
      "application/vnd.plotly.v1+json": {
       "config": {
        "plotlyServerURL": "https://plot.ly"
       },
       "data": [
        {
         "domain": {
          "x": [
           0,
           1
          ],
          "y": [
           0,
           1
          ]
         },
         "hovertemplate": "DestinationNew=%{label}<br>counts=%{value}<extra></extra>",
         "labels": [
          "Others",
          "Others",
          "Others",
          "AUSTRALIA",
          "Others",
          "Others",
          "Others",
          "Others",
          "Others",
          "Others",
          "Others",
          "Others",
          "Others",
          "Others",
          "Others",
          "Others",
          "Others",
          "Others",
          "Others",
          "Others",
          "Others",
          "Others",
          "Others",
          "CHINA",
          "Others",
          "Others",
          "Others",
          "Others",
          "Others",
          "Others",
          "Others",
          "Others",
          "Others",
          "Others",
          "Others",
          "Others",
          "Others",
          "Others",
          "Others",
          "Others",
          "Others",
          "Others",
          "Others",
          "Others",
          "Others",
          "Others",
          "Others",
          "Others",
          "Others",
          "HONG KONG",
          "Others",
          "Others",
          "INDIA",
          "INDONESIA",
          "Others",
          "Others",
          "Others",
          "Others",
          "Others",
          "JAPAN",
          "Others",
          "Others",
          "Others",
          "Others",
          "KOREA, REPUBLIC OF",
          "Others",
          "Others",
          "Others",
          "Others",
          "Others",
          "Others",
          "Others",
          "Others",
          "Others",
          "MALAYSIA",
          "Others",
          "Others",
          "Others",
          "Others",
          "Others",
          "Others",
          "Others",
          "Others",
          "Others",
          "Others",
          "Others",
          "Others",
          "Others",
          "Others",
          "Others",
          "Others",
          "Others",
          "Others",
          "Others",
          "Others",
          "Others",
          "PHILIPPINES",
          "Others",
          "Others",
          "Others",
          "Others",
          "Others",
          "Others",
          "Others",
          "Others",
          "Others",
          "Others",
          "Others",
          "Others",
          "Others",
          "SINGAPORE",
          "Others",
          "Others",
          "Others",
          "Others",
          "Others",
          "Others",
          "Others",
          "Others",
          "Others",
          "THAILAND",
          "Others",
          "Others",
          "Others",
          "Others",
          "Others",
          "Others",
          "Others",
          "Others",
          "Others",
          "UNITED STATES",
          "Others",
          "Others",
          "Others",
          "Others",
          "VIET NAM",
          "Others",
          "Others"
         ],
         "legendgroup": "",
         "name": "",
         "showlegend": true,
         "type": "pie",
         "values": [
          1,
          13,
          1,
          2578,
          72,
          5,
          9,
          74,
          3,
          31,
          1,
          3,
          4,
          6,
          1,
          26,
          550,
          7,
          344,
          1,
          371,
          1,
          8,
          3396,
          12,
          4,
          45,
          11,
          43,
          72,
          1,
          7,
          11,
          7,
          4,
          1,
          9,
          58,
          341,
          1,
          11,
          311,
          3,
          75,
          1,
          3,
          2,
          1,
          1,
          1743,
          13,
          79,
          1572,
          2384,
          1,
          81,
          33,
          316,
          1,
          1451,
          11,
          13,
          15,
          1,
          1030,
          4,
          2,
          107,
          1,
          4,
          2,
          5,
          78,
          3,
          4139,
          16,
          2,
          8,
          9,
          23,
          1,
          32,
          12,
          585,
          2,
          77,
          258,
          372,
          1,
          2,
          120,
          14,
          23,
          2,
          10,
          60,
          1758,
          29,
          65,
          2,
          12,
          1,
          1,
          9,
          49,
          1,
          1,
          37,
          1,
          5,
          9267,
          5,
          113,
          245,
          166,
          47,
          210,
          758,
          1,
          16,
          4122,
          1,
          2,
          7,
          55,
          1,
          3,
          9,
          206,
          906,
          1743,
          1,
          7,
          4,
          4,
          1194,
          2,
          3
         ]
        }
       ],
       "layout": {
        "legend": {
         "tracegroupgap": 0
        },
        "template": {
         "data": {
          "bar": [
           {
            "error_x": {
             "color": "#2a3f5f"
            },
            "error_y": {
             "color": "#2a3f5f"
            },
            "marker": {
             "line": {
              "color": "#E5ECF6",
              "width": 0.5
             },
             "pattern": {
              "fillmode": "overlay",
              "size": 10,
              "solidity": 0.2
             }
            },
            "type": "bar"
           }
          ],
          "barpolar": [
           {
            "marker": {
             "line": {
              "color": "#E5ECF6",
              "width": 0.5
             },
             "pattern": {
              "fillmode": "overlay",
              "size": 10,
              "solidity": 0.2
             }
            },
            "type": "barpolar"
           }
          ],
          "carpet": [
           {
            "aaxis": {
             "endlinecolor": "#2a3f5f",
             "gridcolor": "white",
             "linecolor": "white",
             "minorgridcolor": "white",
             "startlinecolor": "#2a3f5f"
            },
            "baxis": {
             "endlinecolor": "#2a3f5f",
             "gridcolor": "white",
             "linecolor": "white",
             "minorgridcolor": "white",
             "startlinecolor": "#2a3f5f"
            },
            "type": "carpet"
           }
          ],
          "choropleth": [
           {
            "colorbar": {
             "outlinewidth": 0,
             "ticks": ""
            },
            "type": "choropleth"
           }
          ],
          "contour": [
           {
            "colorbar": {
             "outlinewidth": 0,
             "ticks": ""
            },
            "colorscale": [
             [
              0,
              "#0d0887"
             ],
             [
              0.1111111111111111,
              "#46039f"
             ],
             [
              0.2222222222222222,
              "#7201a8"
             ],
             [
              0.3333333333333333,
              "#9c179e"
             ],
             [
              0.4444444444444444,
              "#bd3786"
             ],
             [
              0.5555555555555556,
              "#d8576b"
             ],
             [
              0.6666666666666666,
              "#ed7953"
             ],
             [
              0.7777777777777778,
              "#fb9f3a"
             ],
             [
              0.8888888888888888,
              "#fdca26"
             ],
             [
              1,
              "#f0f921"
             ]
            ],
            "type": "contour"
           }
          ],
          "contourcarpet": [
           {
            "colorbar": {
             "outlinewidth": 0,
             "ticks": ""
            },
            "type": "contourcarpet"
           }
          ],
          "heatmap": [
           {
            "colorbar": {
             "outlinewidth": 0,
             "ticks": ""
            },
            "colorscale": [
             [
              0,
              "#0d0887"
             ],
             [
              0.1111111111111111,
              "#46039f"
             ],
             [
              0.2222222222222222,
              "#7201a8"
             ],
             [
              0.3333333333333333,
              "#9c179e"
             ],
             [
              0.4444444444444444,
              "#bd3786"
             ],
             [
              0.5555555555555556,
              "#d8576b"
             ],
             [
              0.6666666666666666,
              "#ed7953"
             ],
             [
              0.7777777777777778,
              "#fb9f3a"
             ],
             [
              0.8888888888888888,
              "#fdca26"
             ],
             [
              1,
              "#f0f921"
             ]
            ],
            "type": "heatmap"
           }
          ],
          "heatmapgl": [
           {
            "colorbar": {
             "outlinewidth": 0,
             "ticks": ""
            },
            "colorscale": [
             [
              0,
              "#0d0887"
             ],
             [
              0.1111111111111111,
              "#46039f"
             ],
             [
              0.2222222222222222,
              "#7201a8"
             ],
             [
              0.3333333333333333,
              "#9c179e"
             ],
             [
              0.4444444444444444,
              "#bd3786"
             ],
             [
              0.5555555555555556,
              "#d8576b"
             ],
             [
              0.6666666666666666,
              "#ed7953"
             ],
             [
              0.7777777777777778,
              "#fb9f3a"
             ],
             [
              0.8888888888888888,
              "#fdca26"
             ],
             [
              1,
              "#f0f921"
             ]
            ],
            "type": "heatmapgl"
           }
          ],
          "histogram": [
           {
            "marker": {
             "pattern": {
              "fillmode": "overlay",
              "size": 10,
              "solidity": 0.2
             }
            },
            "type": "histogram"
           }
          ],
          "histogram2d": [
           {
            "colorbar": {
             "outlinewidth": 0,
             "ticks": ""
            },
            "colorscale": [
             [
              0,
              "#0d0887"
             ],
             [
              0.1111111111111111,
              "#46039f"
             ],
             [
              0.2222222222222222,
              "#7201a8"
             ],
             [
              0.3333333333333333,
              "#9c179e"
             ],
             [
              0.4444444444444444,
              "#bd3786"
             ],
             [
              0.5555555555555556,
              "#d8576b"
             ],
             [
              0.6666666666666666,
              "#ed7953"
             ],
             [
              0.7777777777777778,
              "#fb9f3a"
             ],
             [
              0.8888888888888888,
              "#fdca26"
             ],
             [
              1,
              "#f0f921"
             ]
            ],
            "type": "histogram2d"
           }
          ],
          "histogram2dcontour": [
           {
            "colorbar": {
             "outlinewidth": 0,
             "ticks": ""
            },
            "colorscale": [
             [
              0,
              "#0d0887"
             ],
             [
              0.1111111111111111,
              "#46039f"
             ],
             [
              0.2222222222222222,
              "#7201a8"
             ],
             [
              0.3333333333333333,
              "#9c179e"
             ],
             [
              0.4444444444444444,
              "#bd3786"
             ],
             [
              0.5555555555555556,
              "#d8576b"
             ],
             [
              0.6666666666666666,
              "#ed7953"
             ],
             [
              0.7777777777777778,
              "#fb9f3a"
             ],
             [
              0.8888888888888888,
              "#fdca26"
             ],
             [
              1,
              "#f0f921"
             ]
            ],
            "type": "histogram2dcontour"
           }
          ],
          "mesh3d": [
           {
            "colorbar": {
             "outlinewidth": 0,
             "ticks": ""
            },
            "type": "mesh3d"
           }
          ],
          "parcoords": [
           {
            "line": {
             "colorbar": {
              "outlinewidth": 0,
              "ticks": ""
             }
            },
            "type": "parcoords"
           }
          ],
          "pie": [
           {
            "automargin": true,
            "type": "pie"
           }
          ],
          "scatter": [
           {
            "fillpattern": {
             "fillmode": "overlay",
             "size": 10,
             "solidity": 0.2
            },
            "type": "scatter"
           }
          ],
          "scatter3d": [
           {
            "line": {
             "colorbar": {
              "outlinewidth": 0,
              "ticks": ""
             }
            },
            "marker": {
             "colorbar": {
              "outlinewidth": 0,
              "ticks": ""
             }
            },
            "type": "scatter3d"
           }
          ],
          "scattercarpet": [
           {
            "marker": {
             "colorbar": {
              "outlinewidth": 0,
              "ticks": ""
             }
            },
            "type": "scattercarpet"
           }
          ],
          "scattergeo": [
           {
            "marker": {
             "colorbar": {
              "outlinewidth": 0,
              "ticks": ""
             }
            },
            "type": "scattergeo"
           }
          ],
          "scattergl": [
           {
            "marker": {
             "colorbar": {
              "outlinewidth": 0,
              "ticks": ""
             }
            },
            "type": "scattergl"
           }
          ],
          "scattermapbox": [
           {
            "marker": {
             "colorbar": {
              "outlinewidth": 0,
              "ticks": ""
             }
            },
            "type": "scattermapbox"
           }
          ],
          "scatterpolar": [
           {
            "marker": {
             "colorbar": {
              "outlinewidth": 0,
              "ticks": ""
             }
            },
            "type": "scatterpolar"
           }
          ],
          "scatterpolargl": [
           {
            "marker": {
             "colorbar": {
              "outlinewidth": 0,
              "ticks": ""
             }
            },
            "type": "scatterpolargl"
           }
          ],
          "scatterternary": [
           {
            "marker": {
             "colorbar": {
              "outlinewidth": 0,
              "ticks": ""
             }
            },
            "type": "scatterternary"
           }
          ],
          "surface": [
           {
            "colorbar": {
             "outlinewidth": 0,
             "ticks": ""
            },
            "colorscale": [
             [
              0,
              "#0d0887"
             ],
             [
              0.1111111111111111,
              "#46039f"
             ],
             [
              0.2222222222222222,
              "#7201a8"
             ],
             [
              0.3333333333333333,
              "#9c179e"
             ],
             [
              0.4444444444444444,
              "#bd3786"
             ],
             [
              0.5555555555555556,
              "#d8576b"
             ],
             [
              0.6666666666666666,
              "#ed7953"
             ],
             [
              0.7777777777777778,
              "#fb9f3a"
             ],
             [
              0.8888888888888888,
              "#fdca26"
             ],
             [
              1,
              "#f0f921"
             ]
            ],
            "type": "surface"
           }
          ],
          "table": [
           {
            "cells": {
             "fill": {
              "color": "#EBF0F8"
             },
             "line": {
              "color": "white"
             }
            },
            "header": {
             "fill": {
              "color": "#C8D4E3"
             },
             "line": {
              "color": "white"
             }
            },
            "type": "table"
           }
          ]
         },
         "layout": {
          "annotationdefaults": {
           "arrowcolor": "#2a3f5f",
           "arrowhead": 0,
           "arrowwidth": 1
          },
          "autotypenumbers": "strict",
          "coloraxis": {
           "colorbar": {
            "outlinewidth": 0,
            "ticks": ""
           }
          },
          "colorscale": {
           "diverging": [
            [
             0,
             "#8e0152"
            ],
            [
             0.1,
             "#c51b7d"
            ],
            [
             0.2,
             "#de77ae"
            ],
            [
             0.3,
             "#f1b6da"
            ],
            [
             0.4,
             "#fde0ef"
            ],
            [
             0.5,
             "#f7f7f7"
            ],
            [
             0.6,
             "#e6f5d0"
            ],
            [
             0.7,
             "#b8e186"
            ],
            [
             0.8,
             "#7fbc41"
            ],
            [
             0.9,
             "#4d9221"
            ],
            [
             1,
             "#276419"
            ]
           ],
           "sequential": [
            [
             0,
             "#0d0887"
            ],
            [
             0.1111111111111111,
             "#46039f"
            ],
            [
             0.2222222222222222,
             "#7201a8"
            ],
            [
             0.3333333333333333,
             "#9c179e"
            ],
            [
             0.4444444444444444,
             "#bd3786"
            ],
            [
             0.5555555555555556,
             "#d8576b"
            ],
            [
             0.6666666666666666,
             "#ed7953"
            ],
            [
             0.7777777777777778,
             "#fb9f3a"
            ],
            [
             0.8888888888888888,
             "#fdca26"
            ],
            [
             1,
             "#f0f921"
            ]
           ],
           "sequentialminus": [
            [
             0,
             "#0d0887"
            ],
            [
             0.1111111111111111,
             "#46039f"
            ],
            [
             0.2222222222222222,
             "#7201a8"
            ],
            [
             0.3333333333333333,
             "#9c179e"
            ],
            [
             0.4444444444444444,
             "#bd3786"
            ],
            [
             0.5555555555555556,
             "#d8576b"
            ],
            [
             0.6666666666666666,
             "#ed7953"
            ],
            [
             0.7777777777777778,
             "#fb9f3a"
            ],
            [
             0.8888888888888888,
             "#fdca26"
            ],
            [
             1,
             "#f0f921"
            ]
           ]
          },
          "colorway": [
           "#636efa",
           "#EF553B",
           "#00cc96",
           "#ab63fa",
           "#FFA15A",
           "#19d3f3",
           "#FF6692",
           "#B6E880",
           "#FF97FF",
           "#FECB52"
          ],
          "font": {
           "color": "#2a3f5f"
          },
          "geo": {
           "bgcolor": "white",
           "lakecolor": "white",
           "landcolor": "#E5ECF6",
           "showlakes": true,
           "showland": true,
           "subunitcolor": "white"
          },
          "hoverlabel": {
           "align": "left"
          },
          "hovermode": "closest",
          "mapbox": {
           "style": "light"
          },
          "paper_bgcolor": "white",
          "plot_bgcolor": "#E5ECF6",
          "polar": {
           "angularaxis": {
            "gridcolor": "white",
            "linecolor": "white",
            "ticks": ""
           },
           "bgcolor": "#E5ECF6",
           "radialaxis": {
            "gridcolor": "white",
            "linecolor": "white",
            "ticks": ""
           }
          },
          "scene": {
           "xaxis": {
            "backgroundcolor": "#E5ECF6",
            "gridcolor": "white",
            "gridwidth": 2,
            "linecolor": "white",
            "showbackground": true,
            "ticks": "",
            "zerolinecolor": "white"
           },
           "yaxis": {
            "backgroundcolor": "#E5ECF6",
            "gridcolor": "white",
            "gridwidth": 2,
            "linecolor": "white",
            "showbackground": true,
            "ticks": "",
            "zerolinecolor": "white"
           },
           "zaxis": {
            "backgroundcolor": "#E5ECF6",
            "gridcolor": "white",
            "gridwidth": 2,
            "linecolor": "white",
            "showbackground": true,
            "ticks": "",
            "zerolinecolor": "white"
           }
          },
          "shapedefaults": {
           "line": {
            "color": "#2a3f5f"
           }
          },
          "ternary": {
           "aaxis": {
            "gridcolor": "white",
            "linecolor": "white",
            "ticks": ""
           },
           "baxis": {
            "gridcolor": "white",
            "linecolor": "white",
            "ticks": ""
           },
           "bgcolor": "#E5ECF6",
           "caxis": {
            "gridcolor": "white",
            "linecolor": "white",
            "ticks": ""
           }
          },
          "title": {
           "x": 0.05
          },
          "xaxis": {
           "automargin": true,
           "gridcolor": "white",
           "linecolor": "white",
           "ticks": "",
           "title": {
            "standoff": 15
           },
           "zerolinecolor": "white",
           "zerolinewidth": 2
          },
          "yaxis": {
           "automargin": true,
           "gridcolor": "white",
           "linecolor": "white",
           "ticks": "",
           "title": {
            "standoff": 15
           },
           "zerolinecolor": "white",
           "zerolinewidth": 2
          }
         }
        },
        "title": {
         "text": "Tujuan perjalanan terpopuler yang menggunakan asuransi perjalanan"
        }
       }
      }
     },
     "metadata": {},
     "output_type": "display_data"
    }
   ],
   "source": [
    "df1 = df.groupby(by=[\"Destination\"]).size().reset_index(name=\"counts\")\n",
    "df1.nlargest(15,['counts'])\n",
    "df1['DestinationNew'] = np.where(df1['counts']>1000, df1['Destination'], 'Others')\n",
    "fig = px.pie(df1, values='counts', names='DestinationNew', title='Tujuan perjalanan terpopuler yang menggunakan asuransi perjalanan')\n",
    "fig.show()"
   ]
  },
  {
   "cell_type": "markdown",
   "metadata": {},
   "source": [
    "Seperti yang terlihat pada grafik pie chart diatas, tujuan perjalanan yang terpopuler menggunakan asuransi perjalanan adalah ke negara SINGAPORE dengan persentase 20.9%."
   ]
  },
  {
   "cell_type": "code",
   "execution_count": 21,
   "metadata": {},
   "outputs": [
    {
     "data": {
      "image/png": "[encoded data removed]",
      "text/plain": [
       "<Figure size 432x288 with 1 Axes>"
      ]
     },
     "metadata": {},
     "output_type": "display_data"
    }
   ],
   "source": [
    "from palettable.colorbrewer.qualitative import Pastel1_7\n",
    "\n",
    "df4=df.loc[df['Claim']=='Yes']\n",
    "df5= df4.groupby(by=[\"Destination\"]).size().reset_index(name=\"counts\")\n",
    "df6=df5.nlargest(5,['counts'])\n",
    "my_circle = plt.Circle((0, 0), 0.6, color='white')\n",
    "plt.pie(df6['counts'], labels=df6['Destination'], autopct='%1.1f%%', colors=Pastel1_7.hex_colors)\n",
    "plt.title('Top 5 countries where insured are raising claim requests')\n",
    "p = plt.gcf()\n",
    "p.gca().add_artist(my_circle)\n",
    "plt.show()"
   ]
  },
  {
   "cell_type": "markdown",
   "metadata": {},
   "source": [
    "Seperti yang kita lihat juga dari grafik diatas untuk 5 negara teratas yang klaimnya disetujui oleh asuransi perjalanan, dan negara Singapore dengan 78,2% menjadi negara paling tinggi dimana asuransi perjalanan menyetujui klaim para pelanggan.\n",
    "\n",
    "Tujuan perjalanan ini bisa juga dipertimbangkan untuk dimasukkan ke dalam fitur dalam modeling machine learning yang akan kita bangun."
   ]
  },
  {
   "cell_type": "markdown",
   "metadata": {},
   "source": [
    "**AGEN ASURANSI**\n",
    "\n",
    "Kita ingin melihat agen asuransi manakah yang paling banyak digunakan oleh orang-orang untuk menggunakan asuransi perjalanannya."
   ]
  },
  {
   "cell_type": "code",
   "execution_count": 22,
   "metadata": {},
   "outputs": [
    {
     "data": {
      "image/png": "[encoded data removed]",
      "text/plain": [
       "<Figure size 720x360 with 1 Axes>"
      ]
     },
     "metadata": {
      "needs_background": "light"
     },
     "output_type": "display_data"
    }
   ],
   "source": [
    "df2 = df.groupby(by=[\"Agency\"]).size().reset_index(name=\"counts\")\n",
    "fig = plt.figure(figsize = (10, 5))\n",
    "plt.bar(df2['Agency'], df2['counts'], color ='maroon', width = 0.4)\n",
    "plt.xlabel(\"Agen Asuransi\")\n",
    "plt.ylabel(\"Pelanggan Asuransi\")\n",
    "plt.title(\"Data agen asuransi terbanyak yang digunakan oleh para pelanggan\")\n",
    "plt.show()"
   ]
  },
  {
   "cell_type": "markdown",
   "metadata": {},
   "source": [
    "Seperti yang terlihat pada histogram diatas, orang-orang yang menggunakan asuransi perjalanan banyak menggunakan jasa agen asuransi EPX. Data seperti ini bisa kita gunakan sebagai pertimbangan dimasukkan ke dalam fitur dalam modeling machine learning yang akan kita bangun nanti."
   ]
  },
  {
   "cell_type": "markdown",
   "metadata": {},
   "source": [
    "**SALURAN DISTRIBUSI**\n",
    "\n",
    "Kita akan mengecek berapa banyak orang yang melakukan registrasi asuransi perjalanan dari sisi distribusi channel nya apakah pendaftarannya dari online atau offline."
   ]
  },
  {
   "cell_type": "code",
   "execution_count": 23,
   "metadata": {},
   "outputs": [
    {
     "data": {
      "image/png": "[encoded data removed]",
      "text/plain": [
       "<Figure size 432x288 with 1 Axes>"
      ]
     },
     "metadata": {
      "needs_background": "light"
     },
     "output_type": "display_data"
    }
   ],
   "source": [
    "df3 = df.groupby(by=['Dist_Channel']).size().reset_index(name=\"counts\")\n",
    "plt.bar(df3['Dist_Channel'], df3['counts'], color ='purple',width = 0.4)\n",
    "plt.xlabel(\"Distribution Channel\")\n",
    "plt.ylabel(\"Orang yang mendaftar asuransi\")\n",
    "plt.title(\"Channel distribusi orang yang mendaftar asuransi perjalanan\")\n",
    "plt.show()"
   ]
  },
  {
   "cell_type": "markdown",
   "metadata": {},
   "source": [
    "Seperti yang terlihat dari grafik diatas untuk channel distribusi, jadi sebagian besar orang yang mendaftarkan asuransi perjalanannya dengan menggunakan mode online. Disini kita bisa mempertimbangkan untuk kolom distribusi channel untuk dimasukkan kedalam fitur modeling machine learning yang akan kita bangun."
   ]
  },
  {
   "cell_type": "markdown",
   "metadata": {},
   "source": [
    "**PRODUK ASURANSI**\n",
    "\n",
    "Dari tim data scientist ingin melakukan pengecekan dari sisi produk asuransi nya, dimana kita ingin mengecek produk manakah yang paling banyak orang gunakan untuk asuransi perjalanan ini."
   ]
  },
  {
   "cell_type": "code",
   "execution_count": 24,
   "metadata": {},
   "outputs": [
    {
     "data": {
      "application/vnd.plotly.v1+json": {
       "config": {
        "plotlyServerURL": "https://plot.ly"
       },
       "data": [
        {
         "domain": {
          "x": [
           0,
           1
          ],
          "y": [
           0,
           1
          ]
         },
         "hovertemplate": "Product_Name=%{label}<br>counts=%{value}<extra></extra>",
         "labels": [
          "1 way Comprehensive Plan",
          "2 way Comprehensive Plan",
          "Others",
          "Others",
          "Annual Silver Plan",
          "Others",
          "Others",
          "Others",
          "Basic Plan",
          "Bronze Plan",
          "Cancellation Plan",
          "Others",
          "Others",
          "Others",
          "Others",
          "Others",
          "Rental Vehicle Excess Insurance",
          "Silver Plan",
          "Others",
          "Others",
          "Others",
          "Others",
          "Ticket Protector",
          "Others",
          "Others",
          "Value Plan"
         ],
         "legendgroup": "",
         "name": "",
         "showlegend": true,
         "type": "pie",
         "values": [
          2336,
          9341,
          172,
          142,
          975,
          63,
          34,
          59,
          3834,
          2847,
          12979,
          8,
          253,
          237,
          48,
          130,
          5980,
          1552,
          135,
          47,
          117,
          13,
          765,
          353,
          1,
          1907
         ]
        }
       ],
       "layout": {
        "legend": {
         "tracegroupgap": 0
        },
        "template": {
         "data": {
          "bar": [
           {
            "error_x": {
             "color": "#2a3f5f"
            },
            "error_y": {
             "color": "#2a3f5f"
            },
            "marker": {
             "line": {
              "color": "#E5ECF6",
              "width": 0.5
             },
             "pattern": {
              "fillmode": "overlay",
              "size": 10,
              "solidity": 0.2
             }
            },
            "type": "bar"
           }
          ],
          "barpolar": [
           {
            "marker": {
             "line": {
              "color": "#E5ECF6",
              "width": 0.5
             },
             "pattern": {
              "fillmode": "overlay",
              "size": 10,
              "solidity": 0.2
             }
            },
            "type": "barpolar"
           }
          ],
          "carpet": [
           {
            "aaxis": {
             "endlinecolor": "#2a3f5f",
             "gridcolor": "white",
             "linecolor": "white",
             "minorgridcolor": "white",
             "startlinecolor": "#2a3f5f"
            },
            "baxis": {
             "endlinecolor": "#2a3f5f",
             "gridcolor": "white",
             "linecolor": "white",
             "minorgridcolor": "white",
             "startlinecolor": "#2a3f5f"
            },
            "type": "carpet"
           }
          ],
          "choropleth": [
           {
            "colorbar": {
             "outlinewidth": 0,
             "ticks": ""
            },
            "type": "choropleth"
           }
          ],
          "contour": [
           {
            "colorbar": {
             "outlinewidth": 0,
             "ticks": ""
            },
            "colorscale": [
             [
              0,
              "#0d0887"
             ],
             [
              0.1111111111111111,
              "#46039f"
             ],
             [
              0.2222222222222222,
              "#7201a8"
             ],
             [
              0.3333333333333333,
              "#9c179e"
             ],
             [
              0.4444444444444444,
              "#bd3786"
             ],
             [
              0.5555555555555556,
              "#d8576b"
             ],
             [
              0.6666666666666666,
              "#ed7953"
             ],
             [
              0.7777777777777778,
              "#fb9f3a"
             ],
             [
              0.8888888888888888,
              "#fdca26"
             ],
             [
              1,
              "#f0f921"
             ]
            ],
            "type": "contour"
           }
          ],
          "contourcarpet": [
           {
            "colorbar": {
             "outlinewidth": 0,
             "ticks": ""
            },
            "type": "contourcarpet"
           }
          ],
          "heatmap": [
           {
            "colorbar": {
             "outlinewidth": 0,
             "ticks": ""
            },
            "colorscale": [
             [
              0,
              "#0d0887"
             ],
             [
              0.1111111111111111,
              "#46039f"
             ],
             [
              0.2222222222222222,
              "#7201a8"
             ],
             [
              0.3333333333333333,
              "#9c179e"
             ],
             [
              0.4444444444444444,
              "#bd3786"
             ],
             [
              0.5555555555555556,
              "#d8576b"
             ],
             [
              0.6666666666666666,
              "#ed7953"
             ],
             [
              0.7777777777777778,
              "#fb9f3a"
             ],
             [
              0.8888888888888888,
              "#fdca26"
             ],
             [
              1,
              "#f0f921"
             ]
            ],
            "type": "heatmap"
           }
          ],
          "heatmapgl": [
           {
            "colorbar": {
             "outlinewidth": 0,
             "ticks": ""
            },
            "colorscale": [
             [
              0,
              "#0d0887"
             ],
             [
              0.1111111111111111,
              "#46039f"
             ],
             [
              0.2222222222222222,
              "#7201a8"
             ],
             [
              0.3333333333333333,
              "#9c179e"
             ],
             [
              0.4444444444444444,
              "#bd3786"
             ],
             [
              0.5555555555555556,
              "#d8576b"
             ],
             [
              0.6666666666666666,
              "#ed7953"
             ],
             [
              0.7777777777777778,
              "#fb9f3a"
             ],
             [
              0.8888888888888888,
              "#fdca26"
             ],
             [
              1,
              "#f0f921"
             ]
            ],
            "type": "heatmapgl"
           }
          ],
          "histogram": [
           {
            "marker": {
             "pattern": {
              "fillmode": "overlay",
              "size": 10,
              "solidity": 0.2
             }
            },
            "type": "histogram"
           }
          ],
          "histogram2d": [
           {
            "colorbar": {
             "outlinewidth": 0,
             "ticks": ""
            },
            "colorscale": [
             [
              0,
              "#0d0887"
             ],
             [
              0.1111111111111111,
              "#46039f"
             ],
             [
              0.2222222222222222,
              "#7201a8"
             ],
             [
              0.3333333333333333,
              "#9c179e"
             ],
             [
              0.4444444444444444,
              "#bd3786"
             ],
             [
              0.5555555555555556,
              "#d8576b"
             ],
             [
              0.6666666666666666,
              "#ed7953"
             ],
             [
              0.7777777777777778,
              "#fb9f3a"
             ],
             [
              0.8888888888888888,
              "#fdca26"
             ],
             [
              1,
              "#f0f921"
             ]
            ],
            "type": "histogram2d"
           }
          ],
          "histogram2dcontour": [
           {
            "colorbar": {
             "outlinewidth": 0,
             "ticks": ""
            },
            "colorscale": [
             [
              0,
              "#0d0887"
             ],
             [
              0.1111111111111111,
              "#46039f"
             ],
             [
              0.2222222222222222,
              "#7201a8"
             ],
             [
              0.3333333333333333,
              "#9c179e"
             ],
             [
              0.4444444444444444,
              "#bd3786"
             ],
             [
              0.5555555555555556,
              "#d8576b"
             ],
             [
              0.6666666666666666,
              "#ed7953"
             ],
             [
              0.7777777777777778,
              "#fb9f3a"
             ],
             [
              0.8888888888888888,
              "#fdca26"
             ],
             [
              1,
              "#f0f921"
             ]
            ],
            "type": "histogram2dcontour"
           }
          ],
          "mesh3d": [
           {
            "colorbar": {
             "outlinewidth": 0,
             "ticks": ""
            },
            "type": "mesh3d"
           }
          ],
          "parcoords": [
           {
            "line": {
             "colorbar": {
              "outlinewidth": 0,
              "ticks": ""
             }
            },
            "type": "parcoords"
           }
          ],
          "pie": [
           {
            "automargin": true,
            "type": "pie"
           }
          ],
          "scatter": [
           {
            "fillpattern": {
             "fillmode": "overlay",
             "size": 10,
             "solidity": 0.2
            },
            "type": "scatter"
           }
          ],
          "scatter3d": [
           {
            "line": {
             "colorbar": {
              "outlinewidth": 0,
              "ticks": ""
             }
            },
            "marker": {
             "colorbar": {
              "outlinewidth": 0,
              "ticks": ""
             }
            },
            "type": "scatter3d"
           }
          ],
          "scattercarpet": [
           {
            "marker": {
             "colorbar": {
              "outlinewidth": 0,
              "ticks": ""
             }
            },
            "type": "scattercarpet"
           }
          ],
          "scattergeo": [
           {
            "marker": {
             "colorbar": {
              "outlinewidth": 0,
              "ticks": ""
             }
            },
            "type": "scattergeo"
           }
          ],
          "scattergl": [
           {
            "marker": {
             "colorbar": {
              "outlinewidth": 0,
              "ticks": ""
             }
            },
            "type": "scattergl"
           }
          ],
          "scattermapbox": [
           {
            "marker": {
             "colorbar": {
              "outlinewidth": 0,
              "ticks": ""
             }
            },
            "type": "scattermapbox"
           }
          ],
          "scatterpolar": [
           {
            "marker": {
             "colorbar": {
              "outlinewidth": 0,
              "ticks": ""
             }
            },
            "type": "scatterpolar"
           }
          ],
          "scatterpolargl": [
           {
            "marker": {
             "colorbar": {
              "outlinewidth": 0,
              "ticks": ""
             }
            },
            "type": "scatterpolargl"
           }
          ],
          "scatterternary": [
           {
            "marker": {
             "colorbar": {
              "outlinewidth": 0,
              "ticks": ""
             }
            },
            "type": "scatterternary"
           }
          ],
          "surface": [
           {
            "colorbar": {
             "outlinewidth": 0,
             "ticks": ""
            },
            "colorscale": [
             [
              0,
              "#0d0887"
             ],
             [
              0.1111111111111111,
              "#46039f"
             ],
             [
              0.2222222222222222,
              "#7201a8"
             ],
             [
              0.3333333333333333,
              "#9c179e"
             ],
             [
              0.4444444444444444,
              "#bd3786"
             ],
             [
              0.5555555555555556,
              "#d8576b"
             ],
             [
              0.6666666666666666,
              "#ed7953"
             ],
             [
              0.7777777777777778,
              "#fb9f3a"
             ],
             [
              0.8888888888888888,
              "#fdca26"
             ],
             [
              1,
              "#f0f921"
             ]
            ],
            "type": "surface"
           }
          ],
          "table": [
           {
            "cells": {
             "fill": {
              "color": "#EBF0F8"
             },
             "line": {
              "color": "white"
             }
            },
            "header": {
             "fill": {
              "color": "#C8D4E3"
             },
             "line": {
              "color": "white"
             }
            },
            "type": "table"
           }
          ]
         },
         "layout": {
          "annotationdefaults": {
           "arrowcolor": "#2a3f5f",
           "arrowhead": 0,
           "arrowwidth": 1
          },
          "autotypenumbers": "strict",
          "coloraxis": {
           "colorbar": {
            "outlinewidth": 0,
            "ticks": ""
           }
          },
          "colorscale": {
           "diverging": [
            [
             0,
             "#8e0152"
            ],
            [
             0.1,
             "#c51b7d"
            ],
            [
             0.2,
             "#de77ae"
            ],
            [
             0.3,
             "#f1b6da"
            ],
            [
             0.4,
             "#fde0ef"
            ],
            [
             0.5,
             "#f7f7f7"
            ],
            [
             0.6,
             "#e6f5d0"
            ],
            [
             0.7,
             "#b8e186"
            ],
            [
             0.8,
             "#7fbc41"
            ],
            [
             0.9,
             "#4d9221"
            ],
            [
             1,
             "#276419"
            ]
           ],
           "sequential": [
            [
             0,
             "#0d0887"
            ],
            [
             0.1111111111111111,
             "#46039f"
            ],
            [
             0.2222222222222222,
             "#7201a8"
            ],
            [
             0.3333333333333333,
             "#9c179e"
            ],
            [
             0.4444444444444444,
             "#bd3786"
            ],
            [
             0.5555555555555556,
             "#d8576b"
            ],
            [
             0.6666666666666666,
             "#ed7953"
            ],
            [
             0.7777777777777778,
             "#fb9f3a"
            ],
            [
             0.8888888888888888,
             "#fdca26"
            ],
            [
             1,
             "#f0f921"
            ]
           ],
           "sequentialminus": [
            [
             0,
             "#0d0887"
            ],
            [
             0.1111111111111111,
             "#46039f"
            ],
            [
             0.2222222222222222,
             "#7201a8"
            ],
            [
             0.3333333333333333,
             "#9c179e"
            ],
            [
             0.4444444444444444,
             "#bd3786"
            ],
            [
             0.5555555555555556,
             "#d8576b"
            ],
            [
             0.6666666666666666,
             "#ed7953"
            ],
            [
             0.7777777777777778,
             "#fb9f3a"
            ],
            [
             0.8888888888888888,
             "#fdca26"
            ],
            [
             1,
             "#f0f921"
            ]
           ]
          },
          "colorway": [
           "#636efa",
           "#EF553B",
           "#00cc96",
           "#ab63fa",
           "#FFA15A",
           "#19d3f3",
           "#FF6692",
           "#B6E880",
           "#FF97FF",
           "#FECB52"
          ],
          "font": {
           "color": "#2a3f5f"
          },
          "geo": {
           "bgcolor": "white",
           "lakecolor": "white",
           "landcolor": "#E5ECF6",
           "showlakes": true,
           "showland": true,
           "subunitcolor": "white"
          },
          "hoverlabel": {
           "align": "left"
          },
          "hovermode": "closest",
          "mapbox": {
           "style": "light"
          },
          "paper_bgcolor": "white",
          "plot_bgcolor": "#E5ECF6",
          "polar": {
           "angularaxis": {
            "gridcolor": "white",
            "linecolor": "white",
            "ticks": ""
           },
           "bgcolor": "#E5ECF6",
           "radialaxis": {
            "gridcolor": "white",
            "linecolor": "white",
            "ticks": ""
           }
          },
          "scene": {
           "xaxis": {
            "backgroundcolor": "#E5ECF6",
            "gridcolor": "white",
            "gridwidth": 2,
            "linecolor": "white",
            "showbackground": true,
            "ticks": "",
            "zerolinecolor": "white"
           },
           "yaxis": {
            "backgroundcolor": "#E5ECF6",
            "gridcolor": "white",
            "gridwidth": 2,
            "linecolor": "white",
            "showbackground": true,
            "ticks": "",
            "zerolinecolor": "white"
           },
           "zaxis": {
            "backgroundcolor": "#E5ECF6",
            "gridcolor": "white",
            "gridwidth": 2,
            "linecolor": "white",
            "showbackground": true,
            "ticks": "",
            "zerolinecolor": "white"
           }
          },
          "shapedefaults": {
           "line": {
            "color": "#2a3f5f"
           }
          },
          "ternary": {
           "aaxis": {
            "gridcolor": "white",
            "linecolor": "white",
            "ticks": ""
           },
           "baxis": {
            "gridcolor": "white",
            "linecolor": "white",
            "ticks": ""
           },
           "bgcolor": "#E5ECF6",
           "caxis": {
            "gridcolor": "white",
            "linecolor": "white",
            "ticks": ""
           }
          },
          "title": {
           "x": 0.05
          },
          "xaxis": {
           "automargin": true,
           "gridcolor": "white",
           "linecolor": "white",
           "ticks": "",
           "title": {
            "standoff": 15
           },
           "zerolinecolor": "white",
           "zerolinewidth": 2
          },
          "yaxis": {
           "automargin": true,
           "gridcolor": "white",
           "linecolor": "white",
           "ticks": "",
           "title": {
            "standoff": 15
           },
           "zerolinecolor": "white",
           "zerolinewidth": 2
          }
         }
        },
        "title": {
         "text": "Produk asuransi yang paling banyak digunakan"
        }
       }
      }
     },
     "metadata": {},
     "output_type": "display_data"
    }
   ],
   "source": [
    "df7 = df.groupby(by=[\"Product_Name\"]).size().reset_index(name=\"counts\")\n",
    "df8 = df.groupby(by=[\"Product_Name\"]).size().reset_index(name=\"counts\")\n",
    "df8['Product_Name'] = np.where(df7['counts']>500, df7['Product_Name'], 'Others')\n",
    "fig = px.pie(df8, values='counts', names='Product_Name', title='Produk asuransi yang paling banyak digunakan')\n",
    "fig.show()"
   ]
  },
  {
   "cell_type": "markdown",
   "metadata": {},
   "source": [
    "Seperti yang terlihat diatas ini, paling banyak orang di produk cancellation plan."
   ]
  },
  {
   "cell_type": "code",
   "execution_count": 25,
   "metadata": {},
   "outputs": [
    {
     "data": {
      "image/png": "[encoded data removed]",
      "text/plain": [
       "<Figure size 432x288 with 1 Axes>"
      ]
     },
     "metadata": {},
     "output_type": "display_data"
    }
   ],
   "source": [
    "df9 = df4.groupby(by=[\"Product_Name\"]).size().reset_index(name=\"counts\")\n",
    "df10 = df9.nlargest(5,['counts'])\n",
    "my_circle = plt.Circle((0, 0), 0.6, color='white')\n",
    "plt.pie(df10['counts'], labels=df10['Product_Name'], autopct='%1.1f%%',colors=Pastel1_7.hex_colors)\n",
    "plt.title('5 teratas produk asuransi yang diklaim')\n",
    "p = plt.gcf()\n",
    "p.gca().add_artist(my_circle)\n",
    "plt.show()"
   ]
  },
  {
   "cell_type": "markdown",
   "metadata": {},
   "source": [
    "Seperti yang terlihat dari grafik diatas, bahwa produk asuransi yang paling banyak disetujui klaimnya adalah produk asuransi \"Bronze Plan\" dengan persentase 30.1% dan kedua yaitu Annual silver plan dengan 20.3%. Dari sini kita bisa mempertimbangkan untuk memasukkan kolom produk kedalam fitur untuk modeling machnine learning yang akan kita bangun nanti."
   ]
  },
  {
   "cell_type": "markdown",
   "metadata": {},
   "source": [
    "**JENIS TIPE AGEN**\n",
    "\n",
    "Tim data scientist ingin melakukan pengecekan terhadap jenis tipe agen"
   ]
  },
  {
   "cell_type": "code",
   "execution_count": 26,
   "metadata": {},
   "outputs": [
    {
     "data": {
      "image/png": "[encoded data removed]",
      "text/plain": [
       "<Figure size 432x288 with 1 Axes>"
      ]
     },
     "metadata": {
      "needs_background": "light"
     },
     "output_type": "display_data"
    }
   ],
   "source": [
    "df11=df.groupby(by=['Agency_Type']).size().reset_index(name=\"counts\")\n",
    "plt.bar(df11['Agency_Type'], df11['counts'], color ='red',width = 0.4)\n",
    "plt.xlabel(\"Jenis tipe Agen\")\n",
    "plt.ylabel(\"Pelanggan Asuransi\")\n",
    "plt.title(\"Orang yang diasuransikan dari jenis tipe agen\")\n",
    "plt.show()"
   ]
  },
  {
   "cell_type": "markdown",
   "metadata": {},
   "source": [
    "Seperti yang terlihat dari grafik diatas bahwa paling banyak orang melakukan registrasi asuransi perjalanan yaitu dengan melalui Travel Agency dibandingkan dengan Airlines. Disini kita bisa mempertimbangkan untuk memasukkan kolom Agency_Type ke dalam fitur modeling machine learning yang akan kita bangun nanti."
   ]
  },
  {
   "cell_type": "markdown",
   "metadata": {},
   "source": [
    "**KLAIM ASURANSI**\n",
    "\n",
    "Kita akan melakukan pengecekan data pada klaim asuransi"
   ]
  },
  {
   "cell_type": "code",
   "execution_count": 27,
   "metadata": {},
   "outputs": [
    {
     "data": {
      "image/png": "[encoded data removed]",
      "text/plain": [
       "<Figure size 432x288 with 1 Axes>"
      ]
     },
     "metadata": {
      "needs_background": "light"
     },
     "output_type": "display_data"
    }
   ],
   "source": [
    "df12 = df.groupby(by=[\"Claim\"]).size().reset_index(name=\"counts\")\n",
    "plt.bar(df12['Claim'], df12['counts'], color ='grey',width = 0.4)\n",
    "plt.xlabel(\"Klaim Asuransi\")\n",
    "plt.ylabel(\"Pelanggan Asuransi\")\n",
    "plt.title(\"Orang yang asuransi perjalanannya diterima atau ditolak\")\n",
    "plt.show()"
   ]
  },
  {
   "cell_type": "code",
   "execution_count": 28,
   "metadata": {},
   "outputs": [
    {
     "data": {
      "text/plain": [
       "No     43651\n",
       "Yes      677\n",
       "Name: Claim, dtype: int64"
      ]
     },
     "execution_count": 28,
     "metadata": {},
     "output_type": "execute_result"
    }
   ],
   "source": [
    "results = df[\"Claim\"].value_counts(dropna=False)\n",
    "results"
   ]
  },
  {
   "cell_type": "code",
   "execution_count": 29,
   "metadata": {},
   "outputs": [
    {
     "name": "stdout",
     "output_type": "stream",
     "text": [
      "Percentage of claims that are Yes:  0.01527251398664501\n"
     ]
    }
   ],
   "source": [
    "print(\"Percentage of claims that are Yes: \" , results[1]/(results[0] + results[1]))"
   ]
  },
  {
   "cell_type": "markdown",
   "metadata": {},
   "source": [
    "Seperti yang terlihat dari grafik diatas, bahwa orang-orang yang melakukan registrasi asuransi perjalanan lebih banyak ditolak dibandingkan yang diterima, disini terlihat jelas bahwa data klaim tidak seimbang, maka kita bisa memasukkan kolom Claim sebagai target untuk dimasukkan kedalam modeling machine learning yang kan kita bangun nanti, karena kita ingin menyelesaikan masalah ketidakseimbangan data dari kolom klaim."
   ]
  },
  {
   "cell_type": "markdown",
   "metadata": {},
   "source": [
    "## CEK DATA NUMERIKAL\n",
    "\n",
    "Tim data scientist disini akan melakukan pengecekan data numerikal yang akan dipertimbangkan untuk dimasukkan ke dalam modeling machine learning."
   ]
  },
  {
   "cell_type": "code",
   "execution_count": 30,
   "metadata": {},
   "outputs": [
    {
     "name": "stdout",
     "output_type": "stream",
     "text": [
      "<class 'pandas.core.frame.DataFrame'>\n",
      "RangeIndex: 44328 entries, 0 to 44327\n",
      "Data columns (total 4 columns):\n",
      " #   Column     Non-Null Count  Dtype  \n",
      "---  ------     --------------  -----  \n",
      " 0   Duration   44328 non-null  int64  \n",
      " 1   Net_Sales  44328 non-null  float64\n",
      " 2   Commision  44328 non-null  float64\n",
      " 3   Age        44328 non-null  int64  \n",
      "dtypes: float64(2), int64(2)\n",
      "memory usage: 1.4 MB\n"
     ]
    }
   ],
   "source": [
    "df_numerical=df._get_numeric_data()\n",
    "df_numerical.info()"
   ]
  },
  {
   "cell_type": "code",
   "execution_count": 31,
   "metadata": {},
   "outputs": [
    {
     "data": {
      "image/png": "[encoded data removed]",
      "text/plain": [
       "<Figure size 432x288 with 1 Axes>"
      ]
     },
     "metadata": {
      "needs_background": "light"
     },
     "output_type": "display_data"
    },
    {
     "data": {
      "image/png": "[encoded data removed]",
      "text/plain": [
       "<Figure size 432x288 with 1 Axes>"
      ]
     },
     "metadata": {
      "needs_background": "light"
     },
     "output_type": "display_data"
    },
    {
     "data": {
      "image/png": "[encoded data removed]",
      "text/plain": [
       "<Figure size 432x288 with 1 Axes>"
      ]
     },
     "metadata": {
      "needs_background": "light"
     },
     "output_type": "display_data"
    },
    {
     "data": {
      "image/png": "[encoded data removed]",
      "text/plain": [
       "<Figure size 432x288 with 1 Axes>"
      ]
     },
     "metadata": {
      "needs_background": "light"
     },
     "output_type": "display_data"
    }
   ],
   "source": [
    "for i, col in enumerate(df_numerical.columns):\n",
    "    plt.figure(i)\n",
    "    sns.distplot(df_numerical[col])"
   ]
  },
  {
   "cell_type": "markdown",
   "metadata": {},
   "source": [
    "Seperti yang terlihat dari grafik data numerikal diatas, dapat kita bisa simpulkan :\n",
    "\n",
    "* Duration : Data dari kolom ini sangat miring ke kanan atau right skew\n",
    "* Net_Sales and Comission : Kedua kolom ini sepertinya terkait satu dengan sama lainnya, tapi dari plot grafik menunjukkan perbedaan karena penjualan bersih yang rendah menunjukkan komisi yang tinggi yang dimana secara domain knowledge itu tidak mungkin\n",
    "* Age : Data dari kolom Age adalah random sehingga distribusinya bisa random "
   ]
  },
  {
   "cell_type": "markdown",
   "metadata": {},
   "source": [
    "**CEK KOLOM Duration**"
   ]
  },
  {
   "cell_type": "code",
   "execution_count": 32,
   "metadata": {},
   "outputs": [
    {
     "data": {
      "text/plain": [
       "count    44328.000000\n",
       "mean        49.424292\n",
       "std        109.153961\n",
       "min         -1.000000\n",
       "25%          9.000000\n",
       "50%         22.000000\n",
       "75%         53.000000\n",
       "max       4881.000000\n",
       "Name: Duration, dtype: float64"
      ]
     },
     "execution_count": 32,
     "metadata": {},
     "output_type": "execute_result"
    }
   ],
   "source": [
    "df['Duration'].describe()"
   ]
  },
  {
   "cell_type": "code",
   "execution_count": 33,
   "metadata": {},
   "outputs": [
    {
     "data": {
      "image/png": "[encoded data removed]",
      "text/plain": [
       "<Figure size 432x288 with 1 Axes>"
      ]
     },
     "metadata": {
      "needs_background": "light"
     },
     "output_type": "display_data"
    }
   ],
   "source": [
    "fig = plt.figure(figsize =(6,4 ))\n",
    "plt.boxplot(df['Duration'])\n",
    "plt.show()"
   ]
  },
  {
   "cell_type": "markdown",
   "metadata": {},
   "source": [
    "Bisa kita lihat dari data diatas bahwa kolom duration ada outliers dan minimal angkanya menunjukan minus, seperti yang kita tahu bahwa tidak mungkin penunjukan durasi/waktu itu minus, maka disini tim data scientist harus melakukan normalisasi terhadap kolom durasi dengan menghilangkan data yang minus."
   ]
  },
  {
   "cell_type": "code",
   "execution_count": 34,
   "metadata": {},
   "outputs": [
    {
     "data": {
      "text/plain": [
       "2"
      ]
     },
     "execution_count": 34,
     "metadata": {},
     "output_type": "execute_result"
    }
   ],
   "source": [
    "df13=df['Duration']<0\n",
    "df13.sum()"
   ]
  },
  {
   "cell_type": "markdown",
   "metadata": {},
   "source": [
    "Kita cek bahwa ada 2 data dari duration yang mempunyai values minus, maka kita akan mengganti 2 data duration tersebut dengan rata-rata values dari kolom duration."
   ]
  },
  {
   "cell_type": "code",
   "execution_count": 35,
   "metadata": {},
   "outputs": [
    {
     "data": {
      "text/plain": [
       "count    44328.000000\n",
       "mean        49.426567\n",
       "std        109.153436\n",
       "min          0.000000\n",
       "25%          9.000000\n",
       "50%         22.000000\n",
       "75%         53.000000\n",
       "max       4881.000000\n",
       "Name: Duration, dtype: float64"
      ]
     },
     "execution_count": 35,
     "metadata": {},
     "output_type": "execute_result"
    }
   ],
   "source": [
    "df.loc[df['Duration'] < 0, 'Duration'] = 49.424\n",
    "df['Duration'].describe()"
   ]
  },
  {
   "cell_type": "markdown",
   "metadata": {},
   "source": [
    "**CEK KOLOM Net_Sales dan Comission**\n",
    "\n",
    "Pada kolom Net_Sales dan kolom Comission memiliki keanehan yaitu, net sales memiliki value yang rendah dibandingkan comission, dari domain knowledge yang kita ketahui tidak mungkin sepertinya netsales yang rendah mempunyai tingkat komisi yang tinggi.\n",
    "\n",
    "ref : https://www.academia.edu/26124725/Impact_of_sales_commission_to_the_total_sales_revenue_of_an_organisation\n",
    "\n",
    "Maka dari itu kita harus normalisasi terlebih dahulu data netsales dan comission dengan membuat data tersebut setara, agar pada saat modeling meminimalisir kesalahan predict dalam machine learning."
   ]
  },
  {
   "cell_type": "code",
   "execution_count": 36,
   "metadata": {},
   "outputs": [
    {
     "data": {
      "text/plain": [
       "1410"
      ]
     },
     "execution_count": 36,
     "metadata": {},
     "output_type": "execute_result"
    }
   ],
   "source": [
    "df14= df['Net_Sales']<df['Commision']\n",
    "df14.sum()"
   ]
  },
  {
   "cell_type": "code",
   "execution_count": 37,
   "metadata": {},
   "outputs": [],
   "source": [
    "df.loc[df['Net_Sales'] == 0.0, 'Commision'] = 0"
   ]
  },
  {
   "cell_type": "markdown",
   "metadata": {},
   "source": [
    "Disini kita sudah membuat data setara jika net sales 0 maka semua value comission 0."
   ]
  },
  {
   "cell_type": "markdown",
   "metadata": {},
   "source": [
    "### CEK KORELASI\n",
    "\n",
    "kita akan melakukan pengecekan korelasi antar kolom yang bersangkutan untuk dipertimbangkan dalam fitur yang akan dimasukkan kedalam machine learning nantinya."
   ]
  },
  {
   "cell_type": "code",
   "execution_count": 38,
   "metadata": {},
   "outputs": [
    {
     "data": {
      "text/plain": [
       "<AxesSubplot:>"
      ]
     },
     "execution_count": 38,
     "metadata": {},
     "output_type": "execute_result"
    },
    {
     "data": {
      "image/png": "[encoded data removed]",
      "text/plain": [
       "<Figure size 1080x720 with 2 Axes>"
      ]
     },
     "metadata": {
      "needs_background": "light"
     },
     "output_type": "display_data"
    }
   ],
   "source": [
    "# correlation heat map numerical columns\n",
    "\n",
    "fig, ax = plt.subplots(figsize=(15, 10))\n",
    "sns.heatmap(df.corr(), annot=True, ax=ax)"
   ]
  },
  {
   "cell_type": "markdown",
   "metadata": {},
   "source": [
    "Seperti yang kita lihat dari correlation heatmap antara kolom numerikal diatas, bahwa tidak ada korelasi yang tinggi antar kolom, maka kita bisa gunakan semua kolom numerikal untuk dimasukkan kedalam fitur machine learning yang akan kita bangun nanti."
   ]
  },
  {
   "cell_type": "code",
   "execution_count": 39,
   "metadata": {},
   "outputs": [],
   "source": [
    "# correlation heatmap categorical columns\n",
    "\n",
    "import scipy.stats as ss\n",
    "\n",
    "def corr_cat(x, y):\n",
    "    confusion_matrix = pd.crosstab(x,y)\n",
    "    chi2 = ss.chi2_contingency(confusion_matrix)[0]\n",
    "    n = confusion_matrix.sum().sum()\n",
    "    phi2 = chi2/n\n",
    "    r,k = confusion_matrix.shape\n",
    "    phi2corr = max(0, phi2-((k-1)*(r-1))/(n-1))\n",
    "    rcorr = r-((r-1)**2)/(n-1)\n",
    "    kcorr = k-((k-1)**2)/(n-1)\n",
    "    return np.sqrt(phi2corr/min((kcorr-1),(rcorr-1)))"
   ]
  },
  {
   "cell_type": "code",
   "execution_count": 40,
   "metadata": {},
   "outputs": [
    {
     "data": {
      "image/png": "[encoded data removed]",
      "text/plain": [
       "<Figure size 720x504 with 2 Axes>"
      ]
     },
     "metadata": {
      "needs_background": "light"
     },
     "output_type": "display_data"
    }
   ],
   "source": [
    "categorical=['Agency', 'Agency_Type', 'Dist_Channel', 'Product_Name',  'Destination', 'Claim']\n",
    "corr_cat_v=pd.DataFrame({i:[corr_cat(df[i],df[j]) for j in categorical] for i in categorical})\n",
    "corr_cat_v['column']=[i for i in categorical if i not in ['memberid']]\n",
    "corr_cat_v.set_index('column',inplace=True)\n",
    "\n",
    "plt.figure(figsize=(10,7))\n",
    "sns.heatmap(corr_cat_v,annot=True)\n",
    "plt.show()"
   ]
  },
  {
   "cell_type": "markdown",
   "metadata": {},
   "source": [
    "seperti yang kita lihat dari korelasi antara kolom kategorikal, bisa dilihat bahwa kolom agency_type mempunyai korelasi yang kuat antar kolom agency dan product_name. Maka dari itu kita bisa mempertimbangkan untuk melakukan drop table agency_type atau tidak menggunakan kolom agency_type agar bisa melakukan prediksi pada machine learning lebih optimal."
   ]
  },
  {
   "cell_type": "markdown",
   "metadata": {},
   "source": [
    "**PREDIKSI FITUR YANG AKAN DIGUNAKAN**\n",
    "\n",
    "Disini kita akan mencoba memasukkan data yang akan kita ingin gunakan kedalam fitur untuk membuat machine learningnya, kita akan mencoba memakai fungsi Chi Square test untuk melakukan prediksi fitur yang akan kita gunakan."
   ]
  },
  {
   "cell_type": "code",
   "execution_count": 41,
   "metadata": {},
   "outputs": [],
   "source": [
    "from scipy.stats import chi2_contingency\n",
    "\n",
    "class ChiSquare:\n",
    "    def __init__(self, df):\n",
    "        self.df = df\n",
    "        self.p = None #P-Value\n",
    "        self.chi2 = None #Chi Test Statistic\n",
    "        self.dof = None\n",
    "        self.dfObserved = None\n",
    "        self.dfExpected = None\n",
    "        \n",
    "    def _print_chisquare_result(self, colX, alpha):\n",
    "        result = \"\"\n",
    "        if self.p<alpha:\n",
    "            result=\"{0} PENTING dimasukkan kedalam FITUR.\".format(colX)\n",
    "        else:\n",
    "            result=\"{0} TIDAK PENTING dimasukkan kedalam FITUR. (hilangkan {0})\".format(colX)\n",
    "\n",
    "        print(result)\n",
    "        \n",
    "    def TestIndependence(self,colX,colY, alpha=0.05):\n",
    "        X = self.df[colX].astype(str)\n",
    "        Y = self.df[colY].astype(str)\n",
    "        \n",
    "        self.dfObserved = pd.crosstab(Y,X) \n",
    "        chi2, p, dof, expected = ss.chi2_contingency(self.dfObserved.values)\n",
    "        self.p = p\n",
    "        self.chi2 = chi2\n",
    "        self.dof = dof \n",
    "        \n",
    "        self.dfExpected = pd.DataFrame(expected, columns=self.dfObserved.columns, index = self.dfObserved.index)\n",
    "        \n",
    "        self._print_chisquare_result(colX,alpha)"
   ]
  },
  {
   "cell_type": "code",
   "execution_count": 42,
   "metadata": {},
   "outputs": [
    {
     "name": "stdout",
     "output_type": "stream",
     "text": [
      "Agency PENTING dimasukkan kedalam FITUR.\n",
      "Agency_Type PENTING dimasukkan kedalam FITUR.\n",
      "Dist_Channel TIDAK PENTING dimasukkan kedalam FITUR. (hilangkan Dist_Channel)\n",
      "Product_Name PENTING dimasukkan kedalam FITUR.\n",
      "Duration PENTING dimasukkan kedalam FITUR.\n",
      "Destination PENTING dimasukkan kedalam FITUR.\n",
      "Net_Sales PENTING dimasukkan kedalam FITUR.\n",
      "Commision PENTING dimasukkan kedalam FITUR.\n",
      "Age PENTING dimasukkan kedalam FITUR.\n"
     ]
    }
   ],
   "source": [
    "X = df.drop(['Claim'], axis=1)\n",
    "ct = ChiSquare(df)\n",
    "for c in X.columns:\n",
    "    ct.TestIndependence(c, 'Claim')"
   ]
  },
  {
   "cell_type": "markdown",
   "metadata": {},
   "source": [
    "Dilihat dari fungsi yang kita gunakan untuk mengecek fitur apa saja yang akan kita gunakan untuk dimasukkan ke dalam machine learning, bahwa kolom dist_channel TIDAK PENTING untuk dimasukkan kedalam fitur model machine learning. Dan juga sebelumnya kolom agency_type mempunyai korelasi yang tinggi terhadap kolom agency dan product_name maka kita bisa hilangkan juga kolom tersebut. "
   ]
  },
  {
   "cell_type": "markdown",
   "metadata": {},
   "source": [
    "**DROP KOLOM Dist_Channel dan Agency_Type**"
   ]
  },
  {
   "cell_type": "code",
   "execution_count": 43,
   "metadata": {},
   "outputs": [
    {
     "name": "stdout",
     "output_type": "stream",
     "text": [
      "<class 'pandas.core.frame.DataFrame'>\n",
      "RangeIndex: 44328 entries, 0 to 44327\n",
      "Data columns (total 8 columns):\n",
      " #   Column        Non-Null Count  Dtype  \n",
      "---  ------        --------------  -----  \n",
      " 0   Agency        44328 non-null  object \n",
      " 1   Product_Name  44328 non-null  object \n",
      " 2   Duration      44328 non-null  float64\n",
      " 3   Destination   44328 non-null  object \n",
      " 4   Net_Sales     44328 non-null  float64\n",
      " 5   Commision     44328 non-null  float64\n",
      " 6   Age           44328 non-null  int64  \n",
      " 7   Claim         44328 non-null  object \n",
      "dtypes: float64(3), int64(1), object(4)\n",
      "memory usage: 2.7+ MB\n"
     ]
    }
   ],
   "source": [
    "df.drop(columns=['Dist_Channel','Agency_Type'],axis=1,inplace=True)\n",
    "df.info()"
   ]
  },
  {
   "cell_type": "markdown",
   "metadata": {},
   "source": [
    "**RENAME VALUE**\n",
    "\n",
    "Setelah kita cek datanya, banyak data counts dari kolom Destination yang hanya mempunyai 1 saja, jadi disini kita akan kelompokkan data yang hanya mempunyai 1 value, menjadi 'OTHER'. Agar pada saat dimasukkan kedalam machine learning tidak terjadi anomali data."
   ]
  },
  {
   "cell_type": "code",
   "execution_count": 44,
   "metadata": {},
   "outputs": [
    {
     "data": {
      "text/plain": [
       "TAJIKISTAN                                1\n",
       "SENEGAL                                   1\n",
       "CAMEROON                                  1\n",
       "TIBET                                     1\n",
       "SAMOA                                     1\n",
       "URUGUAY                                   1\n",
       "GUINEA-BISSAU                             1\n",
       "KOREA, DEMOCRATIC PEOPLE'S REPUBLIC OF    1\n",
       "FAROE ISLANDS                             1\n",
       "DOMINICAN REPUBLIC                        1\n",
       "MOLDOVA, REPUBLIC OF                      1\n",
       "BENIN                                     1\n",
       "ARMENIA                                   1\n",
       "GUYANA                                    1\n",
       "CAYMAN ISLANDS                            1\n",
       "BOTSWANA                                  1\n",
       "RWANDA                                    1\n",
       "TURKMENISTAN                              1\n",
       "GUADELOUPE                                1\n",
       "REPUBLIC OF MONTENEGRO                    1\n",
       "IRAN, ISLAMIC REPUBLIC OF                 1\n",
       "LATVIA                                    1\n",
       "JAMAICA                                   1\n",
       "ANGOLA                                    1\n",
       "FRENCH POLYNESIA                          1\n",
       "NIGERIA                                   1\n",
       "REUNION                                   1\n",
       "Name: Destination, dtype: int64"
      ]
     },
     "execution_count": 44,
     "metadata": {},
     "output_type": "execute_result"
    }
   ],
   "source": [
    "df['Destination'].value_counts().loc[lambda x: x<=1]"
   ]
  },
  {
   "cell_type": "code",
   "execution_count": 45,
   "metadata": {},
   "outputs": [],
   "source": [
    "# mengganti nama yang mempunyai 1 frekuensi menjadi other agar tidak terjadi anomali data\n",
    "\n",
    "df['Destination'] = df['Destination'].replace(['CAMEROON','MOLDOVA, REPUBLIC OF','DOMINICAN REPUBLIC',\n",
    "'FAROE ISLANDS',\"KOREA, DEMOCRATIC PEOPLE'S REPUBLIC OF\",'ARMENIA','TAJIKISTAN','SAMOA','TIBET',\n",
    "'GUINEA-BISSAU','SENEGAL','URUGUAY','GUYANA','BOTSWANA','RWANDA','GUADELOUPE','REPUBLIC OF MONTENEGRO',\n",
    "'IRAN, ISLAMIC REPUBLIC OF','CAYMAN ISLANDS','BENIN','MACEDONIA, THE FORMER YUGOSLAV REPUBLIC OF',\n",
    "'TRINIDAD AND TOBAGO', 'MALI','ANGOLA','LATVIA','JAMAICA','FRENCH POLYNESIA','TURKMENISTAN',\n",
    "'NIGERIA','REUNION','ZAMBIA','UGANDA','PANAMA', 'LITHUANIA','NAMIBIA'], 'OTHER')"
   ]
  },
  {
   "cell_type": "code",
   "execution_count": 46,
   "metadata": {},
   "outputs": [
    {
     "data": {
      "text/plain": [
       "Series([], Name: Destination, dtype: int64)"
      ]
     },
     "execution_count": 46,
     "metadata": {},
     "output_type": "execute_result"
    }
   ],
   "source": [
    "df['Destination'].value_counts().loc[lambda x: x<=1]"
   ]
  },
  {
   "cell_type": "code",
   "execution_count": 47,
   "metadata": {},
   "outputs": [
    {
     "data": {
      "text/plain": [
       "45"
      ]
     },
     "execution_count": 47,
     "metadata": {},
     "output_type": "execute_result"
    }
   ],
   "source": [
    "df['Destination'].value_counts()['OTHER']"
   ]
  },
  {
   "cell_type": "code",
   "execution_count": 48,
   "metadata": {},
   "outputs": [],
   "source": [
    "# Dikarenakan 'Travel Cruise Protect Family' memiliki frekuensi 1,\n",
    "# yang dapat menyebabkan error pada saat splitting data.\n",
    "# Maka row tersebut akan di drop\n",
    "\n",
    "index_p = df[df['Product_Name']=='Travel Cruise Protect Family'].index[0]\n",
    "df.drop(index=index_p, inplace=True)"
   ]
  },
  {
   "cell_type": "markdown",
   "metadata": {},
   "source": [
    "# DATA PREPARATION"
   ]
  },
  {
   "cell_type": "code",
   "execution_count": 49,
   "metadata": {},
   "outputs": [
    {
     "data": {
      "text/html": [
       "<div>\n",
       "<style scoped>\n",
       "    .dataframe tbody tr th:only-of-type {\n",
       "        vertical-align: middle;\n",
       "    }\n",
       "\n",
       "    .dataframe tbody tr th {\n",
       "        vertical-align: top;\n",
       "    }\n",
       "\n",
       "    .dataframe thead th {\n",
       "        text-align: right;\n",
       "    }\n",
       "</style>\n",
       "<table border=\"1\" class=\"dataframe\">\n",
       "  <thead>\n",
       "    <tr style=\"text-align: right;\">\n",
       "      <th></th>\n",
       "      <th>Agency</th>\n",
       "      <th>Product_Name</th>\n",
       "      <th>Destination</th>\n",
       "      <th>Duration</th>\n",
       "      <th>Net_Sales</th>\n",
       "      <th>Commision</th>\n",
       "      <th>Age</th>\n",
       "      <th>Claim</th>\n",
       "    </tr>\n",
       "  </thead>\n",
       "  <tbody>\n",
       "    <tr>\n",
       "      <th>0</th>\n",
       "      <td>C2B</td>\n",
       "      <td>Annual Silver Plan</td>\n",
       "      <td>SINGAPORE</td>\n",
       "      <td>365.0</td>\n",
       "      <td>216.0</td>\n",
       "      <td>54.0</td>\n",
       "      <td>57</td>\n",
       "      <td>No</td>\n",
       "    </tr>\n",
       "    <tr>\n",
       "      <th>1</th>\n",
       "      <td>EPX</td>\n",
       "      <td>Cancellation Plan</td>\n",
       "      <td>MALAYSIA</td>\n",
       "      <td>4.0</td>\n",
       "      <td>10.0</td>\n",
       "      <td>0.0</td>\n",
       "      <td>33</td>\n",
       "      <td>No</td>\n",
       "    </tr>\n",
       "    <tr>\n",
       "      <th>2</th>\n",
       "      <td>JZI</td>\n",
       "      <td>Basic Plan</td>\n",
       "      <td>INDIA</td>\n",
       "      <td>19.0</td>\n",
       "      <td>22.0</td>\n",
       "      <td>7.7</td>\n",
       "      <td>26</td>\n",
       "      <td>No</td>\n",
       "    </tr>\n",
       "    <tr>\n",
       "      <th>3</th>\n",
       "      <td>EPX</td>\n",
       "      <td>2 way Comprehensive Plan</td>\n",
       "      <td>UNITED STATES</td>\n",
       "      <td>20.0</td>\n",
       "      <td>112.0</td>\n",
       "      <td>0.0</td>\n",
       "      <td>59</td>\n",
       "      <td>No</td>\n",
       "    </tr>\n",
       "    <tr>\n",
       "      <th>4</th>\n",
       "      <td>C2B</td>\n",
       "      <td>Bronze Plan</td>\n",
       "      <td>SINGAPORE</td>\n",
       "      <td>8.0</td>\n",
       "      <td>16.0</td>\n",
       "      <td>4.0</td>\n",
       "      <td>28</td>\n",
       "      <td>No</td>\n",
       "    </tr>\n",
       "  </tbody>\n",
       "</table>\n",
       "</div>"
      ],
      "text/plain": [
       "  Agency              Product_Name    Destination  Duration  Net_Sales  \\\n",
       "0    C2B        Annual Silver Plan      SINGAPORE     365.0      216.0   \n",
       "1    EPX         Cancellation Plan       MALAYSIA       4.0       10.0   \n",
       "2    JZI                Basic Plan          INDIA      19.0       22.0   \n",
       "3    EPX  2 way Comprehensive Plan  UNITED STATES      20.0      112.0   \n",
       "4    C2B               Bronze Plan      SINGAPORE       8.0       16.0   \n",
       "\n",
       "   Commision  Age Claim  \n",
       "0       54.0   57    No  \n",
       "1        0.0   33    No  \n",
       "2        7.7   26    No  \n",
       "3        0.0   59    No  \n",
       "4        4.0   28    No  "
      ]
     },
     "execution_count": 49,
     "metadata": {},
     "output_type": "execute_result"
    }
   ],
   "source": [
    "column_names = [\"Agency\",\"Product_Name\",\"Destination\",\"Duration\", \"Net_Sales\",\"Commision\",'Age',\"Claim\"]\n",
    "df = df.reindex(columns=column_names)\n",
    "df.head()"
   ]
  },
  {
   "cell_type": "markdown",
   "metadata": {},
   "source": [
    "**KESIMPULAN DATA**\n",
    "\n",
    "Dari yang telah kita pelajari dari data yang kita analisis sebelumnya :\n",
    "\n",
    "* Berdasarkan penjelasan yang telah diberikan pada bagian ***BusinessUnderstanding - Confussion Matrix*** Dari kasus yang kita hadapi yaitu ketidakseimbangan data pada Claim, Metric yang menjadi perhatian utama adalah adalah *F1-Score*.\n",
    "\n",
    "* Berdasarkan pada proses *data cleaning* dan *data analysis* yang telah kita lakukan pada tahapan sebelumnya. Fitur data telah selesai kita kurasi untuk dimasukkan kedalam modeling machine learning.\n",
    "\n",
    "* Data pada kolom Agency_Type TIDAK kita masukkan kedalam fitur, karena data tersebut terlalu tinggi korelasinya terhadap kolom Agency dan Product_Name, dan sudah kita lakukan drop data pada saat proses data analysis.\n",
    "\n",
    "* Data pada kolom Dist_Channel TIDAK kita masukkan kedalam fitur, karena pada saat analysis data menggunakan fungsi Chi-Square Test data tersebut tidak direkomendasikan untuk dimasukkan kedalam fitur modeling machnine learning, dan data tersebut sudah kita drop pada saat proses data analysis.\n",
    "\n",
    "* Data yang sudah dikurasi kita susun kolomnya sedemikian rupa untuk memudahkan pengolahan data.\n",
    "\n",
    "* Jumlah kolom kategorikal dari fitur yang ada tidak terlalu banyak, maka pada saat encoding data kita cukup menggunakan *OneHotEncoding*.\n",
    "\n",
    "* Data yang sudah dikurasi tidak ada outliers, maka kita akan menggunakan *MinMaxScaller* untuk scalling data tersebut.\n",
    "\n",
    "* Data pada kolom *Claim* adalah Imbalance, maka kita perlu melakukan Handling Imbalance dengan menggunakan *SMOTE*."
   ]
  },
  {
   "cell_type": "code",
   "execution_count": 50,
   "metadata": {},
   "outputs": [
    {
     "name": "stdout",
     "output_type": "stream",
     "text": [
      "<class 'pandas.core.frame.DataFrame'>\n",
      "Int64Index: 44327 entries, 0 to 44327\n",
      "Data columns (total 8 columns):\n",
      " #   Column        Non-Null Count  Dtype  \n",
      "---  ------        --------------  -----  \n",
      " 0   Agency        44327 non-null  object \n",
      " 1   Product_Name  44327 non-null  object \n",
      " 2   Destination   44327 non-null  object \n",
      " 3   Duration      44327 non-null  float64\n",
      " 4   Net_Sales     44327 non-null  float64\n",
      " 5   Commision     44327 non-null  float64\n",
      " 6   Age           44327 non-null  int64  \n",
      " 7   Claim         44327 non-null  object \n",
      "dtypes: float64(3), int64(1), object(4)\n",
      "memory usage: 3.0+ MB\n"
     ]
    }
   ],
   "source": [
    "df.info()"
   ]
  },
  {
   "cell_type": "markdown",
   "metadata": {},
   "source": [
    "**ENCODING DATA**"
   ]
  },
  {
   "cell_type": "code",
   "execution_count": 51,
   "metadata": {},
   "outputs": [],
   "source": [
    "# fitur and target\n",
    "\n",
    "X = df[['Agency','Product_Name','Destination','Duration','Net_Sales','Commision','Age']]\n",
    "y = df['Claim']\n",
    "y = pd.Series(np.where(y=='Yes', 1, 0))\n",
    "\n",
    "# Splitting Data\n",
    "X_train, X_test, y_train, y_test = train_test_split(X,y, test_size=0.2, stratify=y, random_state=42)"
   ]
  },
  {
   "cell_type": "code",
   "execution_count": 52,
   "metadata": {},
   "outputs": [],
   "source": [
    "# Base models\n",
    "knn = KNeighborsClassifier()\n",
    "dt = DecisionTreeClassifier(random_state=42)\n",
    "\n",
    "# Ensemble yang digunakan untuk base model\n",
    "bag = BaggingClassifier(random_state=42)\n",
    "forest = RandomForestClassifier(random_state=42)\n",
    "xgb = XGBClassifier(random_state = 42)\n",
    "\n",
    "# List nama model dan juga algoritma nya\n",
    "models = [knn, dt, bag, forest, xgb]\n",
    "model_name = ['K Neighbors Classifier', 'Decision Tree Classifier', 'Bagging Classifier', 'Random Forest Classifier',\n",
    "'XGB Classifier']"
   ]
  },
  {
   "cell_type": "code",
   "execution_count": 53,
   "metadata": {},
   "outputs": [],
   "source": [
    "# Encoding dan Scaling menggunakan transformer\n",
    "transformer = ColumnTransformer([\n",
    "    ('Encoding', OneHotEncoder(drop='first') ,['Agency', 'Product_Name', 'Destination']),\n",
    "    ('Scaling', MinMaxScaler() ,['Duration', 'Net_Sales','Commision','Age']),\n",
    "], remainder='passthrough')"
   ]
  },
  {
   "cell_type": "markdown",
   "metadata": {},
   "source": [
    "# MODELING AND EVALUATION"
   ]
  },
  {
   "cell_type": "markdown",
   "metadata": {},
   "source": [
    "**Cross Validation**\n",
    "\n",
    "Pada proses didalam modeling, kita akan mencari model terbaik dalam memprediksi data yang diolah menggunakan metode Cross Validation.\n",
    "\n",
    "Proses ini dibagi menjadi 2 yaitu:  \n",
    "- Cross validation untuk mengetahui model mana yang memiliki performa terbaik pada train set\n",
    "- Permodelan untuk mengetahui model mana yang memiliki performa terbaik pada test set\n",
    "\n",
    "Base model ini digunakan sebagai model awal, tidak menutup kemungkinan sebagai base model untuk ensemble agar hasil prediksi lebih baik."
   ]
  },
  {
   "cell_type": "code",
   "execution_count": 54,
   "metadata": {},
   "outputs": [
    {
     "ename": "KeyboardInterrupt",
     "evalue": "",
     "output_type": "error",
     "traceback": [
      "\u001b[1;31m---------------------------------------------------------------------------\u001b[0m",
      "\u001b[1;31mKeyboardInterrupt\u001b[0m                         Traceback (most recent call last)",
      "\u001b[1;32m~\\AppData\\Local\\Temp/ipykernel_10080/3927562849.py\u001b[0m in \u001b[0;36m<module>\u001b[1;34m\u001b[0m\n\u001b[0;32m     11\u001b[0m \u001b[1;33m\u001b[0m\u001b[0m\n\u001b[0;32m     12\u001b[0m     \u001b[1;31m# Cross Validation menggunakan metrics 'recall' dan cv=5\u001b[0m\u001b[1;33m\u001b[0m\u001b[1;33m\u001b[0m\u001b[0m\n\u001b[1;32m---> 13\u001b[1;33m     crossval = cross_val_score(\n\u001b[0m\u001b[0;32m     14\u001b[0m         \u001b[0mestimator\u001b[0m\u001b[1;33m=\u001b[0m\u001b[0mpipe_model\u001b[0m\u001b[1;33m,\u001b[0m\u001b[1;33m\u001b[0m\u001b[1;33m\u001b[0m\u001b[0m\n\u001b[0;32m     15\u001b[0m         \u001b[0mX\u001b[0m\u001b[1;33m=\u001b[0m\u001b[0mX_train\u001b[0m\u001b[1;33m,\u001b[0m\u001b[1;33m\u001b[0m\u001b[1;33m\u001b[0m\u001b[0m\n",
      "\u001b[1;32mc:\\ProgramData\\Anaconda3\\lib\\site-packages\\sklearn\\utils\\validation.py\u001b[0m in \u001b[0;36minner_f\u001b[1;34m(*args, **kwargs)\u001b[0m\n\u001b[0;32m     61\u001b[0m             \u001b[0mextra_args\u001b[0m \u001b[1;33m=\u001b[0m \u001b[0mlen\u001b[0m\u001b[1;33m(\u001b[0m\u001b[0margs\u001b[0m\u001b[1;33m)\u001b[0m \u001b[1;33m-\u001b[0m \u001b[0mlen\u001b[0m\u001b[1;33m(\u001b[0m\u001b[0mall_args\u001b[0m\u001b[1;33m)\u001b[0m\u001b[1;33m\u001b[0m\u001b[1;33m\u001b[0m\u001b[0m\n\u001b[0;32m     62\u001b[0m             \u001b[1;32mif\u001b[0m \u001b[0mextra_args\u001b[0m \u001b[1;33m<=\u001b[0m \u001b[1;36m0\u001b[0m\u001b[1;33m:\u001b[0m\u001b[1;33m\u001b[0m\u001b[1;33m\u001b[0m\u001b[0m\n\u001b[1;32m---> 63\u001b[1;33m                 \u001b[1;32mreturn\u001b[0m \u001b[0mf\u001b[0m\u001b[1;33m(\u001b[0m\u001b[1;33m*\u001b[0m\u001b[0margs\u001b[0m\u001b[1;33m,\u001b[0m \u001b[1;33m**\u001b[0m\u001b[0mkwargs\u001b[0m\u001b[1;33m)\u001b[0m\u001b[1;33m\u001b[0m\u001b[1;33m\u001b[0m\u001b[0m\n\u001b[0m\u001b[0;32m     64\u001b[0m \u001b[1;33m\u001b[0m\u001b[0m\n\u001b[0;32m     65\u001b[0m             \u001b[1;31m# extra_args > 0\u001b[0m\u001b[1;33m\u001b[0m\u001b[1;33m\u001b[0m\u001b[0m\n",
      "\u001b[1;32mc:\\ProgramData\\Anaconda3\\lib\\site-packages\\sklearn\\model_selection\\_validation.py\u001b[0m in \u001b[0;36mcross_val_score\u001b[1;34m(estimator, X, y, groups, scoring, cv, n_jobs, verbose, fit_params, pre_dispatch, error_score)\u001b[0m\n\u001b[0;32m    443\u001b[0m     \u001b[0mscorer\u001b[0m \u001b[1;33m=\u001b[0m \u001b[0mcheck_scoring\u001b[0m\u001b[1;33m(\u001b[0m\u001b[0mestimator\u001b[0m\u001b[1;33m,\u001b[0m \u001b[0mscoring\u001b[0m\u001b[1;33m=\u001b[0m\u001b[0mscoring\u001b[0m\u001b[1;33m)\u001b[0m\u001b[1;33m\u001b[0m\u001b[1;33m\u001b[0m\u001b[0m\n\u001b[0;32m    444\u001b[0m \u001b[1;33m\u001b[0m\u001b[0m\n\u001b[1;32m--> 445\u001b[1;33m     cv_results = cross_validate(estimator=estimator, X=X, y=y, groups=groups,\n\u001b[0m\u001b[0;32m    446\u001b[0m                                 \u001b[0mscoring\u001b[0m\u001b[1;33m=\u001b[0m\u001b[1;33m{\u001b[0m\u001b[1;34m'score'\u001b[0m\u001b[1;33m:\u001b[0m \u001b[0mscorer\u001b[0m\u001b[1;33m}\u001b[0m\u001b[1;33m,\u001b[0m \u001b[0mcv\u001b[0m\u001b[1;33m=\u001b[0m\u001b[0mcv\u001b[0m\u001b[1;33m,\u001b[0m\u001b[1;33m\u001b[0m\u001b[1;33m\u001b[0m\u001b[0m\n\u001b[0;32m    447\u001b[0m                                 \u001b[0mn_jobs\u001b[0m\u001b[1;33m=\u001b[0m\u001b[0mn_jobs\u001b[0m\u001b[1;33m,\u001b[0m \u001b[0mverbose\u001b[0m\u001b[1;33m=\u001b[0m\u001b[0mverbose\u001b[0m\u001b[1;33m,\u001b[0m\u001b[1;33m\u001b[0m\u001b[1;33m\u001b[0m\u001b[0m\n",
      "\u001b[1;32mc:\\ProgramData\\Anaconda3\\lib\\site-packages\\sklearn\\utils\\validation.py\u001b[0m in \u001b[0;36minner_f\u001b[1;34m(*args, **kwargs)\u001b[0m\n\u001b[0;32m     61\u001b[0m             \u001b[0mextra_args\u001b[0m \u001b[1;33m=\u001b[0m \u001b[0mlen\u001b[0m\u001b[1;33m(\u001b[0m\u001b[0margs\u001b[0m\u001b[1;33m)\u001b[0m \u001b[1;33m-\u001b[0m \u001b[0mlen\u001b[0m\u001b[1;33m(\u001b[0m\u001b[0mall_args\u001b[0m\u001b[1;33m)\u001b[0m\u001b[1;33m\u001b[0m\u001b[1;33m\u001b[0m\u001b[0m\n\u001b[0;32m     62\u001b[0m             \u001b[1;32mif\u001b[0m \u001b[0mextra_args\u001b[0m \u001b[1;33m<=\u001b[0m \u001b[1;36m0\u001b[0m\u001b[1;33m:\u001b[0m\u001b[1;33m\u001b[0m\u001b[1;33m\u001b[0m\u001b[0m\n\u001b[1;32m---> 63\u001b[1;33m                 \u001b[1;32mreturn\u001b[0m \u001b[0mf\u001b[0m\u001b[1;33m(\u001b[0m\u001b[1;33m*\u001b[0m\u001b[0margs\u001b[0m\u001b[1;33m,\u001b[0m \u001b[1;33m**\u001b[0m\u001b[0mkwargs\u001b[0m\u001b[1;33m)\u001b[0m\u001b[1;33m\u001b[0m\u001b[1;33m\u001b[0m\u001b[0m\n\u001b[0m\u001b[0;32m     64\u001b[0m \u001b[1;33m\u001b[0m\u001b[0m\n\u001b[0;32m     65\u001b[0m             \u001b[1;31m# extra_args > 0\u001b[0m\u001b[1;33m\u001b[0m\u001b[1;33m\u001b[0m\u001b[0m\n",
      "\u001b[1;32mc:\\ProgramData\\Anaconda3\\lib\\site-packages\\sklearn\\model_selection\\_validation.py\u001b[0m in \u001b[0;36mcross_validate\u001b[1;34m(estimator, X, y, groups, scoring, cv, n_jobs, verbose, fit_params, pre_dispatch, return_train_score, return_estimator, error_score)\u001b[0m\n\u001b[0;32m    248\u001b[0m     parallel = Parallel(n_jobs=n_jobs, verbose=verbose,\n\u001b[0;32m    249\u001b[0m                         pre_dispatch=pre_dispatch)\n\u001b[1;32m--> 250\u001b[1;33m     results = parallel(\n\u001b[0m\u001b[0;32m    251\u001b[0m         delayed(_fit_and_score)(\n\u001b[0;32m    252\u001b[0m             \u001b[0mclone\u001b[0m\u001b[1;33m(\u001b[0m\u001b[0mestimator\u001b[0m\u001b[1;33m)\u001b[0m\u001b[1;33m,\u001b[0m \u001b[0mX\u001b[0m\u001b[1;33m,\u001b[0m \u001b[0my\u001b[0m\u001b[1;33m,\u001b[0m \u001b[0mscorers\u001b[0m\u001b[1;33m,\u001b[0m \u001b[0mtrain\u001b[0m\u001b[1;33m,\u001b[0m \u001b[0mtest\u001b[0m\u001b[1;33m,\u001b[0m \u001b[0mverbose\u001b[0m\u001b[1;33m,\u001b[0m \u001b[1;32mNone\u001b[0m\u001b[1;33m,\u001b[0m\u001b[1;33m\u001b[0m\u001b[1;33m\u001b[0m\u001b[0m\n",
      "\u001b[1;32mc:\\ProgramData\\Anaconda3\\lib\\site-packages\\joblib\\parallel.py\u001b[0m in \u001b[0;36m__call__\u001b[1;34m(self, iterable)\u001b[0m\n\u001b[0;32m   1041\u001b[0m             \u001b[1;31m# remaining jobs.\u001b[0m\u001b[1;33m\u001b[0m\u001b[1;33m\u001b[0m\u001b[0m\n\u001b[0;32m   1042\u001b[0m             \u001b[0mself\u001b[0m\u001b[1;33m.\u001b[0m\u001b[0m_iterating\u001b[0m \u001b[1;33m=\u001b[0m \u001b[1;32mFalse\u001b[0m\u001b[1;33m\u001b[0m\u001b[1;33m\u001b[0m\u001b[0m\n\u001b[1;32m-> 1043\u001b[1;33m             \u001b[1;32mif\u001b[0m \u001b[0mself\u001b[0m\u001b[1;33m.\u001b[0m\u001b[0mdispatch_one_batch\u001b[0m\u001b[1;33m(\u001b[0m\u001b[0miterator\u001b[0m\u001b[1;33m)\u001b[0m\u001b[1;33m:\u001b[0m\u001b[1;33m\u001b[0m\u001b[1;33m\u001b[0m\u001b[0m\n\u001b[0m\u001b[0;32m   1044\u001b[0m                 \u001b[0mself\u001b[0m\u001b[1;33m.\u001b[0m\u001b[0m_iterating\u001b[0m \u001b[1;33m=\u001b[0m \u001b[0mself\u001b[0m\u001b[1;33m.\u001b[0m\u001b[0m_original_iterator\u001b[0m \u001b[1;32mis\u001b[0m \u001b[1;32mnot\u001b[0m \u001b[1;32mNone\u001b[0m\u001b[1;33m\u001b[0m\u001b[1;33m\u001b[0m\u001b[0m\n\u001b[0;32m   1045\u001b[0m \u001b[1;33m\u001b[0m\u001b[0m\n",
      "\u001b[1;32mc:\\ProgramData\\Anaconda3\\lib\\site-packages\\joblib\\parallel.py\u001b[0m in \u001b[0;36mdispatch_one_batch\u001b[1;34m(self, iterator)\u001b[0m\n\u001b[0;32m    859\u001b[0m                 \u001b[1;32mreturn\u001b[0m \u001b[1;32mFalse\u001b[0m\u001b[1;33m\u001b[0m\u001b[1;33m\u001b[0m\u001b[0m\n\u001b[0;32m    860\u001b[0m             \u001b[1;32melse\u001b[0m\u001b[1;33m:\u001b[0m\u001b[1;33m\u001b[0m\u001b[1;33m\u001b[0m\u001b[0m\n\u001b[1;32m--> 861\u001b[1;33m                 \u001b[0mself\u001b[0m\u001b[1;33m.\u001b[0m\u001b[0m_dispatch\u001b[0m\u001b[1;33m(\u001b[0m\u001b[0mtasks\u001b[0m\u001b[1;33m)\u001b[0m\u001b[1;33m\u001b[0m\u001b[1;33m\u001b[0m\u001b[0m\n\u001b[0m\u001b[0;32m    862\u001b[0m                 \u001b[1;32mreturn\u001b[0m \u001b[1;32mTrue\u001b[0m\u001b[1;33m\u001b[0m\u001b[1;33m\u001b[0m\u001b[0m\n\u001b[0;32m    863\u001b[0m \u001b[1;33m\u001b[0m\u001b[0m\n",
      "\u001b[1;32mc:\\ProgramData\\Anaconda3\\lib\\site-packages\\joblib\\parallel.py\u001b[0m in \u001b[0;36m_dispatch\u001b[1;34m(self, batch)\u001b[0m\n\u001b[0;32m    777\u001b[0m         \u001b[1;32mwith\u001b[0m \u001b[0mself\u001b[0m\u001b[1;33m.\u001b[0m\u001b[0m_lock\u001b[0m\u001b[1;33m:\u001b[0m\u001b[1;33m\u001b[0m\u001b[1;33m\u001b[0m\u001b[0m\n\u001b[0;32m    778\u001b[0m             \u001b[0mjob_idx\u001b[0m \u001b[1;33m=\u001b[0m \u001b[0mlen\u001b[0m\u001b[1;33m(\u001b[0m\u001b[0mself\u001b[0m\u001b[1;33m.\u001b[0m\u001b[0m_jobs\u001b[0m\u001b[1;33m)\u001b[0m\u001b[1;33m\u001b[0m\u001b[1;33m\u001b[0m\u001b[0m\n\u001b[1;32m--> 779\u001b[1;33m             \u001b[0mjob\u001b[0m \u001b[1;33m=\u001b[0m \u001b[0mself\u001b[0m\u001b[1;33m.\u001b[0m\u001b[0m_backend\u001b[0m\u001b[1;33m.\u001b[0m\u001b[0mapply_async\u001b[0m\u001b[1;33m(\u001b[0m\u001b[0mbatch\u001b[0m\u001b[1;33m,\u001b[0m \u001b[0mcallback\u001b[0m\u001b[1;33m=\u001b[0m\u001b[0mcb\u001b[0m\u001b[1;33m)\u001b[0m\u001b[1;33m\u001b[0m\u001b[1;33m\u001b[0m\u001b[0m\n\u001b[0m\u001b[0;32m    780\u001b[0m             \u001b[1;31m# A job can complete so quickly than its callback is\u001b[0m\u001b[1;33m\u001b[0m\u001b[1;33m\u001b[0m\u001b[0m\n\u001b[0;32m    781\u001b[0m             \u001b[1;31m# called before we get here, causing self._jobs to\u001b[0m\u001b[1;33m\u001b[0m\u001b[1;33m\u001b[0m\u001b[0m\n",
      "\u001b[1;32mc:\\ProgramData\\Anaconda3\\lib\\site-packages\\joblib\\_parallel_backends.py\u001b[0m in \u001b[0;36mapply_async\u001b[1;34m(self, func, callback)\u001b[0m\n\u001b[0;32m    206\u001b[0m     \u001b[1;32mdef\u001b[0m \u001b[0mapply_async\u001b[0m\u001b[1;33m(\u001b[0m\u001b[0mself\u001b[0m\u001b[1;33m,\u001b[0m \u001b[0mfunc\u001b[0m\u001b[1;33m,\u001b[0m \u001b[0mcallback\u001b[0m\u001b[1;33m=\u001b[0m\u001b[1;32mNone\u001b[0m\u001b[1;33m)\u001b[0m\u001b[1;33m:\u001b[0m\u001b[1;33m\u001b[0m\u001b[1;33m\u001b[0m\u001b[0m\n\u001b[0;32m    207\u001b[0m         \u001b[1;34m\"\"\"Schedule a func to be run\"\"\"\u001b[0m\u001b[1;33m\u001b[0m\u001b[1;33m\u001b[0m\u001b[0m\n\u001b[1;32m--> 208\u001b[1;33m         \u001b[0mresult\u001b[0m \u001b[1;33m=\u001b[0m \u001b[0mImmediateResult\u001b[0m\u001b[1;33m(\u001b[0m\u001b[0mfunc\u001b[0m\u001b[1;33m)\u001b[0m\u001b[1;33m\u001b[0m\u001b[1;33m\u001b[0m\u001b[0m\n\u001b[0m\u001b[0;32m    209\u001b[0m         \u001b[1;32mif\u001b[0m \u001b[0mcallback\u001b[0m\u001b[1;33m:\u001b[0m\u001b[1;33m\u001b[0m\u001b[1;33m\u001b[0m\u001b[0m\n\u001b[0;32m    210\u001b[0m             \u001b[0mcallback\u001b[0m\u001b[1;33m(\u001b[0m\u001b[0mresult\u001b[0m\u001b[1;33m)\u001b[0m\u001b[1;33m\u001b[0m\u001b[1;33m\u001b[0m\u001b[0m\n",
      "\u001b[1;32mc:\\ProgramData\\Anaconda3\\lib\\site-packages\\joblib\\_parallel_backends.py\u001b[0m in \u001b[0;36m__init__\u001b[1;34m(self, batch)\u001b[0m\n\u001b[0;32m    570\u001b[0m         \u001b[1;31m# Don't delay the application, to avoid keeping the input\u001b[0m\u001b[1;33m\u001b[0m\u001b[1;33m\u001b[0m\u001b[0m\n\u001b[0;32m    571\u001b[0m         \u001b[1;31m# arguments in memory\u001b[0m\u001b[1;33m\u001b[0m\u001b[1;33m\u001b[0m\u001b[0m\n\u001b[1;32m--> 572\u001b[1;33m         \u001b[0mself\u001b[0m\u001b[1;33m.\u001b[0m\u001b[0mresults\u001b[0m \u001b[1;33m=\u001b[0m \u001b[0mbatch\u001b[0m\u001b[1;33m(\u001b[0m\u001b[1;33m)\u001b[0m\u001b[1;33m\u001b[0m\u001b[1;33m\u001b[0m\u001b[0m\n\u001b[0m\u001b[0;32m    573\u001b[0m \u001b[1;33m\u001b[0m\u001b[0m\n\u001b[0;32m    574\u001b[0m     \u001b[1;32mdef\u001b[0m \u001b[0mget\u001b[0m\u001b[1;33m(\u001b[0m\u001b[0mself\u001b[0m\u001b[1;33m)\u001b[0m\u001b[1;33m:\u001b[0m\u001b[1;33m\u001b[0m\u001b[1;33m\u001b[0m\u001b[0m\n",
      "\u001b[1;32mc:\\ProgramData\\Anaconda3\\lib\\site-packages\\joblib\\parallel.py\u001b[0m in \u001b[0;36m__call__\u001b[1;34m(self)\u001b[0m\n\u001b[0;32m    260\u001b[0m         \u001b[1;31m# change the default number of processes to -1\u001b[0m\u001b[1;33m\u001b[0m\u001b[1;33m\u001b[0m\u001b[0m\n\u001b[0;32m    261\u001b[0m         \u001b[1;32mwith\u001b[0m \u001b[0mparallel_backend\u001b[0m\u001b[1;33m(\u001b[0m\u001b[0mself\u001b[0m\u001b[1;33m.\u001b[0m\u001b[0m_backend\u001b[0m\u001b[1;33m,\u001b[0m \u001b[0mn_jobs\u001b[0m\u001b[1;33m=\u001b[0m\u001b[0mself\u001b[0m\u001b[1;33m.\u001b[0m\u001b[0m_n_jobs\u001b[0m\u001b[1;33m)\u001b[0m\u001b[1;33m:\u001b[0m\u001b[1;33m\u001b[0m\u001b[1;33m\u001b[0m\u001b[0m\n\u001b[1;32m--> 262\u001b[1;33m             return [func(*args, **kwargs)\n\u001b[0m\u001b[0;32m    263\u001b[0m                     for func, args, kwargs in self.items]\n\u001b[0;32m    264\u001b[0m \u001b[1;33m\u001b[0m\u001b[0m\n",
      "\u001b[1;32mc:\\ProgramData\\Anaconda3\\lib\\site-packages\\joblib\\parallel.py\u001b[0m in \u001b[0;36m<listcomp>\u001b[1;34m(.0)\u001b[0m\n\u001b[0;32m    260\u001b[0m         \u001b[1;31m# change the default number of processes to -1\u001b[0m\u001b[1;33m\u001b[0m\u001b[1;33m\u001b[0m\u001b[0m\n\u001b[0;32m    261\u001b[0m         \u001b[1;32mwith\u001b[0m \u001b[0mparallel_backend\u001b[0m\u001b[1;33m(\u001b[0m\u001b[0mself\u001b[0m\u001b[1;33m.\u001b[0m\u001b[0m_backend\u001b[0m\u001b[1;33m,\u001b[0m \u001b[0mn_jobs\u001b[0m\u001b[1;33m=\u001b[0m\u001b[0mself\u001b[0m\u001b[1;33m.\u001b[0m\u001b[0m_n_jobs\u001b[0m\u001b[1;33m)\u001b[0m\u001b[1;33m:\u001b[0m\u001b[1;33m\u001b[0m\u001b[1;33m\u001b[0m\u001b[0m\n\u001b[1;32m--> 262\u001b[1;33m             return [func(*args, **kwargs)\n\u001b[0m\u001b[0;32m    263\u001b[0m                     for func, args, kwargs in self.items]\n\u001b[0;32m    264\u001b[0m \u001b[1;33m\u001b[0m\u001b[0m\n",
      "\u001b[1;32mc:\\ProgramData\\Anaconda3\\lib\\site-packages\\sklearn\\utils\\fixes.py\u001b[0m in \u001b[0;36m__call__\u001b[1;34m(self, *args, **kwargs)\u001b[0m\n\u001b[0;32m    220\u001b[0m     \u001b[1;32mdef\u001b[0m \u001b[0m__call__\u001b[0m\u001b[1;33m(\u001b[0m\u001b[0mself\u001b[0m\u001b[1;33m,\u001b[0m \u001b[1;33m*\u001b[0m\u001b[0margs\u001b[0m\u001b[1;33m,\u001b[0m \u001b[1;33m**\u001b[0m\u001b[0mkwargs\u001b[0m\u001b[1;33m)\u001b[0m\u001b[1;33m:\u001b[0m\u001b[1;33m\u001b[0m\u001b[1;33m\u001b[0m\u001b[0m\n\u001b[0;32m    221\u001b[0m         \u001b[1;32mwith\u001b[0m \u001b[0mconfig_context\u001b[0m\u001b[1;33m(\u001b[0m\u001b[1;33m**\u001b[0m\u001b[0mself\u001b[0m\u001b[1;33m.\u001b[0m\u001b[0mconfig\u001b[0m\u001b[1;33m)\u001b[0m\u001b[1;33m:\u001b[0m\u001b[1;33m\u001b[0m\u001b[1;33m\u001b[0m\u001b[0m\n\u001b[1;32m--> 222\u001b[1;33m             \u001b[1;32mreturn\u001b[0m \u001b[0mself\u001b[0m\u001b[1;33m.\u001b[0m\u001b[0mfunction\u001b[0m\u001b[1;33m(\u001b[0m\u001b[1;33m*\u001b[0m\u001b[0margs\u001b[0m\u001b[1;33m,\u001b[0m \u001b[1;33m**\u001b[0m\u001b[0mkwargs\u001b[0m\u001b[1;33m)\u001b[0m\u001b[1;33m\u001b[0m\u001b[1;33m\u001b[0m\u001b[0m\n\u001b[0m",
      "\u001b[1;32mc:\\ProgramData\\Anaconda3\\lib\\site-packages\\sklearn\\model_selection\\_validation.py\u001b[0m in \u001b[0;36m_fit_and_score\u001b[1;34m(estimator, X, y, scorer, train, test, verbose, parameters, fit_params, return_train_score, return_parameters, return_n_test_samples, return_times, return_estimator, split_progress, candidate_progress, error_score)\u001b[0m\n\u001b[0;32m    623\u001b[0m \u001b[1;33m\u001b[0m\u001b[0m\n\u001b[0;32m    624\u001b[0m         \u001b[0mfit_time\u001b[0m \u001b[1;33m=\u001b[0m \u001b[0mtime\u001b[0m\u001b[1;33m.\u001b[0m\u001b[0mtime\u001b[0m\u001b[1;33m(\u001b[0m\u001b[1;33m)\u001b[0m \u001b[1;33m-\u001b[0m \u001b[0mstart_time\u001b[0m\u001b[1;33m\u001b[0m\u001b[1;33m\u001b[0m\u001b[0m\n\u001b[1;32m--> 625\u001b[1;33m         \u001b[0mtest_scores\u001b[0m \u001b[1;33m=\u001b[0m \u001b[0m_score\u001b[0m\u001b[1;33m(\u001b[0m\u001b[0mestimator\u001b[0m\u001b[1;33m,\u001b[0m \u001b[0mX_test\u001b[0m\u001b[1;33m,\u001b[0m \u001b[0my_test\u001b[0m\u001b[1;33m,\u001b[0m \u001b[0mscorer\u001b[0m\u001b[1;33m,\u001b[0m \u001b[0merror_score\u001b[0m\u001b[1;33m)\u001b[0m\u001b[1;33m\u001b[0m\u001b[1;33m\u001b[0m\u001b[0m\n\u001b[0m\u001b[0;32m    626\u001b[0m         \u001b[0mscore_time\u001b[0m \u001b[1;33m=\u001b[0m \u001b[0mtime\u001b[0m\u001b[1;33m.\u001b[0m\u001b[0mtime\u001b[0m\u001b[1;33m(\u001b[0m\u001b[1;33m)\u001b[0m \u001b[1;33m-\u001b[0m \u001b[0mstart_time\u001b[0m \u001b[1;33m-\u001b[0m \u001b[0mfit_time\u001b[0m\u001b[1;33m\u001b[0m\u001b[1;33m\u001b[0m\u001b[0m\n\u001b[0;32m    627\u001b[0m         \u001b[1;32mif\u001b[0m \u001b[0mreturn_train_score\u001b[0m\u001b[1;33m:\u001b[0m\u001b[1;33m\u001b[0m\u001b[1;33m\u001b[0m\u001b[0m\n",
      "\u001b[1;32mc:\\ProgramData\\Anaconda3\\lib\\site-packages\\sklearn\\model_selection\\_validation.py\u001b[0m in \u001b[0;36m_score\u001b[1;34m(estimator, X_test, y_test, scorer, error_score)\u001b[0m\n\u001b[0;32m    685\u001b[0m             \u001b[0mscores\u001b[0m \u001b[1;33m=\u001b[0m \u001b[0mscorer\u001b[0m\u001b[1;33m(\u001b[0m\u001b[0mestimator\u001b[0m\u001b[1;33m,\u001b[0m \u001b[0mX_test\u001b[0m\u001b[1;33m)\u001b[0m\u001b[1;33m\u001b[0m\u001b[1;33m\u001b[0m\u001b[0m\n\u001b[0;32m    686\u001b[0m         \u001b[1;32melse\u001b[0m\u001b[1;33m:\u001b[0m\u001b[1;33m\u001b[0m\u001b[1;33m\u001b[0m\u001b[0m\n\u001b[1;32m--> 687\u001b[1;33m             \u001b[0mscores\u001b[0m \u001b[1;33m=\u001b[0m \u001b[0mscorer\u001b[0m\u001b[1;33m(\u001b[0m\u001b[0mestimator\u001b[0m\u001b[1;33m,\u001b[0m \u001b[0mX_test\u001b[0m\u001b[1;33m,\u001b[0m \u001b[0my_test\u001b[0m\u001b[1;33m)\u001b[0m\u001b[1;33m\u001b[0m\u001b[1;33m\u001b[0m\u001b[0m\n\u001b[0m\u001b[0;32m    688\u001b[0m     \u001b[1;32mexcept\u001b[0m \u001b[0mException\u001b[0m\u001b[1;33m:\u001b[0m\u001b[1;33m\u001b[0m\u001b[1;33m\u001b[0m\u001b[0m\n\u001b[0;32m    689\u001b[0m         \u001b[1;32mif\u001b[0m \u001b[0merror_score\u001b[0m \u001b[1;33m==\u001b[0m \u001b[1;34m'raise'\u001b[0m\u001b[1;33m:\u001b[0m\u001b[1;33m\u001b[0m\u001b[1;33m\u001b[0m\u001b[0m\n",
      "\u001b[1;32mc:\\ProgramData\\Anaconda3\\lib\\site-packages\\sklearn\\metrics\\_scorer.py\u001b[0m in \u001b[0;36m__call__\u001b[1;34m(self, estimator, *args, **kwargs)\u001b[0m\n\u001b[0;32m     85\u001b[0m         \u001b[1;32mfor\u001b[0m \u001b[0mname\u001b[0m\u001b[1;33m,\u001b[0m \u001b[0mscorer\u001b[0m \u001b[1;32min\u001b[0m \u001b[0mself\u001b[0m\u001b[1;33m.\u001b[0m\u001b[0m_scorers\u001b[0m\u001b[1;33m.\u001b[0m\u001b[0mitems\u001b[0m\u001b[1;33m(\u001b[0m\u001b[1;33m)\u001b[0m\u001b[1;33m:\u001b[0m\u001b[1;33m\u001b[0m\u001b[1;33m\u001b[0m\u001b[0m\n\u001b[0;32m     86\u001b[0m             \u001b[1;32mif\u001b[0m \u001b[0misinstance\u001b[0m\u001b[1;33m(\u001b[0m\u001b[0mscorer\u001b[0m\u001b[1;33m,\u001b[0m \u001b[0m_BaseScorer\u001b[0m\u001b[1;33m)\u001b[0m\u001b[1;33m:\u001b[0m\u001b[1;33m\u001b[0m\u001b[1;33m\u001b[0m\u001b[0m\n\u001b[1;32m---> 87\u001b[1;33m                 score = scorer._score(cached_call, estimator,\n\u001b[0m\u001b[0;32m     88\u001b[0m                                       *args, **kwargs)\n\u001b[0;32m     89\u001b[0m             \u001b[1;32melse\u001b[0m\u001b[1;33m:\u001b[0m\u001b[1;33m\u001b[0m\u001b[1;33m\u001b[0m\u001b[0m\n",
      "\u001b[1;32mc:\\ProgramData\\Anaconda3\\lib\\site-packages\\sklearn\\metrics\\_scorer.py\u001b[0m in \u001b[0;36m_score\u001b[1;34m(self, method_caller, estimator, X, y_true, sample_weight)\u001b[0m\n\u001b[0;32m    234\u001b[0m         \"\"\"\n\u001b[0;32m    235\u001b[0m \u001b[1;33m\u001b[0m\u001b[0m\n\u001b[1;32m--> 236\u001b[1;33m         \u001b[0my_pred\u001b[0m \u001b[1;33m=\u001b[0m \u001b[0mmethod_caller\u001b[0m\u001b[1;33m(\u001b[0m\u001b[0mestimator\u001b[0m\u001b[1;33m,\u001b[0m \u001b[1;34m\"predict\"\u001b[0m\u001b[1;33m,\u001b[0m \u001b[0mX\u001b[0m\u001b[1;33m)\u001b[0m\u001b[1;33m\u001b[0m\u001b[1;33m\u001b[0m\u001b[0m\n\u001b[0m\u001b[0;32m    237\u001b[0m         \u001b[1;32mif\u001b[0m \u001b[0msample_weight\u001b[0m \u001b[1;32mis\u001b[0m \u001b[1;32mnot\u001b[0m \u001b[1;32mNone\u001b[0m\u001b[1;33m:\u001b[0m\u001b[1;33m\u001b[0m\u001b[1;33m\u001b[0m\u001b[0m\n\u001b[0;32m    238\u001b[0m             return self._sign * self._score_func(y_true, y_pred,\n",
      "\u001b[1;32mc:\\ProgramData\\Anaconda3\\lib\\site-packages\\sklearn\\metrics\\_scorer.py\u001b[0m in \u001b[0;36m_cached_call\u001b[1;34m(cache, estimator, method, *args, **kwargs)\u001b[0m\n\u001b[0;32m     51\u001b[0m     \u001b[1;34m\"\"\"Call estimator with method and args and kwargs.\"\"\"\u001b[0m\u001b[1;33m\u001b[0m\u001b[1;33m\u001b[0m\u001b[0m\n\u001b[0;32m     52\u001b[0m     \u001b[1;32mif\u001b[0m \u001b[0mcache\u001b[0m \u001b[1;32mis\u001b[0m \u001b[1;32mNone\u001b[0m\u001b[1;33m:\u001b[0m\u001b[1;33m\u001b[0m\u001b[1;33m\u001b[0m\u001b[0m\n\u001b[1;32m---> 53\u001b[1;33m         \u001b[1;32mreturn\u001b[0m \u001b[0mgetattr\u001b[0m\u001b[1;33m(\u001b[0m\u001b[0mestimator\u001b[0m\u001b[1;33m,\u001b[0m \u001b[0mmethod\u001b[0m\u001b[1;33m)\u001b[0m\u001b[1;33m(\u001b[0m\u001b[1;33m*\u001b[0m\u001b[0margs\u001b[0m\u001b[1;33m,\u001b[0m \u001b[1;33m**\u001b[0m\u001b[0mkwargs\u001b[0m\u001b[1;33m)\u001b[0m\u001b[1;33m\u001b[0m\u001b[1;33m\u001b[0m\u001b[0m\n\u001b[0m\u001b[0;32m     54\u001b[0m \u001b[1;33m\u001b[0m\u001b[0m\n\u001b[0;32m     55\u001b[0m     \u001b[1;32mtry\u001b[0m\u001b[1;33m:\u001b[0m\u001b[1;33m\u001b[0m\u001b[1;33m\u001b[0m\u001b[0m\n",
      "\u001b[1;32mc:\\ProgramData\\Anaconda3\\lib\\site-packages\\sklearn\\utils\\metaestimators.py\u001b[0m in \u001b[0;36m<lambda>\u001b[1;34m(*args, **kwargs)\u001b[0m\n\u001b[0;32m    118\u001b[0m \u001b[1;33m\u001b[0m\u001b[0m\n\u001b[0;32m    119\u001b[0m         \u001b[1;31m# lambda, but not partial, allows help() to work with update_wrapper\u001b[0m\u001b[1;33m\u001b[0m\u001b[1;33m\u001b[0m\u001b[0m\n\u001b[1;32m--> 120\u001b[1;33m         \u001b[0mout\u001b[0m \u001b[1;33m=\u001b[0m \u001b[1;32mlambda\u001b[0m \u001b[1;33m*\u001b[0m\u001b[0margs\u001b[0m\u001b[1;33m,\u001b[0m \u001b[1;33m**\u001b[0m\u001b[0mkwargs\u001b[0m\u001b[1;33m:\u001b[0m \u001b[0mself\u001b[0m\u001b[1;33m.\u001b[0m\u001b[0mfn\u001b[0m\u001b[1;33m(\u001b[0m\u001b[0mobj\u001b[0m\u001b[1;33m,\u001b[0m \u001b[1;33m*\u001b[0m\u001b[0margs\u001b[0m\u001b[1;33m,\u001b[0m \u001b[1;33m**\u001b[0m\u001b[0mkwargs\u001b[0m\u001b[1;33m)\u001b[0m\u001b[1;33m\u001b[0m\u001b[1;33m\u001b[0m\u001b[0m\n\u001b[0m\u001b[0;32m    121\u001b[0m         \u001b[1;31m# update the docstring of the returned function\u001b[0m\u001b[1;33m\u001b[0m\u001b[1;33m\u001b[0m\u001b[0m\n\u001b[0;32m    122\u001b[0m         \u001b[0mupdate_wrapper\u001b[0m\u001b[1;33m(\u001b[0m\u001b[0mout\u001b[0m\u001b[1;33m,\u001b[0m \u001b[0mself\u001b[0m\u001b[1;33m.\u001b[0m\u001b[0mfn\u001b[0m\u001b[1;33m)\u001b[0m\u001b[1;33m\u001b[0m\u001b[1;33m\u001b[0m\u001b[0m\n",
      "\u001b[1;32mc:\\ProgramData\\Anaconda3\\lib\\site-packages\\sklearn\\pipeline.py\u001b[0m in \u001b[0;36mpredict\u001b[1;34m(self, X, **predict_params)\u001b[0m\n\u001b[0;32m    417\u001b[0m         \u001b[1;32mfor\u001b[0m \u001b[0m_\u001b[0m\u001b[1;33m,\u001b[0m \u001b[0mname\u001b[0m\u001b[1;33m,\u001b[0m \u001b[0mtransform\u001b[0m \u001b[1;32min\u001b[0m \u001b[0mself\u001b[0m\u001b[1;33m.\u001b[0m\u001b[0m_iter\u001b[0m\u001b[1;33m(\u001b[0m\u001b[0mwith_final\u001b[0m\u001b[1;33m=\u001b[0m\u001b[1;32mFalse\u001b[0m\u001b[1;33m)\u001b[0m\u001b[1;33m:\u001b[0m\u001b[1;33m\u001b[0m\u001b[1;33m\u001b[0m\u001b[0m\n\u001b[0;32m    418\u001b[0m             \u001b[0mXt\u001b[0m \u001b[1;33m=\u001b[0m \u001b[0mtransform\u001b[0m\u001b[1;33m.\u001b[0m\u001b[0mtransform\u001b[0m\u001b[1;33m(\u001b[0m\u001b[0mXt\u001b[0m\u001b[1;33m)\u001b[0m\u001b[1;33m\u001b[0m\u001b[1;33m\u001b[0m\u001b[0m\n\u001b[1;32m--> 419\u001b[1;33m         \u001b[1;32mreturn\u001b[0m \u001b[0mself\u001b[0m\u001b[1;33m.\u001b[0m\u001b[0msteps\u001b[0m\u001b[1;33m[\u001b[0m\u001b[1;33m-\u001b[0m\u001b[1;36m1\u001b[0m\u001b[1;33m]\u001b[0m\u001b[1;33m[\u001b[0m\u001b[1;33m-\u001b[0m\u001b[1;36m1\u001b[0m\u001b[1;33m]\u001b[0m\u001b[1;33m.\u001b[0m\u001b[0mpredict\u001b[0m\u001b[1;33m(\u001b[0m\u001b[0mXt\u001b[0m\u001b[1;33m,\u001b[0m \u001b[1;33m**\u001b[0m\u001b[0mpredict_params\u001b[0m\u001b[1;33m)\u001b[0m\u001b[1;33m\u001b[0m\u001b[1;33m\u001b[0m\u001b[0m\n\u001b[0m\u001b[0;32m    420\u001b[0m \u001b[1;33m\u001b[0m\u001b[0m\n\u001b[0;32m    421\u001b[0m     \u001b[1;33m@\u001b[0m\u001b[0mif_delegate_has_method\u001b[0m\u001b[1;33m(\u001b[0m\u001b[0mdelegate\u001b[0m\u001b[1;33m=\u001b[0m\u001b[1;34m'_final_estimator'\u001b[0m\u001b[1;33m)\u001b[0m\u001b[1;33m\u001b[0m\u001b[1;33m\u001b[0m\u001b[0m\n",
      "\u001b[1;32mc:\\ProgramData\\Anaconda3\\lib\\site-packages\\sklearn\\neighbors\\_classification.py\u001b[0m in \u001b[0;36mpredict\u001b[1;34m(self, X)\u001b[0m\n\u001b[0;32m    195\u001b[0m         \u001b[0mX\u001b[0m \u001b[1;33m=\u001b[0m \u001b[0mcheck_array\u001b[0m\u001b[1;33m(\u001b[0m\u001b[0mX\u001b[0m\u001b[1;33m,\u001b[0m \u001b[0maccept_sparse\u001b[0m\u001b[1;33m=\u001b[0m\u001b[1;34m'csr'\u001b[0m\u001b[1;33m)\u001b[0m\u001b[1;33m\u001b[0m\u001b[1;33m\u001b[0m\u001b[0m\n\u001b[0;32m    196\u001b[0m \u001b[1;33m\u001b[0m\u001b[0m\n\u001b[1;32m--> 197\u001b[1;33m         \u001b[0mneigh_dist\u001b[0m\u001b[1;33m,\u001b[0m \u001b[0mneigh_ind\u001b[0m \u001b[1;33m=\u001b[0m \u001b[0mself\u001b[0m\u001b[1;33m.\u001b[0m\u001b[0mkneighbors\u001b[0m\u001b[1;33m(\u001b[0m\u001b[0mX\u001b[0m\u001b[1;33m)\u001b[0m\u001b[1;33m\u001b[0m\u001b[1;33m\u001b[0m\u001b[0m\n\u001b[0m\u001b[0;32m    198\u001b[0m         \u001b[0mclasses_\u001b[0m \u001b[1;33m=\u001b[0m \u001b[0mself\u001b[0m\u001b[1;33m.\u001b[0m\u001b[0mclasses_\u001b[0m\u001b[1;33m\u001b[0m\u001b[1;33m\u001b[0m\u001b[0m\n\u001b[0;32m    199\u001b[0m         \u001b[0m_y\u001b[0m \u001b[1;33m=\u001b[0m \u001b[0mself\u001b[0m\u001b[1;33m.\u001b[0m\u001b[0m_y\u001b[0m\u001b[1;33m\u001b[0m\u001b[1;33m\u001b[0m\u001b[0m\n",
      "\u001b[1;32mc:\\ProgramData\\Anaconda3\\lib\\site-packages\\sklearn\\neighbors\\_base.py\u001b[0m in \u001b[0;36mkneighbors\u001b[1;34m(self, X, n_neighbors, return_distance)\u001b[0m\n\u001b[0;32m    703\u001b[0m                 \u001b[0mkwds\u001b[0m \u001b[1;33m=\u001b[0m \u001b[0mself\u001b[0m\u001b[1;33m.\u001b[0m\u001b[0meffective_metric_params_\u001b[0m\u001b[1;33m\u001b[0m\u001b[1;33m\u001b[0m\u001b[0m\n\u001b[0;32m    704\u001b[0m \u001b[1;33m\u001b[0m\u001b[0m\n\u001b[1;32m--> 705\u001b[1;33m             chunked_results = list(pairwise_distances_chunked(\n\u001b[0m\u001b[0;32m    706\u001b[0m                 \u001b[0mX\u001b[0m\u001b[1;33m,\u001b[0m \u001b[0mself\u001b[0m\u001b[1;33m.\u001b[0m\u001b[0m_fit_X\u001b[0m\u001b[1;33m,\u001b[0m \u001b[0mreduce_func\u001b[0m\u001b[1;33m=\u001b[0m\u001b[0mreduce_func\u001b[0m\u001b[1;33m,\u001b[0m\u001b[1;33m\u001b[0m\u001b[1;33m\u001b[0m\u001b[0m\n\u001b[0;32m    707\u001b[0m                 \u001b[0mmetric\u001b[0m\u001b[1;33m=\u001b[0m\u001b[0mself\u001b[0m\u001b[1;33m.\u001b[0m\u001b[0meffective_metric_\u001b[0m\u001b[1;33m,\u001b[0m \u001b[0mn_jobs\u001b[0m\u001b[1;33m=\u001b[0m\u001b[0mn_jobs\u001b[0m\u001b[1;33m,\u001b[0m\u001b[1;33m\u001b[0m\u001b[1;33m\u001b[0m\u001b[0m\n",
      "\u001b[1;32mc:\\ProgramData\\Anaconda3\\lib\\site-packages\\sklearn\\metrics\\pairwise.py\u001b[0m in \u001b[0;36mpairwise_distances_chunked\u001b[1;34m(X, Y, reduce_func, metric, n_jobs, working_memory, **kwds)\u001b[0m\n\u001b[0;32m   1631\u001b[0m         \u001b[1;32mif\u001b[0m \u001b[0mreduce_func\u001b[0m \u001b[1;32mis\u001b[0m \u001b[1;32mnot\u001b[0m \u001b[1;32mNone\u001b[0m\u001b[1;33m:\u001b[0m\u001b[1;33m\u001b[0m\u001b[1;33m\u001b[0m\u001b[0m\n\u001b[0;32m   1632\u001b[0m             \u001b[0mchunk_size\u001b[0m \u001b[1;33m=\u001b[0m \u001b[0mD_chunk\u001b[0m\u001b[1;33m.\u001b[0m\u001b[0mshape\u001b[0m\u001b[1;33m[\u001b[0m\u001b[1;36m0\u001b[0m\u001b[1;33m]\u001b[0m\u001b[1;33m\u001b[0m\u001b[1;33m\u001b[0m\u001b[0m\n\u001b[1;32m-> 1633\u001b[1;33m             \u001b[0mD_chunk\u001b[0m \u001b[1;33m=\u001b[0m \u001b[0mreduce_func\u001b[0m\u001b[1;33m(\u001b[0m\u001b[0mD_chunk\u001b[0m\u001b[1;33m,\u001b[0m \u001b[0msl\u001b[0m\u001b[1;33m.\u001b[0m\u001b[0mstart\u001b[0m\u001b[1;33m)\u001b[0m\u001b[1;33m\u001b[0m\u001b[1;33m\u001b[0m\u001b[0m\n\u001b[0m\u001b[0;32m   1634\u001b[0m             \u001b[0m_check_chunk_size\u001b[0m\u001b[1;33m(\u001b[0m\u001b[0mD_chunk\u001b[0m\u001b[1;33m,\u001b[0m \u001b[0mchunk_size\u001b[0m\u001b[1;33m)\u001b[0m\u001b[1;33m\u001b[0m\u001b[1;33m\u001b[0m\u001b[0m\n\u001b[0;32m   1635\u001b[0m         \u001b[1;32myield\u001b[0m \u001b[0mD_chunk\u001b[0m\u001b[1;33m\u001b[0m\u001b[1;33m\u001b[0m\u001b[0m\n",
      "\u001b[1;32mc:\\ProgramData\\Anaconda3\\lib\\site-packages\\sklearn\\neighbors\\_base.py\u001b[0m in \u001b[0;36m_kneighbors_reduce_func\u001b[1;34m(self, dist, start, n_neighbors, return_distance)\u001b[0m\n\u001b[0;32m    580\u001b[0m         \"\"\"\n\u001b[0;32m    581\u001b[0m         \u001b[0msample_range\u001b[0m \u001b[1;33m=\u001b[0m \u001b[0mnp\u001b[0m\u001b[1;33m.\u001b[0m\u001b[0marange\u001b[0m\u001b[1;33m(\u001b[0m\u001b[0mdist\u001b[0m\u001b[1;33m.\u001b[0m\u001b[0mshape\u001b[0m\u001b[1;33m[\u001b[0m\u001b[1;36m0\u001b[0m\u001b[1;33m]\u001b[0m\u001b[1;33m)\u001b[0m\u001b[1;33m[\u001b[0m\u001b[1;33m:\u001b[0m\u001b[1;33m,\u001b[0m \u001b[1;32mNone\u001b[0m\u001b[1;33m]\u001b[0m\u001b[1;33m\u001b[0m\u001b[1;33m\u001b[0m\u001b[0m\n\u001b[1;32m--> 582\u001b[1;33m         \u001b[0mneigh_ind\u001b[0m \u001b[1;33m=\u001b[0m \u001b[0mnp\u001b[0m\u001b[1;33m.\u001b[0m\u001b[0margpartition\u001b[0m\u001b[1;33m(\u001b[0m\u001b[0mdist\u001b[0m\u001b[1;33m,\u001b[0m \u001b[0mn_neighbors\u001b[0m \u001b[1;33m-\u001b[0m \u001b[1;36m1\u001b[0m\u001b[1;33m,\u001b[0m \u001b[0maxis\u001b[0m\u001b[1;33m=\u001b[0m\u001b[1;36m1\u001b[0m\u001b[1;33m)\u001b[0m\u001b[1;33m\u001b[0m\u001b[1;33m\u001b[0m\u001b[0m\n\u001b[0m\u001b[0;32m    583\u001b[0m         \u001b[0mneigh_ind\u001b[0m \u001b[1;33m=\u001b[0m \u001b[0mneigh_ind\u001b[0m\u001b[1;33m[\u001b[0m\u001b[1;33m:\u001b[0m\u001b[1;33m,\u001b[0m \u001b[1;33m:\u001b[0m\u001b[0mn_neighbors\u001b[0m\u001b[1;33m]\u001b[0m\u001b[1;33m\u001b[0m\u001b[1;33m\u001b[0m\u001b[0m\n\u001b[0;32m    584\u001b[0m         \u001b[1;31m# argpartition doesn't guarantee sorted order, so we sort again\u001b[0m\u001b[1;33m\u001b[0m\u001b[1;33m\u001b[0m\u001b[0m\n",
      "\u001b[1;32m<__array_function__ internals>\u001b[0m in \u001b[0;36margpartition\u001b[1;34m(*args, **kwargs)\u001b[0m\n",
      "\u001b[1;32mc:\\ProgramData\\Anaconda3\\lib\\site-packages\\numpy\\core\\fromnumeric.py\u001b[0m in \u001b[0;36margpartition\u001b[1;34m(a, kth, axis, kind, order)\u001b[0m\n\u001b[0;32m    835\u001b[0m \u001b[1;33m\u001b[0m\u001b[0m\n\u001b[0;32m    836\u001b[0m     \"\"\"\n\u001b[1;32m--> 837\u001b[1;33m     \u001b[1;32mreturn\u001b[0m \u001b[0m_wrapfunc\u001b[0m\u001b[1;33m(\u001b[0m\u001b[0ma\u001b[0m\u001b[1;33m,\u001b[0m \u001b[1;34m'argpartition'\u001b[0m\u001b[1;33m,\u001b[0m \u001b[0mkth\u001b[0m\u001b[1;33m,\u001b[0m \u001b[0maxis\u001b[0m\u001b[1;33m=\u001b[0m\u001b[0maxis\u001b[0m\u001b[1;33m,\u001b[0m \u001b[0mkind\u001b[0m\u001b[1;33m=\u001b[0m\u001b[0mkind\u001b[0m\u001b[1;33m,\u001b[0m \u001b[0morder\u001b[0m\u001b[1;33m=\u001b[0m\u001b[0morder\u001b[0m\u001b[1;33m)\u001b[0m\u001b[1;33m\u001b[0m\u001b[1;33m\u001b[0m\u001b[0m\n\u001b[0m\u001b[0;32m    838\u001b[0m \u001b[1;33m\u001b[0m\u001b[0m\n\u001b[0;32m    839\u001b[0m \u001b[1;33m\u001b[0m\u001b[0m\n",
      "\u001b[1;32mc:\\ProgramData\\Anaconda3\\lib\\site-packages\\numpy\\core\\fromnumeric.py\u001b[0m in \u001b[0;36m_wrapfunc\u001b[1;34m(obj, method, *args, **kwds)\u001b[0m\n\u001b[0;32m     56\u001b[0m \u001b[1;33m\u001b[0m\u001b[0m\n\u001b[0;32m     57\u001b[0m     \u001b[1;32mtry\u001b[0m\u001b[1;33m:\u001b[0m\u001b[1;33m\u001b[0m\u001b[1;33m\u001b[0m\u001b[0m\n\u001b[1;32m---> 58\u001b[1;33m         \u001b[1;32mreturn\u001b[0m \u001b[0mbound\u001b[0m\u001b[1;33m(\u001b[0m\u001b[1;33m*\u001b[0m\u001b[0margs\u001b[0m\u001b[1;33m,\u001b[0m \u001b[1;33m**\u001b[0m\u001b[0mkwds\u001b[0m\u001b[1;33m)\u001b[0m\u001b[1;33m\u001b[0m\u001b[1;33m\u001b[0m\u001b[0m\n\u001b[0m\u001b[0;32m     59\u001b[0m     \u001b[1;32mexcept\u001b[0m \u001b[0mTypeError\u001b[0m\u001b[1;33m:\u001b[0m\u001b[1;33m\u001b[0m\u001b[1;33m\u001b[0m\u001b[0m\n\u001b[0;32m     60\u001b[0m         \u001b[1;31m# A TypeError occurs if the object does have such a method in its\u001b[0m\u001b[1;33m\u001b[0m\u001b[1;33m\u001b[0m\u001b[0m\n",
      "\u001b[1;31mKeyboardInterrupt\u001b[0m: "
     ]
    }
   ],
   "source": [
    "# Cross Validation pada data train\n",
    "\n",
    "f1_mean = []\n",
    "f1_std = []\n",
    "\n",
    "for i in models:\n",
    "    # mendefinisikan pipeline\n",
    "    pipe_model = Pipeline(\n",
    "        [('transformer', transformer),\n",
    "        ('model', i)])\n",
    "\n",
    "    # Cross Validation menggunakan metrics 'recall' dan cv=5\n",
    "    crossval = cross_val_score(\n",
    "        estimator=pipe_model,\n",
    "        X=X_train,\n",
    "        y=y_train,\n",
    "        scoring='f1',\n",
    "        cv=5,\n",
    "        error_score=\"raise\"\n",
    "    )\n",
    "    f1_mean.append(crossval.mean()*100)\n",
    "    f1_std.append(crossval.std()*100)\n",
    "\n",
    "# Rata - rata hasil dan standard deviasinya disimpan ke dalam DataFrame\n",
    "model_df = pd.DataFrame({\n",
    "    'model':model_name,\n",
    "    'basic f1 mean':f1_mean,\n",
    "    'basic f1 std':f1_std,\n",
    "})\n",
    "\n",
    "model_df"
   ]
  },
  {
   "cell_type": "markdown",
   "metadata": {},
   "source": [
    "**Cross Validation Score**\n",
    "\n",
    "Disini kita tidak menggunakan logistic regression, ridge, gradient, dan adaboost dikarenakan pada hasil proses cross validation score menunjukan 0.00, jd pertimbangan kita adalah tidak menggunakan keempat model tersebut\n",
    "\n",
    "- Hasil prediksi dan standard deviasi pada setiap model tidak terlalu berbeda, kecuali pada model Decision Tree.\n",
    "- Decision Tree Classifier sebagai model dengan nilai tertinggi.\n",
    "- XGB Classifier memiliki hasil paling rendah.\n",
    "\n",
    "Analisa akan dilanjutkan dengan prediksi terhadap data test"
   ]
  },
  {
   "cell_type": "code",
   "execution_count": null,
   "metadata": {},
   "outputs": [
    {
     "data": {
      "text/html": [
       "<div>\n",
       "<style scoped>\n",
       "    .dataframe tbody tr th:only-of-type {\n",
       "        vertical-align: middle;\n",
       "    }\n",
       "\n",
       "    .dataframe tbody tr th {\n",
       "        vertical-align: top;\n",
       "    }\n",
       "\n",
       "    .dataframe thead th {\n",
       "        text-align: right;\n",
       "    }\n",
       "</style>\n",
       "<table border=\"1\" class=\"dataframe\">\n",
       "  <thead>\n",
       "    <tr style=\"text-align: right;\">\n",
       "      <th></th>\n",
       "      <th>model</th>\n",
       "      <th>basic f1 mean</th>\n",
       "      <th>basic f1 std</th>\n",
       "      <th>test f1 score</th>\n",
       "    </tr>\n",
       "  </thead>\n",
       "  <tbody>\n",
       "    <tr>\n",
       "      <th>0</th>\n",
       "      <td>K Neighbors Classifier</td>\n",
       "      <td>1.406777</td>\n",
       "      <td>1.305722</td>\n",
       "      <td>0.000000</td>\n",
       "    </tr>\n",
       "    <tr>\n",
       "      <th>1</th>\n",
       "      <td>Decision Tree Classifier</td>\n",
       "      <td>6.161661</td>\n",
       "      <td>2.892987</td>\n",
       "      <td>0.065455</td>\n",
       "    </tr>\n",
       "    <tr>\n",
       "      <th>2</th>\n",
       "      <td>Bagging Classifier</td>\n",
       "      <td>1.736536</td>\n",
       "      <td>1.383522</td>\n",
       "      <td>0.023392</td>\n",
       "    </tr>\n",
       "    <tr>\n",
       "      <th>3</th>\n",
       "      <td>Random Forest Classifier</td>\n",
       "      <td>1.259921</td>\n",
       "      <td>1.543161</td>\n",
       "      <td>0.024845</td>\n",
       "    </tr>\n",
       "    <tr>\n",
       "      <th>4</th>\n",
       "      <td>XGB Classifier</td>\n",
       "      <td>0.701754</td>\n",
       "      <td>1.403509</td>\n",
       "      <td>0.028571</td>\n",
       "    </tr>\n",
       "  </tbody>\n",
       "</table>\n",
       "</div>"
      ],
      "text/plain": [
       "                      model  basic f1 mean  basic f1 std  test f1 score\n",
       "0    K Neighbors Classifier       1.406777      1.305722       0.000000\n",
       "1  Decision Tree Classifier       6.161661      2.892987       0.065455\n",
       "2        Bagging Classifier       1.736536      1.383522       0.023392\n",
       "3  Random Forest Classifier       1.259921      1.543161       0.024845\n",
       "4            XGB Classifier       0.701754      1.403509       0.028571"
      ]
     },
     "execution_count": 60,
     "metadata": {},
     "output_type": "execute_result"
    }
   ],
   "source": [
    "# menampung data\n",
    "test_f1_score = []\n",
    "\n",
    "for modelname, model in zip(model_name, models):\n",
    "    \n",
    "    # Mendefinisikan Pipemodel\n",
    "    model_pipe = Pipeline([                 \n",
    "        (\"preprocessing\",transformer),\n",
    "        (\"model\", model)\n",
    "        ])\n",
    "    \n",
    "    model_pipe.fit(X_train, y_train)                                # training model pada data train\n",
    "    Y_pred_class_ = model_pipe.predict(X_test)                      # Prediksi pada data test\n",
    "\n",
    "    # hasil scoring disimpan\n",
    "    test_f1_score.append([f1_score(y_test, Y_pred_class_)])\n",
    "\n",
    "# hasil scoring dibuat dalam dataframe\n",
    "df_test_f1score = pd.DataFrame(test_f1_score, index = model_name, columns = [\"test f1 score\"])\n",
    "model_df = model_df.join(df_test_f1score,on='model', how='outer')\n",
    "model_df"
   ]
  },
  {
   "cell_type": "markdown",
   "metadata": {},
   "source": [
    "**Score Train & Test**  \n",
    "\n",
    "- Hasil prediksi paling tinggi baik ditunjukan oleh `Decision Tree Classifier`\n",
    "- Hasil yang paling stabil ditunjukan oleh `Random Forest Classifier`\n",
    "\n",
    "Dalam rangka memaksimalkan hasil prediksi, maka data yang ada akan di balancing kembali menggunakan undersampling dan oversampling."
   ]
  },
  {
   "cell_type": "markdown",
   "metadata": {},
   "source": [
    "### UNDERSAMPLING\n",
    "\n",
    "Pada proses ini data akan diundersampling agar bisa mendapatkan prediksi yang lebih baik, karena data imbalance."
   ]
  },
  {
   "cell_type": "code",
   "execution_count": null,
   "metadata": {},
   "outputs": [],
   "source": [
    "transformer = ColumnTransformer([\n",
    "    ('Encoding', OneHotEncoder(handle_unknown = 'ignore') ,['Agency', 'Product_Name', 'Destination']),\n",
    "    ('Scaling', MinMaxScaler() ,['Duration', 'Net_Sales','Commision','Age']),\n",
    "], remainder='passthrough')"
   ]
  },
  {
   "cell_type": "code",
   "execution_count": null,
   "metadata": {},
   "outputs": [
    {
     "data": {
      "text/html": [
       "<div>\n",
       "<style scoped>\n",
       "    .dataframe tbody tr th:only-of-type {\n",
       "        vertical-align: middle;\n",
       "    }\n",
       "\n",
       "    .dataframe tbody tr th {\n",
       "        vertical-align: top;\n",
       "    }\n",
       "\n",
       "    .dataframe thead th {\n",
       "        text-align: right;\n",
       "    }\n",
       "</style>\n",
       "<table border=\"1\" class=\"dataframe\">\n",
       "  <thead>\n",
       "    <tr style=\"text-align: right;\">\n",
       "      <th></th>\n",
       "      <th>model</th>\n",
       "      <th>undersampling F1 mean</th>\n",
       "      <th>undersampling F1 std</th>\n",
       "    </tr>\n",
       "  </thead>\n",
       "  <tbody>\n",
       "    <tr>\n",
       "      <th>0</th>\n",
       "      <td>K Neighbors Classifier</td>\n",
       "      <td>7.582597</td>\n",
       "      <td>0.825628</td>\n",
       "    </tr>\n",
       "    <tr>\n",
       "      <th>1</th>\n",
       "      <td>Decision Tree Classifier</td>\n",
       "      <td>5.620824</td>\n",
       "      <td>0.349229</td>\n",
       "    </tr>\n",
       "    <tr>\n",
       "      <th>2</th>\n",
       "      <td>Bagging Classifier</td>\n",
       "      <td>7.735425</td>\n",
       "      <td>0.473623</td>\n",
       "    </tr>\n",
       "    <tr>\n",
       "      <th>3</th>\n",
       "      <td>Random Forest Classifier</td>\n",
       "      <td>8.026328</td>\n",
       "      <td>0.610327</td>\n",
       "    </tr>\n",
       "    <tr>\n",
       "      <th>4</th>\n",
       "      <td>XGB Classifier</td>\n",
       "      <td>7.190960</td>\n",
       "      <td>0.381875</td>\n",
       "    </tr>\n",
       "  </tbody>\n",
       "</table>\n",
       "</div>"
      ],
      "text/plain": [
       "                      model  undersampling F1 mean  undersampling F1 std\n",
       "0    K Neighbors Classifier               7.582597              0.825628\n",
       "1  Decision Tree Classifier               5.620824              0.349229\n",
       "2        Bagging Classifier               7.735425              0.473623\n",
       "3  Random Forest Classifier               8.026328              0.610327\n",
       "4            XGB Classifier               7.190960              0.381875"
      ]
     },
     "execution_count": 62,
     "metadata": {},
     "output_type": "execute_result"
    }
   ],
   "source": [
    "rus = RandomUnderSampler(random_state=2)\n",
    "\n",
    "# Cross Validation pada data train\n",
    "rus_f1_mean = []\n",
    "rus_f1_std = []\n",
    "\n",
    "for i in models:\n",
    "    # Mendefinisikan pipeline\n",
    "    pipe_model = Pipeline([\n",
    "        ('resampling', rus),\n",
    "        ('transformer', transformer),\n",
    "        ('model', i)\n",
    "        ])\n",
    "\n",
    "    # Cross Validation menggunakan metrics 'recall' dan cv=5\n",
    "    crossval = cross_val_score(\n",
    "        estimator=pipe_model,\n",
    "        X=X_train,\n",
    "        y=y_train,\n",
    "        scoring='f1',\n",
    "        cv=5,\n",
    "        error_score=\"raise\"\n",
    "    )\n",
    "    rus_f1_mean.append(crossval.mean()*100)\n",
    "    rus_f1_std.append(crossval.std()*100)\n",
    "\n",
    "# Rata - rata hasil dan standard deviasinya disimpan ke dalam DataFrame\n",
    "rus_model_df = pd.DataFrame({\n",
    "    'model':model_name,\n",
    "    'undersampling F1 mean':rus_f1_mean,\n",
    "    'undersampling F1 std':rus_f1_std,\n",
    "})\n",
    "\n",
    "rus_model_df"
   ]
  },
  {
   "cell_type": "markdown",
   "metadata": {},
   "source": [
    "**Undersampling Score**\n",
    "\n",
    "- Hasil prediksi paling tinggi dihasilkan oleh `Random Forest Classifier`\n",
    "- Hasil prediksi naik dibandingkan data yang tidak di under sampling\n",
    "\n",
    "Analisa akan dilanjutkan dengan prediksi terhadap data test"
   ]
  },
  {
   "cell_type": "code",
   "execution_count": null,
   "metadata": {},
   "outputs": [
    {
     "data": {
      "text/html": [
       "<div>\n",
       "<style scoped>\n",
       "    .dataframe tbody tr th:only-of-type {\n",
       "        vertical-align: middle;\n",
       "    }\n",
       "\n",
       "    .dataframe tbody tr th {\n",
       "        vertical-align: top;\n",
       "    }\n",
       "\n",
       "    .dataframe thead th {\n",
       "        text-align: right;\n",
       "    }\n",
       "</style>\n",
       "<table border=\"1\" class=\"dataframe\">\n",
       "  <thead>\n",
       "    <tr style=\"text-align: right;\">\n",
       "      <th></th>\n",
       "      <th>model</th>\n",
       "      <th>undersampling F1 mean</th>\n",
       "      <th>undersampling F1 std</th>\n",
       "      <th>test f1 score</th>\n",
       "    </tr>\n",
       "  </thead>\n",
       "  <tbody>\n",
       "    <tr>\n",
       "      <th>0</th>\n",
       "      <td>K Neighbors Classifier</td>\n",
       "      <td>7.582597</td>\n",
       "      <td>0.825628</td>\n",
       "      <td>0.000000</td>\n",
       "    </tr>\n",
       "    <tr>\n",
       "      <th>1</th>\n",
       "      <td>Decision Tree Classifier</td>\n",
       "      <td>5.620824</td>\n",
       "      <td>0.349229</td>\n",
       "      <td>0.065455</td>\n",
       "    </tr>\n",
       "    <tr>\n",
       "      <th>2</th>\n",
       "      <td>Bagging Classifier</td>\n",
       "      <td>7.735425</td>\n",
       "      <td>0.473623</td>\n",
       "      <td>0.023392</td>\n",
       "    </tr>\n",
       "    <tr>\n",
       "      <th>3</th>\n",
       "      <td>Random Forest Classifier</td>\n",
       "      <td>8.026328</td>\n",
       "      <td>0.610327</td>\n",
       "      <td>0.024845</td>\n",
       "    </tr>\n",
       "    <tr>\n",
       "      <th>4</th>\n",
       "      <td>XGB Classifier</td>\n",
       "      <td>7.190960</td>\n",
       "      <td>0.381875</td>\n",
       "      <td>0.028571</td>\n",
       "    </tr>\n",
       "  </tbody>\n",
       "</table>\n",
       "</div>"
      ],
      "text/plain": [
       "                      model  undersampling F1 mean  undersampling F1 std  \\\n",
       "0    K Neighbors Classifier               7.582597              0.825628   \n",
       "1  Decision Tree Classifier               5.620824              0.349229   \n",
       "2        Bagging Classifier               7.735425              0.473623   \n",
       "3  Random Forest Classifier               8.026328              0.610327   \n",
       "4            XGB Classifier               7.190960              0.381875   \n",
       "\n",
       "   test f1 score  \n",
       "0       0.000000  \n",
       "1       0.065455  \n",
       "2       0.023392  \n",
       "3       0.024845  \n",
       "4       0.028571  "
      ]
     },
     "execution_count": 63,
     "metadata": {},
     "output_type": "execute_result"
    }
   ],
   "source": [
    "# buat list untuk menampung hasil test base model\n",
    "rustest_f1_score = []\n",
    "\n",
    "for modelname, model in zip(model_name, models):\n",
    "    \n",
    "    # mendefinsikan pipemodel\n",
    "    model_pipe = Pipeline([\n",
    "        ('resampling', rus),\n",
    "        ('transformer', transformer),\n",
    "        ('model', model)\n",
    "        ])\n",
    "    \n",
    "    model_pipe.fit(X_train, y_train)                    # training model pada data train\n",
    "    Y_pred_class_ = model_pipe.predict(X_test)          # predict class\n",
    "    \n",
    "    # hasil scoring disimpan dalam sebuah list\n",
    "    rustest_f1_score.append([recall_score(y_test, Y_pred_class_)])\n",
    "    \n",
    "\n",
    "# hasil scoring dibuat dalam bentuk dataframe\n",
    "df_rustest_f1score = pd.DataFrame(rustest_f1_score, index = model_name, columns = [\"rus test f1 score\"] )\n",
    "rus_model_df = rus_model_df.join(df_test_f1score,on='model', how='outer')\n",
    "rus_model_df"
   ]
  },
  {
   "cell_type": "markdown",
   "metadata": {},
   "source": [
    "**Train & Test score pada data Undersampling**\n",
    "\n",
    "- Hasil prediksi data Test cenderung lebih rendah dibandingkan data Train pada semua model, yang menandakan bahwa model cenderung underfitting\n",
    "- Hasil permodelan `Random Forest Classifier` sangat underfitting"
   ]
  },
  {
   "cell_type": "markdown",
   "metadata": {},
   "source": [
    "### OVERSAMPLING\n",
    "\n",
    "Pada proses ini data akan dioversampling agar bisa mendapatkan prediksi yang lebih baik, karena data imbalance."
   ]
  },
  {
   "cell_type": "code",
   "execution_count": null,
   "metadata": {},
   "outputs": [
    {
     "data": {
      "text/html": [
       "<div>\n",
       "<style scoped>\n",
       "    .dataframe tbody tr th:only-of-type {\n",
       "        vertical-align: middle;\n",
       "    }\n",
       "\n",
       "    .dataframe tbody tr th {\n",
       "        vertical-align: top;\n",
       "    }\n",
       "\n",
       "    .dataframe thead th {\n",
       "        text-align: right;\n",
       "    }\n",
       "</style>\n",
       "<table border=\"1\" class=\"dataframe\">\n",
       "  <thead>\n",
       "    <tr style=\"text-align: right;\">\n",
       "      <th></th>\n",
       "      <th>Agency</th>\n",
       "      <th>Product_Name</th>\n",
       "      <th>Destination</th>\n",
       "      <th>Duration</th>\n",
       "      <th>Net_Sales</th>\n",
       "      <th>Commision</th>\n",
       "      <th>Age</th>\n",
       "      <th>Claim</th>\n",
       "    </tr>\n",
       "  </thead>\n",
       "  <tbody>\n",
       "    <tr>\n",
       "      <th>0</th>\n",
       "      <td>C2B</td>\n",
       "      <td>Annual Silver Plan</td>\n",
       "      <td>SINGAPORE</td>\n",
       "      <td>365.0</td>\n",
       "      <td>216.0</td>\n",
       "      <td>54.0</td>\n",
       "      <td>57</td>\n",
       "      <td>No</td>\n",
       "    </tr>\n",
       "    <tr>\n",
       "      <th>1</th>\n",
       "      <td>EPX</td>\n",
       "      <td>Cancellation Plan</td>\n",
       "      <td>MALAYSIA</td>\n",
       "      <td>4.0</td>\n",
       "      <td>10.0</td>\n",
       "      <td>0.0</td>\n",
       "      <td>33</td>\n",
       "      <td>No</td>\n",
       "    </tr>\n",
       "    <tr>\n",
       "      <th>2</th>\n",
       "      <td>JZI</td>\n",
       "      <td>Basic Plan</td>\n",
       "      <td>INDIA</td>\n",
       "      <td>19.0</td>\n",
       "      <td>22.0</td>\n",
       "      <td>7.7</td>\n",
       "      <td>26</td>\n",
       "      <td>No</td>\n",
       "    </tr>\n",
       "    <tr>\n",
       "      <th>3</th>\n",
       "      <td>EPX</td>\n",
       "      <td>2 way Comprehensive Plan</td>\n",
       "      <td>UNITED STATES</td>\n",
       "      <td>20.0</td>\n",
       "      <td>112.0</td>\n",
       "      <td>0.0</td>\n",
       "      <td>59</td>\n",
       "      <td>No</td>\n",
       "    </tr>\n",
       "    <tr>\n",
       "      <th>4</th>\n",
       "      <td>C2B</td>\n",
       "      <td>Bronze Plan</td>\n",
       "      <td>SINGAPORE</td>\n",
       "      <td>8.0</td>\n",
       "      <td>16.0</td>\n",
       "      <td>4.0</td>\n",
       "      <td>28</td>\n",
       "      <td>No</td>\n",
       "    </tr>\n",
       "  </tbody>\n",
       "</table>\n",
       "</div>"
      ],
      "text/plain": [
       "  Agency              Product_Name    Destination  Duration  Net_Sales  \\\n",
       "0    C2B        Annual Silver Plan      SINGAPORE     365.0      216.0   \n",
       "1    EPX         Cancellation Plan       MALAYSIA       4.0       10.0   \n",
       "2    JZI                Basic Plan          INDIA      19.0       22.0   \n",
       "3    EPX  2 way Comprehensive Plan  UNITED STATES      20.0      112.0   \n",
       "4    C2B               Bronze Plan      SINGAPORE       8.0       16.0   \n",
       "\n",
       "   Commision  Age Claim  \n",
       "0       54.0   57    No  \n",
       "1        0.0   33    No  \n",
       "2        7.7   26    No  \n",
       "3        0.0   59    No  \n",
       "4        4.0   28    No  "
      ]
     },
     "execution_count": 64,
     "metadata": {},
     "output_type": "execute_result"
    }
   ],
   "source": [
    "df.head()"
   ]
  },
  {
   "cell_type": "code",
   "execution_count": null,
   "metadata": {},
   "outputs": [],
   "source": [
    "cat_col = [0,1,2]\n",
    "\n",
    "transformer = ColumnTransformer([\n",
    "    ('Encoding', OneHotEncoder(handle_unknown = 'ignore') ,['Agency', 'Product_Name', 'Destination']),\n",
    "    ('Scaling', MinMaxScaler() ,['Duration', 'Net_Sales','Commision','Age']),\n",
    "], remainder='passthrough')"
   ]
  },
  {
   "cell_type": "code",
   "execution_count": null,
   "metadata": {},
   "outputs": [
    {
     "data": {
      "text/html": [
       "<div>\n",
       "<style scoped>\n",
       "    .dataframe tbody tr th:only-of-type {\n",
       "        vertical-align: middle;\n",
       "    }\n",
       "\n",
       "    .dataframe tbody tr th {\n",
       "        vertical-align: top;\n",
       "    }\n",
       "\n",
       "    .dataframe thead th {\n",
       "        text-align: right;\n",
       "    }\n",
       "</style>\n",
       "<table border=\"1\" class=\"dataframe\">\n",
       "  <thead>\n",
       "    <tr style=\"text-align: right;\">\n",
       "      <th></th>\n",
       "      <th>model</th>\n",
       "      <th>oversampling F! mean</th>\n",
       "      <th>oversampling F1 std</th>\n",
       "    </tr>\n",
       "  </thead>\n",
       "  <tbody>\n",
       "    <tr>\n",
       "      <th>0</th>\n",
       "      <td>K Neighbors Classifier</td>\n",
       "      <td>8.832386</td>\n",
       "      <td>0.474150</td>\n",
       "    </tr>\n",
       "    <tr>\n",
       "      <th>1</th>\n",
       "      <td>Decision Tree Classifier</td>\n",
       "      <td>6.576222</td>\n",
       "      <td>1.508586</td>\n",
       "    </tr>\n",
       "    <tr>\n",
       "      <th>2</th>\n",
       "      <td>Bagging Classifier</td>\n",
       "      <td>7.500213</td>\n",
       "      <td>1.672580</td>\n",
       "    </tr>\n",
       "    <tr>\n",
       "      <th>3</th>\n",
       "      <td>Random Forest Classifier</td>\n",
       "      <td>9.736197</td>\n",
       "      <td>1.767443</td>\n",
       "    </tr>\n",
       "    <tr>\n",
       "      <th>4</th>\n",
       "      <td>XGB Classifier</td>\n",
       "      <td>11.653883</td>\n",
       "      <td>1.592058</td>\n",
       "    </tr>\n",
       "  </tbody>\n",
       "</table>\n",
       "</div>"
      ],
      "text/plain": [
       "                      model  oversampling F! mean  oversampling F1 std\n",
       "0    K Neighbors Classifier              8.832386             0.474150\n",
       "1  Decision Tree Classifier              6.576222             1.508586\n",
       "2        Bagging Classifier              7.500213             1.672580\n",
       "3  Random Forest Classifier              9.736197             1.767443\n",
       "4            XGB Classifier             11.653883             1.592058"
      ]
     },
     "execution_count": 66,
     "metadata": {},
     "output_type": "execute_result"
    }
   ],
   "source": [
    "smote_nc = SMOTENC(categorical_features = cat_col, random_state = 0)\n",
    "\n",
    "# Cross Validation pada data train\n",
    "over_f1_mean = []\n",
    "over_f1_std = []\n",
    "\n",
    "for i in models:\n",
    "    # Mendefinisikan pipeline\n",
    "    pipe_model = Pipeline([\n",
    "        ('resampling', smote_nc),\n",
    "        ('transformer', transformer),\n",
    "        ('model', i)\n",
    "        ])\n",
    "\n",
    "    # Cross Validation menggunakan metrics 'recall' dan cv=5\n",
    "    crossval = cross_val_score(\n",
    "        estimator=pipe_model,\n",
    "        X=X_train,\n",
    "        y=y_train,\n",
    "        scoring='f1',\n",
    "        cv=5\n",
    "    )\n",
    "    over_f1_mean.append(crossval.mean()*100)\n",
    "    over_f1_std.append(crossval.std()*100)\n",
    "\n",
    "# Rata - rata hasil dan standard deviasinya disimpan ke dalam DataFrame\n",
    "sm_model_df = pd.DataFrame({\n",
    "    'model':model_name,\n",
    "    'oversampling F! mean':over_f1_mean,\n",
    "    'oversampling F1 std':over_f1_std,\n",
    "})\n",
    "\n",
    "sm_model_df"
   ]
  },
  {
   "cell_type": "markdown",
   "metadata": {},
   "source": [
    "**Oversampling Score**\n",
    "\n",
    "- Hasil prediksi paling tinggi dihasilkan oleh `XGB Classifier`\n",
    "- Hasil prediksi naik dibandingkan data yang tidak di under sampling\n",
    "\n",
    "Analisa akan dilanjutkan dengan prediksi terhadap data test"
   ]
  },
  {
   "cell_type": "code",
   "execution_count": null,
   "metadata": {},
   "outputs": [
    {
     "data": {
      "text/html": [
       "<div>\n",
       "<style scoped>\n",
       "    .dataframe tbody tr th:only-of-type {\n",
       "        vertical-align: middle;\n",
       "    }\n",
       "\n",
       "    .dataframe tbody tr th {\n",
       "        vertical-align: top;\n",
       "    }\n",
       "\n",
       "    .dataframe thead th {\n",
       "        text-align: right;\n",
       "    }\n",
       "</style>\n",
       "<table border=\"1\" class=\"dataframe\">\n",
       "  <thead>\n",
       "    <tr style=\"text-align: right;\">\n",
       "      <th></th>\n",
       "      <th>model</th>\n",
       "      <th>oversampling F! mean</th>\n",
       "      <th>oversampling F1 std</th>\n",
       "      <th>test f1 score</th>\n",
       "    </tr>\n",
       "  </thead>\n",
       "  <tbody>\n",
       "    <tr>\n",
       "      <th>0</th>\n",
       "      <td>K Neighbors Classifier</td>\n",
       "      <td>8.832386</td>\n",
       "      <td>0.474150</td>\n",
       "      <td>0.000000</td>\n",
       "    </tr>\n",
       "    <tr>\n",
       "      <th>1</th>\n",
       "      <td>Decision Tree Classifier</td>\n",
       "      <td>6.576222</td>\n",
       "      <td>1.508586</td>\n",
       "      <td>0.065455</td>\n",
       "    </tr>\n",
       "    <tr>\n",
       "      <th>2</th>\n",
       "      <td>Bagging Classifier</td>\n",
       "      <td>7.500213</td>\n",
       "      <td>1.672580</td>\n",
       "      <td>0.023392</td>\n",
       "    </tr>\n",
       "    <tr>\n",
       "      <th>3</th>\n",
       "      <td>Random Forest Classifier</td>\n",
       "      <td>9.736197</td>\n",
       "      <td>1.767443</td>\n",
       "      <td>0.024845</td>\n",
       "    </tr>\n",
       "    <tr>\n",
       "      <th>4</th>\n",
       "      <td>XGB Classifier</td>\n",
       "      <td>11.653883</td>\n",
       "      <td>1.592058</td>\n",
       "      <td>0.028571</td>\n",
       "    </tr>\n",
       "  </tbody>\n",
       "</table>\n",
       "</div>"
      ],
      "text/plain": [
       "                      model  oversampling F! mean  oversampling F1 std  \\\n",
       "0    K Neighbors Classifier              8.832386             0.474150   \n",
       "1  Decision Tree Classifier              6.576222             1.508586   \n",
       "2        Bagging Classifier              7.500213             1.672580   \n",
       "3  Random Forest Classifier              9.736197             1.767443   \n",
       "4            XGB Classifier             11.653883             1.592058   \n",
       "\n",
       "   test f1 score  \n",
       "0       0.000000  \n",
       "1       0.065455  \n",
       "2       0.023392  \n",
       "3       0.024845  \n",
       "4       0.028571  "
      ]
     },
     "execution_count": 67,
     "metadata": {},
     "output_type": "execute_result"
    }
   ],
   "source": [
    "# buat list untuk menampung hasil test base model\n",
    "smtest_f1_score = []\n",
    "\n",
    "for modelname, model in zip(model_name, models):\n",
    "    \n",
    "    # mendefinsikan pipemodel\n",
    "    model_pipe = Pipeline([\n",
    "        ('resampling', smote_nc),\n",
    "        ('transformer', transformer),\n",
    "        ('model', model)\n",
    "        ])\n",
    "    \n",
    "    model_pipe.fit(X_train, y_train)            # training model pada data train \n",
    "    Y_pred_class_ = model_pipe.predict(X_test)  # predict class\n",
    "    \n",
    "    # hasil scoring disimpan dalam sebuah list\n",
    "    smtest_f1_score.append([f1_score(y_test, Y_pred_class_)])\n",
    "    \n",
    "# hasil scoring dibuat dalam bentuk dataframe\n",
    "df_smtest_f1score = pd.DataFrame(smtest_f1_score, index = model_name, columns = [\"Over test F1 score\"])\n",
    "sm_model_df = sm_model_df.join(df_test_f1score,on='model', how='outer')\n",
    "sm_model_df"
   ]
  },
  {
   "cell_type": "markdown",
   "metadata": {},
   "source": [
    "**Train & Test pada data Oversampling**\n",
    "\n",
    "- Hasil prediksi data Test cenderung lebih rendah dibandingkan data Train pada semua model, yang menandakan bahwa model cenderung overfitting\n",
    "- Hasil permodelan `XGB Classifier` sangat overfitting"
   ]
  },
  {
   "cell_type": "markdown",
   "metadata": {},
   "source": [
    "### KESIMPULAN MODEL\n",
    "\n"
   ]
  },
  {
   "cell_type": "code",
   "execution_count": null,
   "metadata": {},
   "outputs": [
    {
     "data": {
      "text/html": [
       "<div>\n",
       "<style scoped>\n",
       "    .dataframe tbody tr th:only-of-type {\n",
       "        vertical-align: middle;\n",
       "    }\n",
       "\n",
       "    .dataframe tbody tr th {\n",
       "        vertical-align: top;\n",
       "    }\n",
       "\n",
       "    .dataframe thead th {\n",
       "        text-align: right;\n",
       "    }\n",
       "</style>\n",
       "<table border=\"1\" class=\"dataframe\">\n",
       "  <thead>\n",
       "    <tr style=\"text-align: right;\">\n",
       "      <th></th>\n",
       "      <th>model</th>\n",
       "      <th>basic f1 mean</th>\n",
       "      <th>basic f1 std</th>\n",
       "      <th>test f1 score_x</th>\n",
       "      <th>undersampling F1 mean</th>\n",
       "      <th>undersampling F1 std</th>\n",
       "      <th>test f1 score_y</th>\n",
       "      <th>oversampling F! mean</th>\n",
       "      <th>oversampling F1 std</th>\n",
       "      <th>test f1 score</th>\n",
       "    </tr>\n",
       "  </thead>\n",
       "  <tbody>\n",
       "    <tr>\n",
       "      <th>1</th>\n",
       "      <td>Decision Tree Classifier</td>\n",
       "      <td>6.161661</td>\n",
       "      <td>2.892987</td>\n",
       "      <td>0.065455</td>\n",
       "      <td>5.620824</td>\n",
       "      <td>0.349229</td>\n",
       "      <td>0.065455</td>\n",
       "      <td>6.576222</td>\n",
       "      <td>1.508586</td>\n",
       "      <td>0.065455</td>\n",
       "    </tr>\n",
       "    <tr>\n",
       "      <th>2</th>\n",
       "      <td>Bagging Classifier</td>\n",
       "      <td>1.736536</td>\n",
       "      <td>1.383522</td>\n",
       "      <td>0.023392</td>\n",
       "      <td>7.735425</td>\n",
       "      <td>0.473623</td>\n",
       "      <td>0.023392</td>\n",
       "      <td>7.500213</td>\n",
       "      <td>1.672580</td>\n",
       "      <td>0.023392</td>\n",
       "    </tr>\n",
       "    <tr>\n",
       "      <th>0</th>\n",
       "      <td>K Neighbors Classifier</td>\n",
       "      <td>1.406777</td>\n",
       "      <td>1.305722</td>\n",
       "      <td>0.000000</td>\n",
       "      <td>7.582597</td>\n",
       "      <td>0.825628</td>\n",
       "      <td>0.000000</td>\n",
       "      <td>8.832386</td>\n",
       "      <td>0.474150</td>\n",
       "      <td>0.000000</td>\n",
       "    </tr>\n",
       "    <tr>\n",
       "      <th>3</th>\n",
       "      <td>Random Forest Classifier</td>\n",
       "      <td>1.259921</td>\n",
       "      <td>1.543161</td>\n",
       "      <td>0.024845</td>\n",
       "      <td>8.026328</td>\n",
       "      <td>0.610327</td>\n",
       "      <td>0.024845</td>\n",
       "      <td>9.736197</td>\n",
       "      <td>1.767443</td>\n",
       "      <td>0.024845</td>\n",
       "    </tr>\n",
       "    <tr>\n",
       "      <th>4</th>\n",
       "      <td>XGB Classifier</td>\n",
       "      <td>0.701754</td>\n",
       "      <td>1.403509</td>\n",
       "      <td>0.028571</td>\n",
       "      <td>7.190960</td>\n",
       "      <td>0.381875</td>\n",
       "      <td>0.028571</td>\n",
       "      <td>11.653883</td>\n",
       "      <td>1.592058</td>\n",
       "      <td>0.028571</td>\n",
       "    </tr>\n",
       "  </tbody>\n",
       "</table>\n",
       "</div>"
      ],
      "text/plain": [
       "                      model  basic f1 mean  basic f1 std  test f1 score_x  \\\n",
       "1  Decision Tree Classifier       6.161661      2.892987         0.065455   \n",
       "2        Bagging Classifier       1.736536      1.383522         0.023392   \n",
       "0    K Neighbors Classifier       1.406777      1.305722         0.000000   \n",
       "3  Random Forest Classifier       1.259921      1.543161         0.024845   \n",
       "4            XGB Classifier       0.701754      1.403509         0.028571   \n",
       "\n",
       "   undersampling F1 mean  undersampling F1 std  test f1 score_y  \\\n",
       "1               5.620824              0.349229         0.065455   \n",
       "2               7.735425              0.473623         0.023392   \n",
       "0               7.582597              0.825628         0.000000   \n",
       "3               8.026328              0.610327         0.024845   \n",
       "4               7.190960              0.381875         0.028571   \n",
       "\n",
       "   oversampling F! mean  oversampling F1 std  test f1 score  \n",
       "1              6.576222             1.508586       0.065455  \n",
       "2              7.500213             1.672580       0.023392  \n",
       "0              8.832386             0.474150       0.000000  \n",
       "3              9.736197             1.767443       0.024845  \n",
       "4             11.653883             1.592058       0.028571  "
      ]
     },
     "execution_count": 68,
     "metadata": {},
     "output_type": "execute_result"
    }
   ],
   "source": [
    "f1_score_list = pd.merge(pd.merge(model_df,rus_model_df, on='model'),sm_model_df, on= 'model')\n",
    "f1_score_list.sort_values('basic f1 mean', ascending=False)"
   ]
  },
  {
   "cell_type": "markdown",
   "metadata": {},
   "source": [
    "Kesimpulan dari modeling data\n",
    "\n",
    "* Seperti pada DataFrame diatas, dapat dilihat bahwa data yang telah di resampling memiliki kecenderungan overfitting pada semua model\n",
    "\n",
    "* Basic model yang memiliki nilai bagus adalah `Decision Tree Classifier`, `Bagging Classifier`, dan `Random Forest Classifier`"
   ]
  },
  {
   "cell_type": "markdown",
   "metadata": {},
   "source": [
    "# HYPERPARAMETER TUNING"
   ]
  },
  {
   "cell_type": "markdown",
   "metadata": {},
   "source": [
    "Setelah kita melakukan cross validation pada data yang kita modeling sebelumnya, hasil model yang paling baik yang didapatkan dari proses diatas adalah `Decision Tree Classifier`, `Bagging Classifier`, dan `Random Forest Classifier`. Jadi pada proses berikutnya kita akan melakukan Hyperparameter tuning pada model tersebut, tetapi antara model decision tree dan bagging bisa dibilang mirip maka kita akan menghilang Bagging classifier untuk tidak hypertuning.\n",
    "\n",
    "Jadi kita akan melakukan Hyperparameter tuning dengan model `Decision Tree Classifier` dan `Random Forest Classifier`."
   ]
  },
  {
   "cell_type": "markdown",
   "metadata": {},
   "source": [
    "**Hyperparameter Tuning pada Decision Tree Classifier**\n",
    ">\n",
    ">Hyperparameter tuning is searching the hyperparameter space for a set of values that will optimize your model architecture.\n",
    ">\n",
    "\n",
    "Hyperparameter Tuning Decision Tree\n",
    "Pada hyperparameter tuning Decision Tree ini, kita menggunakan Randomized Search, dengan n_iter = 500 dan cv = 5.\n",
    "\n",
    "Source :\n",
    "\n",
    "* https://towardsdatascience.com/how-to-tune-a-decision-tree-f03721801680\n",
    "\n",
    "* https://scikit-learn.org/stable/modules/generated/sklearn.tree.DecisionTreeClassifier.html#sklearn.tree.DecisionTreeClassifier"
   ]
  },
  {
   "cell_type": "code",
   "execution_count": null,
   "metadata": {},
   "outputs": [],
   "source": [
    "cat_col = [0,1,2]\n",
    "\n",
    "# def transformer\n",
    "transformer = ColumnTransformer([\n",
    "    ('Encoding', OneHotEncoder(handle_unknown = 'ignore') ,['Agency', 'Product_Name', 'Destination']),\n",
    "    ('Scaling', MinMaxScaler() ,['Duration', 'Net_Sales','Commision','Age']),\n",
    "], remainder='passthrough')"
   ]
  },
  {
   "cell_type": "code",
   "execution_count": null,
   "metadata": {},
   "outputs": [
    {
     "data": {
      "text/plain": [
       "RandomizedSearchCV(cv=5,\n",
       "                   estimator=Pipeline(steps=[('transformer',\n",
       "                                              ColumnTransformer(remainder='passthrough',\n",
       "                                                                transformers=[('Encoding',\n",
       "                                                                               OneHotEncoder(handle_unknown='ignore'),\n",
       "                                                                               ['Agency',\n",
       "                                                                                'Product_Name',\n",
       "                                                                                'Destination']),\n",
       "                                                                              ('Scaling',\n",
       "                                                                               MinMaxScaler(),\n",
       "                                                                               ['Duration',\n",
       "                                                                                'Net_Sales',\n",
       "                                                                                'Commision',\n",
       "                                                                                'Age'])])),\n",
       "                                             ('model',\n",
       "                                              DecisionTreeClassifier(random_state=42))]),\n",
       "                   n_iter=500, n_jobs=-1,\n",
       "                   param_distributions={'model__class_weight': ['balanced',\n",
       "                                                                None],\n",
       "                                        'model__criterion': ['gini', 'entropy',\n",
       "                                                             'log_loss'],\n",
       "                                        'model__max_depth': range(1, 101),\n",
       "                                        'model__max_features': ['sqrt', 'log2',\n",
       "                                                                None],\n",
       "                                        'model__min_samples_leaf': range(1, 21),\n",
       "                                        'model__min_samples_split': range(2, 41)},\n",
       "                   random_state=0, scoring='f1')"
      ]
     },
     "execution_count": 70,
     "metadata": {},
     "output_type": "execute_result"
    }
   ],
   "source": [
    "# Mendefinisikan kembali pipeline\n",
    "dt_pipe = Pipeline(\n",
    "        [('transformer', transformer),\n",
    "        ('model', dt)])\n",
    "\n",
    "# membuat hyperparameter space Decision Tree\n",
    "dt_paramspace = {\n",
    "    \"model__criterion\" : ['gini','entropy','log_loss'],\n",
    "    \"model__max_depth\" : range(1,101), \n",
    "    \"model__min_samples_split\" : range(2,41), \n",
    "    \"model__min_samples_leaf\" : range(1,21), \n",
    "    \"model__max_features\" : [\"sqrt\", \"log2\", None],\n",
    "    \"model__class_weight\" : [\"balanced\", None]\n",
    "}\n",
    "\n",
    "dt_randomsearch = RandomizedSearchCV(\n",
    "    estimator=dt_pipe,\n",
    "    param_distributions=dt_paramspace,\n",
    "    cv=5,\n",
    "    scoring='f1',\n",
    "    n_jobs=-1,\n",
    "    random_state=0,\n",
    "    n_iter=500)\n",
    "\n",
    "# Training Random Search CV Random Forest Classifier\n",
    "dt_randomsearch.fit(X_train, y_train)"
   ]
  },
  {
   "cell_type": "code",
   "execution_count": null,
   "metadata": {},
   "outputs": [
    {
     "name": "stdout",
     "output_type": "stream",
     "text": [
      "Best parameter :  {'model__min_samples_split': 38, 'model__min_samples_leaf': 9, 'model__max_features': 'sqrt', 'model__max_depth': 3, 'model__criterion': 'gini', 'model__class_weight': 'balanced'} \n",
      "\n",
      "best score :  0.1370267542455612\n"
     ]
    }
   ],
   "source": [
    "print(\"Best parameter : \", dt_randomsearch.best_params_, \"\\n\")\n",
    "print(\"best score : \", dt_randomsearch.best_score_)"
   ]
  },
  {
   "cell_type": "markdown",
   "metadata": {},
   "source": [
    "Hasil dari best score untuk hyperparameter tuning decision tree classifier adalah 0.13"
   ]
  },
  {
   "cell_type": "code",
   "execution_count": null,
   "metadata": {},
   "outputs": [
    {
     "name": "stdout",
     "output_type": "stream",
     "text": [
      "F1 score dt default :  0.06521739130434781\n",
      "F1 score dt tuned :  0.10942249240121582 \n",
      "\n"
     ]
    }
   ],
   "source": [
    "# model default sebelum hyperparameter tuning\n",
    "dt_pipe\n",
    "\n",
    "# mendapatkan model GradientBoost dengan parameter terbaik (gridsearch)\n",
    "dt_bestmodel = dt_randomsearch.best_estimator_\n",
    "\n",
    "# training model default \n",
    "dt_pipe.fit(X_train, y_train)\n",
    "\n",
    "# training dt tuned \n",
    "dt_bestmodel.fit(X_train, y_train)\n",
    "\n",
    "# mendapatkan hasil prediksi GradientBoost default\n",
    "Y_pred_class_dt_default = dt_pipe.predict(X_test)\n",
    "\n",
    "# mendapatkan hasil prediksi dt tuned\n",
    "Y_pred_class_dt_tuned = dt_bestmodel.predict(X_test)\n",
    "\n",
    "# keluarkan recall untuk Decision Tree Default dan Tuned\n",
    "print(\"F1 score dt default : \", f1_score(y_test, Y_pred_class_dt_default))\n",
    "print(\"F1 score dt tuned : \", f1_score(y_test, Y_pred_class_dt_tuned), \"\\n\")\n"
   ]
  },
  {
   "cell_type": "markdown",
   "metadata": {},
   "source": [
    "Terlihat bahwa model DecisionTree setelah kita tuning hyperparameternya memiliki nilai yang lebih baik."
   ]
  },
  {
   "cell_type": "markdown",
   "metadata": {},
   "source": [
    "**Hyperparameter Tuning pada Random Forest Classifier**\n",
    "\n",
    ">\n",
    ">Random Forest comes with a caveat – the numerous hyperparameters that can make fresher data scientists weak in the knees. But don’t worry! In this article, we will be looking at the various Random Forest hyperparameters and understand how to tune and optimize them.\n",
    ">\n",
    "\n",
    "Pada hyperparameter tuning Random Forest Classifier ini, dinggunakan Randomized Search, dengan n_iter = 100 dan cv = 5.\n",
    "\n",
    "Source:\n",
    "* https://www.analyticsvidhya.com/blog/2020/03/beginners-guide-random-forest-hyperparameter-tuning/\n",
    "* https://towardsdatascience.com/hyperparameter-tuning-the-random-forest-in-python-using-scikit-learn-28d2aa77dd74"
   ]
  },
  {
   "cell_type": "code",
   "execution_count": null,
   "metadata": {},
   "outputs": [
    {
     "data": {
      "text/plain": [
       "RandomizedSearchCV(cv=5,\n",
       "                   estimator=Pipeline(steps=[('transformer',\n",
       "                                              ColumnTransformer(remainder='passthrough',\n",
       "                                                                transformers=[('Encoding',\n",
       "                                                                               OneHotEncoder(handle_unknown='ignore'),\n",
       "                                                                               ['Agency',\n",
       "                                                                                'Product_Name',\n",
       "                                                                                'Destination']),\n",
       "                                                                              ('Scaling',\n",
       "                                                                               MinMaxScaler(),\n",
       "                                                                               ['Duration',\n",
       "                                                                                'Net_Sales',\n",
       "                                                                                'Commision',\n",
       "                                                                                'Age'])])),\n",
       "                                             ('model',\n",
       "                                              RandomForestClassifier(random_state=42))]),\n",
       "                   n_iter=50, n_jobs=-1,\n",
       "                   param_distributions={'model__class_weight': ['balanced',\n",
       "                                                                'balanced_subsample',\n",
       "                                                                None],\n",
       "                                        'model__max_depth': range(1, 101),\n",
       "                                        'model__max_features': ['sqrt', 'log2',\n",
       "                                                                None, 5],\n",
       "                                        'model__min_samples_leaf': range(1, 21),\n",
       "                                        'model__min_samples_split': range(2, 41),\n",
       "                                        'model__n_estimators': [5, 10, 100, 200,\n",
       "                                                                500, 1000]},\n",
       "                   random_state=0, scoring='f1')"
      ]
     },
     "execution_count": 73,
     "metadata": {},
     "output_type": "execute_result"
    }
   ],
   "source": [
    "rf_pipe = Pipeline(\n",
    "        [('transformer', transformer),\n",
    "        ('model', forest)])\n",
    "\n",
    "# membuat hyperparameter space Random Forest Classifier\n",
    "rf_paramspace = {\n",
    "    \"model__n_estimators\" : [5,10,100, 200, 500, 1000], \n",
    "    \"model__max_depth\" : range(1,101), \n",
    "    \"model__min_samples_split\" : range(2,41), \n",
    "    \"model__min_samples_leaf\" : range(1,21), \n",
    "    \"model__max_features\" : [\"sqrt\", \"log2\", None, 5],\n",
    "    \"model__class_weight\" : [\"balanced\", \"balanced_subsample\", None]\n",
    "}\n",
    "\n",
    "rf_randomsearch = RandomizedSearchCV(\n",
    "    estimator=rf_pipe,\n",
    "    param_distributions=rf_paramspace,\n",
    "    cv=5,\n",
    "    scoring='f1',\n",
    "    n_jobs=-1,\n",
    "    random_state=0,\n",
    "    n_iter=50)\n",
    "\n",
    "# Training Random Search CV Random Forest Classifier\n",
    "rf_randomsearch.fit(X_train, y_train)"
   ]
  },
  {
   "cell_type": "code",
   "execution_count": null,
   "metadata": {},
   "outputs": [
    {
     "name": "stdout",
     "output_type": "stream",
     "text": [
      "Best parameter :  {'model__n_estimators': 100, 'model__min_samples_split': 4, 'model__min_samples_leaf': 6, 'model__max_features': 5, 'model__max_depth': 76, 'model__class_weight': 'balanced'} \n",
      "\n",
      "best score :  0.15211276801288542\n"
     ]
    }
   ],
   "source": [
    "print(\"Best parameter : \", rf_randomsearch.best_params_, \"\\n\")\n",
    "print(\"best score : \", rf_randomsearch.best_score_)"
   ]
  },
  {
   "cell_type": "code",
   "execution_count": null,
   "metadata": {},
   "outputs": [
    {
     "name": "stdout",
     "output_type": "stream",
     "text": [
      "F1 score RF default :  0.012578616352201257\n",
      "F1 score RF tuned :  0.12202380952380953 \n",
      "\n"
     ]
    }
   ],
   "source": [
    "# model default sebelum hyperparameter tuning\n",
    "rf_pipe\n",
    "\n",
    "# mendapatkan model GradientBoost dengan parameter terbaik (gridsearch)\n",
    "rf_bestmodel = rf_randomsearch.best_estimator_\n",
    "\n",
    "# training model default \n",
    "rf_pipe.fit(X_train, y_train)\n",
    "\n",
    "# training RF tuned \n",
    "rf_bestmodel.fit(X_train, y_train)\n",
    "\n",
    "# mendapatkan hasil prediksi GradientBoost default\n",
    "Y_pred_class_rf_default = rf_pipe.predict(X_test)\n",
    "\n",
    "# mendapatkan hasil prediksi RF tuned\n",
    "Y_pred_class_rf_tuned = rf_bestmodel.predict(X_test)\n",
    "\n",
    "# keluarkan recall untuk GradientBoost Default dan Tuned\n",
    "print(\"F1 score RF default : \", f1_score(y_test, Y_pred_class_rf_default))\n",
    "print(\"F1 score RF tuned : \", f1_score(y_test, Y_pred_class_rf_tuned), \"\\n\")"
   ]
  },
  {
   "cell_type": "markdown",
   "metadata": {},
   "source": [
    "**KESIMPULAN HYPERPARAMETER TUNING**\n",
    "\n",
    "**Decision Tree**  \n",
    "\n",
    "F1 score dt default :  0.06521739130434781  \n",
    "\n",
    "F1 score dt tuned :  0.10942249240121582   \n",
    "\n",
    "*Best parameter*\n",
    "\n",
    "'model__min_samples_split': 38\n",
    "\n",
    "'model__min_samples_leaf': 9\n",
    "\n",
    "'model__max_features': 'sqrt'\n",
    "\n",
    "'model__max_depth': 3\n",
    "\n",
    "'model__criterion': 'gini'\n",
    "\n",
    "'model__class_weight': 'balanced'\n",
    "\n",
    "\n",
    "**Random Forest Classifier**  \n",
    "\n",
    "F1 score RF default :  0.012578616352201257 \n",
    "\n",
    "F1 score RF tuned :  0.12202380952380953  \n",
    "\n",
    "*Best parameter*\n",
    "\n",
    "'model__n_estimators': 100\n",
    "\n",
    "'model__min_samples_split': 4\n",
    "\n",
    "'model__min_samples_leaf': 6\n",
    "\n",
    "'model__max_features': 5\n",
    "\n",
    "'model__max_depth': 76\n",
    "\n",
    "'model__class_weight': 'balanced'\n",
    "\n",
    "\n",
    "* Dari Hasil Hyperparameter tuning yang didapatkan, ternyata `Decision Tree` memiliki nilai paling baik dibandingkan model lainnya\n",
    "* Bila diperhatikan, best parameter Decision Tree memiliki Max Depth = 3, yang artinya kedalam `Decision Tree` sangat pendek\n",
    "* Dapat diartikan bahwa untuk dataset ini, hanya diperlukan model yang sederhana saja"
   ]
  },
  {
   "cell_type": "markdown",
   "metadata": {},
   "source": [
    "# FEATURE IMPORTANCE"
   ]
  },
  {
   "cell_type": "code",
   "execution_count": null,
   "metadata": {},
   "outputs": [
    {
     "ename": "AttributeError",
     "evalue": "'OneHotEncoder' object has no attribute 'get_feature_names_out'",
     "output_type": "error",
     "traceback": [
      "\u001b[1;31m---------------------------------------------------------------------------\u001b[0m",
      "\u001b[1;31mAttributeError\u001b[0m                            Traceback (most recent call last)",
      "\u001b[1;32m~\\AppData\\Local\\Temp/ipykernel_10356/2877215901.py\u001b[0m in \u001b[0;36m<module>\u001b[1;34m\u001b[0m\n\u001b[0;32m      1\u001b[0m \u001b[1;32mfrom\u001b[0m \u001b[0msklearn\u001b[0m\u001b[1;33m.\u001b[0m\u001b[0mdatasets\u001b[0m \u001b[1;32mimport\u001b[0m \u001b[0mfetch_openml\u001b[0m\u001b[1;33m\u001b[0m\u001b[1;33m\u001b[0m\u001b[0m\n\u001b[0;32m      2\u001b[0m \u001b[1;31m# mendapatkan feature names\u001b[0m\u001b[1;33m\u001b[0m\u001b[1;33m\u001b[0m\u001b[0m\n\u001b[1;32m----> 3\u001b[1;33m \u001b[0mfeature_names\u001b[0m \u001b[1;33m=\u001b[0m \u001b[0mlist\u001b[0m\u001b[1;33m(\u001b[0m\u001b[0mtransformer\u001b[0m\u001b[1;33m.\u001b[0m\u001b[0mtransformers_\u001b[0m\u001b[1;33m[\u001b[0m\u001b[1;36m0\u001b[0m\u001b[1;33m]\u001b[0m\u001b[1;33m[\u001b[0m\u001b[1;36m1\u001b[0m\u001b[1;33m]\u001b[0m\u001b[1;33m.\u001b[0m\u001b[0mget_feature_names_out\u001b[0m\u001b[1;33m(\u001b[0m\u001b[1;33m)\u001b[0m\u001b[1;33m)\u001b[0m \u001b[1;33m+\u001b[0m \u001b[0mlist\u001b[0m\u001b[1;33m(\u001b[0m\u001b[0mtransformer\u001b[0m\u001b[1;33m.\u001b[0m\u001b[0mtransformers_\u001b[0m\u001b[1;33m[\u001b[0m\u001b[1;36m1\u001b[0m\u001b[1;33m]\u001b[0m\u001b[1;33m[\u001b[0m\u001b[1;36m1\u001b[0m\u001b[1;33m]\u001b[0m\u001b[1;33m.\u001b[0m\u001b[0mget_feature_names_out\u001b[0m\u001b[1;33m(\u001b[0m\u001b[1;33m)\u001b[0m\u001b[1;33m)\u001b[0m\u001b[1;33m\u001b[0m\u001b[1;33m\u001b[0m\u001b[0m\n\u001b[0m\u001b[0;32m      4\u001b[0m \u001b[1;33m\u001b[0m\u001b[0m\n\u001b[0;32m      5\u001b[0m \u001b[1;31m# feature importances\u001b[0m\u001b[1;33m\u001b[0m\u001b[1;33m\u001b[0m\u001b[0m\n",
      "\u001b[1;31mAttributeError\u001b[0m: 'OneHotEncoder' object has no attribute 'get_feature_names_out'"
     ]
    }
   ],
   "source": [
    "# mendapatkan feature names\n",
    "feature_names = list(transformer.transformers_[0][1].get_feature_names_out()) + list(transformer.transformers_[1][1].get_feature_names_out())\n",
    "\n",
    "# feature importances\n",
    "fi_data = list(dt_bestmodel[1].feature_importances_)\n",
    "\n",
    "# dibuat dalam bentuk dataframe\n",
    "df__f_i = pd.DataFrame(data = fi_data, index = feature_names, columns = [\"Feature Importance\"]).sort_values(by = [\"Feature Importance\"], ascending = True)\n",
    "\n",
    "# kita plotkan hasilnya\n",
    "sns.set_style(\"white\")\n",
    "df__f_i.plot(kind = \"barh\", figsize = (12,16), fontsize= 15)\n",
    "plt.title(\"Feature Importances Decision Tree\", fontsize=18)\n",
    "plt.show()"
   ]
  },
  {
   "cell_type": "code",
   "execution_count": null,
   "metadata": {},
   "outputs": [
    {
     "ename": "AttributeError",
     "evalue": "'OneHotEncoder' object has no attribute 'get_feature_names_out'",
     "output_type": "error",
     "traceback": [
      "\u001b[1;31m---------------------------------------------------------------------------\u001b[0m",
      "\u001b[1;31mAttributeError\u001b[0m                            Traceback (most recent call last)",
      "\u001b[1;32m~\\AppData\\Local\\Temp/ipykernel_10356/3696312857.py\u001b[0m in \u001b[0;36m<module>\u001b[1;34m\u001b[0m\n\u001b[0;32m     16\u001b[0m \u001b[1;33m\u001b[0m\u001b[0m\n\u001b[0;32m     17\u001b[0m \u001b[1;31m# Membuat DataFrame dari hasil encoding\u001b[0m\u001b[1;33m\u001b[0m\u001b[1;33m\u001b[0m\u001b[0m\n\u001b[1;32m---> 18\u001b[1;33m \u001b[0mX_train_catfi\u001b[0m \u001b[1;33m=\u001b[0m \u001b[0mpd\u001b[0m\u001b[1;33m.\u001b[0m\u001b[0mDataFrame\u001b[0m\u001b[1;33m.\u001b[0m\u001b[0msparse\u001b[0m\u001b[1;33m.\u001b[0m\u001b[0mfrom_spmatrix\u001b[0m\u001b[1;33m(\u001b[0m\u001b[0mX_train_cfi\u001b[0m\u001b[1;33m,\u001b[0m \u001b[0mcolumns\u001b[0m\u001b[1;33m=\u001b[0m\u001b[0mencoder\u001b[0m\u001b[1;33m.\u001b[0m\u001b[0mget_feature_names_out\u001b[0m\u001b[1;33m(\u001b[0m\u001b[1;33m)\u001b[0m\u001b[1;33m)\u001b[0m \u001b[1;31m# Sparse matrix dijadikan DataFrame\u001b[0m\u001b[1;33m\u001b[0m\u001b[1;33m\u001b[0m\u001b[0m\n\u001b[0m\u001b[0;32m     19\u001b[0m \u001b[0mX_test_catfi\u001b[0m \u001b[1;33m=\u001b[0m \u001b[0mpd\u001b[0m\u001b[1;33m.\u001b[0m\u001b[0mDataFrame\u001b[0m\u001b[1;33m.\u001b[0m\u001b[0msparse\u001b[0m\u001b[1;33m.\u001b[0m\u001b[0mfrom_spmatrix\u001b[0m\u001b[1;33m(\u001b[0m\u001b[0mX_test_cfi\u001b[0m\u001b[1;33m,\u001b[0m \u001b[0mcolumns\u001b[0m\u001b[1;33m=\u001b[0m\u001b[0mencoder\u001b[0m\u001b[1;33m.\u001b[0m\u001b[0mget_feature_names_out\u001b[0m\u001b[1;33m(\u001b[0m\u001b[1;33m)\u001b[0m\u001b[1;33m)\u001b[0m   \u001b[1;31m# Nama kolom diambil dari encoder\u001b[0m\u001b[1;33m\u001b[0m\u001b[1;33m\u001b[0m\u001b[0m\n\u001b[0;32m     20\u001b[0m \u001b[1;33m\u001b[0m\u001b[0m\n",
      "\u001b[1;31mAttributeError\u001b[0m: 'OneHotEncoder' object has no attribute 'get_feature_names_out'"
     ]
    }
   ],
   "source": [
    "# Mendefinisikan kembali model awal\n",
    "X_fi = df[['Product_Name', 'Duration','Age']]\n",
    "y_fi = df['Claim']\n",
    "\n",
    "# Splitting Data\n",
    "X_train_fi, X_test_fi, y_train_fi, y_test_fi = train_test_split(X_fi,y_fi, test_size=0.2, stratify=y, random_state=42)\n",
    "\n",
    "# Nama kolom per jenis data\n",
    "cat_columns = ['Product_Name']\n",
    "num_columns = [['Duration','Age']]\n",
    "\n",
    "# Melakukan Encoding\n",
    "encoder = OneHotEncoder(drop='first')                           # Mendefinisikan encoder\n",
    "X_train_cfi = encoder.fit_transform(X_train_fi[cat_columns])    # Encoding terhadap X_train data kategorikal\n",
    "X_test_cfi = encoder.transform(X_test_fi[cat_columns])          # Encoding terhadap X_test data kategorikal\n",
    "\n",
    "# Membuat DataFrame dari hasil encoding\n",
    "X_train_catfi = pd.DataFrame.sparse.from_spmatrix(X_train_cfi, columns=encoder.get_feature_names_out()) # Sparse matrix dijadikan DataFrame\n",
    "X_test_catfi = pd.DataFrame.sparse.from_spmatrix(X_test_cfi, columns=encoder.get_feature_names_out())   # Nama kolom diambil dari encoder\n",
    "\n",
    "# Melakukan Scaling\n",
    "scaler = MinMaxScaler()                                     # Mendefinisikan Encoder\n",
    "X_train_nfi = scaler.fit_transform(X_train_fi[num_columns]) # Scaling terhadap X_train data numerikal\n",
    "X_test_nfi = scaler.transform(X_test_fi[num_columns])       # Scaling terhadap X_test data numerikal\n",
    "\n",
    "# Membuat DataFrame dari hasil encoding\n",
    "X_train_numfi = pd.DataFrame(X_train_nfi, columns=num_columns)  # Array dijadikan DataFrame\n",
    "X_test_numfi = pd.DataFrame(X_test_nfi, columns=num_columns)\n",
    "\n",
    "# Dataframe hasil Encoding dan Scaling dijadikan 1\n",
    "X_train_esfi = X_train_catfi.join(X_train_numfi)\n",
    "X_test_esfi = X_test_catfi.join(X_test_numfi)\n",
    "\n",
    "X_train_esfi.head()"
   ]
  },
  {
   "cell_type": "code",
   "execution_count": null,
   "metadata": {},
   "outputs": [],
   "source": [
    "# Mendefinisikan model dengan parameter terbaik\n",
    "dt_best = DecisionTreeClassifier(\n",
    "    min_samples_split= 38,\n",
    "    min_samples_leaf= 9,\n",
    "    max_features= 'sqrt',\n",
    "    max_depth= 3,\n",
    "    criterion = 'gini',\n",
    "    class_weight = 'balanced',\n",
    "    random_state=42\n",
    ")"
   ]
  },
  {
   "cell_type": "code",
   "execution_count": null,
   "metadata": {},
   "outputs": [
    {
     "ename": "NameError",
     "evalue": "name 'X_train_esfi' is not defined",
     "output_type": "error",
     "traceback": [
      "\u001b[1;31m---------------------------------------------------------------------------\u001b[0m",
      "\u001b[1;31mNameError\u001b[0m                                 Traceback (most recent call last)",
      "\u001b[1;32m~\\AppData\\Local\\Temp/ipykernel_10356/2800944553.py\u001b[0m in \u001b[0;36m<module>\u001b[1;34m\u001b[0m\n\u001b[0;32m      1\u001b[0m \u001b[1;31m# Training Model Terhadap data train\u001b[0m\u001b[1;33m\u001b[0m\u001b[1;33m\u001b[0m\u001b[0m\n\u001b[1;32m----> 2\u001b[1;33m \u001b[0mdt_best\u001b[0m\u001b[1;33m.\u001b[0m\u001b[0mfit\u001b[0m\u001b[1;33m(\u001b[0m\u001b[0mX_train_esfi\u001b[0m\u001b[1;33m,\u001b[0m \u001b[0my_train\u001b[0m\u001b[1;33m)\u001b[0m\u001b[1;33m\u001b[0m\u001b[1;33m\u001b[0m\u001b[0m\n\u001b[0m\u001b[0;32m      3\u001b[0m \u001b[1;33m\u001b[0m\u001b[0m\n\u001b[0;32m      4\u001b[0m \u001b[1;31m# Prediksi terhadap data test\u001b[0m\u001b[1;33m\u001b[0m\u001b[1;33m\u001b[0m\u001b[0m\n\u001b[0;32m      5\u001b[0m \u001b[0my_pred_fituned\u001b[0m \u001b[1;33m=\u001b[0m \u001b[0mdt_best\u001b[0m\u001b[1;33m.\u001b[0m\u001b[0mpredict\u001b[0m\u001b[1;33m(\u001b[0m\u001b[0mX_test_esfi\u001b[0m\u001b[1;33m)\u001b[0m\u001b[1;33m\u001b[0m\u001b[1;33m\u001b[0m\u001b[0m\n",
      "\u001b[1;31mNameError\u001b[0m: name 'X_train_esfi' is not defined"
     ]
    }
   ],
   "source": [
    "# Training Model Terhadap data train\n",
    "dt_best.fit(X_train_esfi, y_train)\n",
    "\n",
    "# Prediksi terhadap data test\n",
    "y_pred_fituned = dt_best.predict(X_test_esfi)\n",
    "\n",
    "# Classification report \n",
    "print(\"Decision Tree with best parameter, After Feature Selection\")\n",
    "print(\"--\"*32, \"\\n\", classification_report(y_test, y_pred_fituned))"
   ]
  },
  {
   "cell_type": "markdown",
   "metadata": {},
   "source": [
    "## Conclusion"
   ]
  },
  {
   "cell_type": "markdown",
   "metadata": {},
   "source": [
    "Berdasarkan hasil classification report dari model kita, kita dapat menyimpulkan/mengambil konklusi bahwa bila seandainya nanti kita menggunakan model kita untuk mendapatkan orang yang tepat agar bisa mendapatkan klaim asuransi atau tidak, maka kita bisa melihat dari model terbaik yang digunakan dilihat dari hasil score precision nya, berdasarkan evaluation metrics yang kita pilih yaitu f1-score.\n",
    "\n",
    "dengan menggunakan model ini, perusahaan bisa memiliki prediksi untuk rekomendasi orang-orang yang mungkin akan mendapatkan klaim asuransi atau tidak secara tepat."
   ]
  },
  {
   "cell_type": "markdown",
   "metadata": {},
   "source": [
    "## RECOMENDATION\n",
    "\n",
    "Hal-hal yang bisa dilakukan untuk mengembangkan project dan modelnya lebih baik lagi :\n",
    "- Membuat kebijakan baru yang mendorong setiap customer asuransi baru untuk mengisi semua data yang diperlukan kedepannya.\n",
    "- Menambahkan fitur2 atau kolom2 baru yang kemungkinan bisa berhubungan dengan ketertarikannya.\n",
    "- Mencoba algorithm ML yang lain dan juga mencoba hyperparameter tuning kembali, coba gunakan teknik oversampling yang berbeda juga selain Random Over Sampling, seperti SMOTENC, dll. \n",
    "- Menganalisa data-data yang model kita masih salah tebak untuk mengetahui alasannya dan karakteristiknya bagaimana."
   ]
  },
  {
   "cell_type": "markdown",
   "metadata": {},
   "source": [
    "# SAVE MODEL\n"
   ]
  },
  {
   "cell_type": "code",
   "execution_count": 55,
   "metadata": {},
   "outputs": [],
   "source": [
    "# Save model\n",
    "import pickle\n",
    "\n",
    "estimator = Pipeline([('preprocess', transformer), ('model', DecisionTreeClassifier())])\n",
    "estimator.fit(X_train, y_train)\n",
    "\n",
    "pickle.dump(estimator, open('Model_Travel_DT.sav', 'wb'))"
   ]
  },
  {
   "cell_type": "code",
   "execution_count": 56,
   "metadata": {},
   "outputs": [],
   "source": [
    "# Load model\n",
    "filename = 'Model_Travel_DT.sav'\n",
    "loaded_model = pickle.load(open(filename, 'rb'))"
   ]
  }
 ],
 "metadata": {
  "kernelspec": {
   "display_name": "Python 3.9.7 ('base')",
   "language": "python",
   "name": "python3"
  },
  "language_info": {
   "codemirror_mode": {
    "name": "ipython",
    "version": 3
   },
   "file_extension": ".py",
   "mimetype": "text/x-python",
   "name": "python",
   "nbconvert_exporter": "python",
   "pygments_lexer": "ipython3",
   "version": "3.9.7"
  },
  "orig_nbformat": 4,
  "vscode": {
   "interpreter": {
    "hash": "ad2bdc8ecc057115af97d19610ffacc2b4e99fae6737bb82f5d7fb13d2f2c186"
   }
  }
 },
 "nbformat": 4,
 "nbformat_minor": 2
}
